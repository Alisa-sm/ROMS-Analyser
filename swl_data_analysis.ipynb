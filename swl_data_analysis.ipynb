{
 "cells": [
  {
   "cell_type": "markdown",
   "metadata": {},
   "source": [
    "Import libraries"
   ]
  },
  {
   "cell_type": "code",
   "execution_count": 1,
   "metadata": {},
   "outputs": [],
   "source": [
    "import pandas as pd\n",
    "import numpy as np\n",
    "import matplotlib\n",
    "import matplotlib.pyplot as plt"
   ]
  },
  {
   "cell_type": "markdown",
   "metadata": {},
   "source": [
    "Import CSV files and store them in dataframes"
   ]
  },
  {
   "cell_type": "code",
   "execution_count": 2,
   "metadata": {},
   "outputs": [],
   "source": [
    "swl_trailblazer = pd.read_csv('swl_trailblazer.csv')\n",
    "swl_wave_1 = pd.read_csv('swl_wave_1.csv')\n",
    "croydon_wave_1 = pd.read_csv('croydon_wave_1.csv')\n",
    "kingston_wave_1 = pd.read_csv('kingston_wave_1.csv')\n",
    "richmond_wave_1 = pd.read_csv('richmond_wave_1.csv')"
   ]
  },
  {
   "cell_type": "markdown",
   "metadata": {},
   "source": [
    "Combine dataframes into one for whole analysis"
   ]
  },
  {
   "cell_type": "code",
   "execution_count": 3,
   "metadata": {},
   "outputs": [],
   "source": [
    "swl_combined = pd.concat([swl_trailblazer, swl_wave_1, croydon_wave_1, kingston_wave_1, richmond_wave_1])\n",
    "sites = ['SWL Combined','SWL Trailblazer','SWL Wave 1','Croydon Wave 1','Kingston Wave 1','Richmond Wave 1']"
   ]
  },
  {
   "cell_type": "markdown",
   "metadata": {},
   "source": [
    "<b>Summary N's</b>"
   ]
  },
  {
   "cell_type": "code",
   "execution_count": 4,
   "metadata": {},
   "outputs": [],
   "source": [
    "summary_index = ['Total number of service users','ESQ parent completions','ESQ 12-18 completions','ESQ 9-11 completions','SDQ completions','GBO completions']"
   ]
  },
  {
   "cell_type": "code",
   "execution_count": 5,
   "metadata": {},
   "outputs": [],
   "source": [
    "swl_trailblazer_exclude_parents = swl_trailblazer[swl_trailblazer.completed_by != 'parent_1']\n",
    "swl_wave_1_exclude_parents = swl_wave_1[swl_wave_1.completed_by != 'parent_1']\n",
    "croydon_wave_1_exclude_parents = croydon_wave_1[croydon_wave_1.completed_by != 'parent_1']\n",
    "kingston_wave_1_exclude_parents = kingston_wave_1[kingston_wave_1.completed_by != 'parent_1']\n",
    "richmond_wave_1_exclude_parents = richmond_wave_1[richmond_wave_1.completed_by != 'parent_1']\n",
    "swl_combined_exclude_parents = swl_combined[swl_combined.completed_by != 'parent_1']"
   ]
  },
  {
   "cell_type": "code",
   "execution_count": 6,
   "metadata": {},
   "outputs": [],
   "source": [
    "swl_trailblazer_esq_parent_completions = swl_trailblazer.esq_parent_date_t1.notnull().sum() + swl_trailblazer.esq_parent_date_t2.notnull().sum()\n",
    "swl_wave_1_esq_parent_completions = swl_wave_1.esq_parent_date_t1.notnull().sum() + swl_wave_1.esq_parent_date_t2.notnull().sum()\n",
    "croydon_wave_1_esq_parent_completions = 0\n",
    "kingston_wave_1_esq_parent_completions = 0\n",
    "richmond_wave_1_esq_parent_completions = 0\n",
    "swl_combined_esq_parent_completions = swl_trailblazer_esq_parent_completions + swl_wave_1_esq_parent_completions"
   ]
  },
  {
   "cell_type": "code",
   "execution_count": 9,
   "metadata": {},
   "outputs": [],
   "source": [
    "swl_trailblazer_esq_12_18_completions = swl_trailblazer.esq_self_12_18_date_t1.notnull().sum() + swl_trailblazer.esq_self_12_18_date_t2.notnull().sum()\n",
    "swl_wave_1_esq_12_18_completions = swl_wave_1.esq_self_12_18_date_t1.notnull().sum() + swl_wave_1.esq_self_12_18_date_t2.notnull().sum()\n",
    "croydon_wave_1_esq_12_18_completions = croydon_wave_1.esq_self_12_18_date_t1.notnull().sum() + croydon_wave_1.esq_self_12_18_date_t2.notnull().sum()\n",
    "kingston_wave_1_esq_12_18_completions = kingston_wave_1.esq_self_12_18_date_t1.notnull().sum() + kingston_wave_1.esq_self_12_18_date_t2.notnull().sum()\n",
    "richmond_wave_1_esq_12_18_completions = 0\n",
    "swl_combined_esq_12_18_completions = swl_trailblazer_esq_12_18_completions + swl_wave_1_esq_12_18_completions + croydon_wave_1_esq_12_18_completions + kingston_wave_1_esq_12_18_completions"
   ]
  },
  {
   "cell_type": "code",
   "execution_count": 10,
   "metadata": {},
   "outputs": [],
   "source": [
    "swl_trailblazer_esq_9_11_completions = swl_trailblazer.esq_self_9_11_date_t1.notnull().sum() + swl_trailblazer.esq_self_9_11_date_t2.notnull().sum()\n",
    "swl_wave_1_esq_9_11_completions = 0\n",
    "croydon_wave_1_esq_9_11_completions = 0\n",
    "kingston_wave_1_esq_9_11_completions = 0\n",
    "richmond_wave_1_esq_9_11_completions = 0\n",
    "swl_combined_esq_9_11_completions = swl_trailblazer_esq_9_11_completions"
   ]
  },
  {
   "cell_type": "code",
   "execution_count": 11,
   "metadata": {},
   "outputs": [],
   "source": [
    "swl_trailblazer_sdq_completions = swl_trailblazer.sdq_date_t1.notnull().sum() + swl_trailblazer.sdq_date_t2.notnull().sum()\n",
    "swl_wave_1_sdq_completions = swl_wave_1.sdq_date_t1.notnull().sum() + swl_wave_1.sdq_date_t2.notnull().sum()\n",
    "croydon_wave_1_sdq_completions = croydon_wave_1.sdq_date_t1.notnull().sum() + croydon_wave_1.sdq_date_t2.notnull().sum()\n",
    "kingston_wave_1_sdq_completions = kingston_wave_1.sdq_date_t1.notnull().sum() + kingston_wave_1.sdq_date_t2.notnull().sum()\n",
    "richmond_wave_1_sdq_completions = richmond_wave_1.sdq_date_t1.notnull().sum() + richmond_wave_1.sdq_date_t2.notnull().sum()\n",
    "swl_combined_sdq_completions = swl_trailblazer_sdq_completions + swl_wave_1_sdq_completions + croydon_wave_1_sdq_completions + kingston_wave_1_sdq_completions + richmond_wave_1_sdq_completions"
   ]
  },
  {
   "cell_type": "code",
   "execution_count": 12,
   "metadata": {},
   "outputs": [],
   "source": [
    "swl_trailblazer_gbo_completions = swl_trailblazer.goals_date_t1.notnull().sum() + swl_trailblazer.goals_date_t2.notnull().sum()\n",
    "swl_wave_1_gbo_completions = swl_wave_1.goals_date_t1.notnull().sum() + swl_wave_1.goals_date_t2.notnull().sum()\n",
    "croydon_wave_1_gbo_completions = croydon_wave_1.goals_date_t1.notnull().sum() + croydon_wave_1.goals_date_t2.notnull().sum()\n",
    "kingston_wave_1_gbo_completions = kingston_wave_1.goals_date_t1.notnull().sum() + kingston_wave_1.goals_date_t2.notnull().sum()\n",
    "richmond_wave_1_gbo_completions = richmond_wave_1.goals_date_t1.notnull().sum() + richmond_wave_1.goals_date_t2.notnull().sum()\n",
    "swl_combined_gbo_completions = swl_trailblazer_gbo_completions + swl_wave_1_gbo_completions + croydon_wave_1_gbo_completions + kingston_wave_1_gbo_completions + richmond_wave_1_gbo_completions"
   ]
  },
  {
   "cell_type": "code",
   "execution_count": 13,
   "metadata": {},
   "outputs": [
    {
     "data": {
      "text/html": [
       "<div>\n",
       "<style scoped>\n",
       "    .dataframe tbody tr th:only-of-type {\n",
       "        vertical-align: middle;\n",
       "    }\n",
       "\n",
       "    .dataframe tbody tr th {\n",
       "        vertical-align: top;\n",
       "    }\n",
       "\n",
       "    .dataframe thead th {\n",
       "        text-align: right;\n",
       "    }\n",
       "</style>\n",
       "<table border=\"1\" class=\"dataframe\">\n",
       "  <thead>\n",
       "    <tr style=\"text-align: right;\">\n",
       "      <th></th>\n",
       "      <th>SWL Combined</th>\n",
       "      <th>SWL Trailblazer</th>\n",
       "      <th>SWL Wave 1</th>\n",
       "      <th>Croydon Wave 1</th>\n",
       "      <th>Kingston Wave 1</th>\n",
       "      <th>Richmond Wave 1</th>\n",
       "    </tr>\n",
       "  </thead>\n",
       "  <tbody>\n",
       "    <tr>\n",
       "      <th>Total number of service users</th>\n",
       "      <td>498</td>\n",
       "      <td>310</td>\n",
       "      <td>112</td>\n",
       "      <td>24</td>\n",
       "      <td>26</td>\n",
       "      <td>26</td>\n",
       "    </tr>\n",
       "    <tr>\n",
       "      <th>ESQ parent completions</th>\n",
       "      <td>54</td>\n",
       "      <td>53</td>\n",
       "      <td>1</td>\n",
       "      <td>0</td>\n",
       "      <td>0</td>\n",
       "      <td>0</td>\n",
       "    </tr>\n",
       "    <tr>\n",
       "      <th>ESQ 12-18 completions</th>\n",
       "      <td>95</td>\n",
       "      <td>89</td>\n",
       "      <td>3</td>\n",
       "      <td>2</td>\n",
       "      <td>1</td>\n",
       "      <td>0</td>\n",
       "    </tr>\n",
       "    <tr>\n",
       "      <th>ESQ 9-11 completions</th>\n",
       "      <td>5</td>\n",
       "      <td>5</td>\n",
       "      <td>0</td>\n",
       "      <td>0</td>\n",
       "      <td>0</td>\n",
       "      <td>0</td>\n",
       "    </tr>\n",
       "    <tr>\n",
       "      <th>SDQ completions</th>\n",
       "      <td>310</td>\n",
       "      <td>215</td>\n",
       "      <td>15</td>\n",
       "      <td>21</td>\n",
       "      <td>30</td>\n",
       "      <td>29</td>\n",
       "    </tr>\n",
       "    <tr>\n",
       "      <th>GBO completions</th>\n",
       "      <td>757</td>\n",
       "      <td>545</td>\n",
       "      <td>122</td>\n",
       "      <td>17</td>\n",
       "      <td>37</td>\n",
       "      <td>36</td>\n",
       "    </tr>\n",
       "  </tbody>\n",
       "</table>\n",
       "</div>"
      ],
      "text/plain": [
       "                               SWL Combined  SWL Trailblazer  SWL Wave 1  \\\n",
       "Total number of service users           498              310         112   \n",
       "ESQ parent completions                   54               53           1   \n",
       "ESQ 12-18 completions                    95               89           3   \n",
       "ESQ 9-11 completions                      5                5           0   \n",
       "SDQ completions                         310              215          15   \n",
       "GBO completions                         757              545         122   \n",
       "\n",
       "                               Croydon Wave 1  Kingston Wave 1  \\\n",
       "Total number of service users              24               26   \n",
       "ESQ parent completions                      0                0   \n",
       "ESQ 12-18 completions                       2                1   \n",
       "ESQ 9-11 completions                        0                0   \n",
       "SDQ completions                            21               30   \n",
       "GBO completions                            17               37   \n",
       "\n",
       "                               Richmond Wave 1  \n",
       "Total number of service users               26  \n",
       "ESQ parent completions                       0  \n",
       "ESQ 12-18 completions                        0  \n",
       "ESQ 9-11 completions                         0  \n",
       "SDQ completions                             29  \n",
       "GBO completions                             36  "
      ]
     },
     "execution_count": 13,
     "metadata": {},
     "output_type": "execute_result"
    }
   ],
   "source": [
    "summary_n_stats = pd.DataFrame({'SWL Combined': [swl_combined_exclude_parents.shape[0], swl_combined_esq_parent_completions, swl_combined_esq_12_18_completions, swl_combined_esq_9_11_completions, swl_combined_sdq_completions, swl_combined_gbo_completions],\n",
    "                               'SWL Trailblazer': [swl_trailblazer_exclude_parents.shape[0], swl_trailblazer_esq_parent_completions, swl_trailblazer_esq_12_18_completions, swl_trailblazer_esq_9_11_completions, swl_trailblazer_sdq_completions, swl_trailblazer_gbo_completions],\n",
    "                               'SWL Wave 1': [swl_wave_1_exclude_parents.shape[0], swl_wave_1_esq_parent_completions, swl_wave_1_esq_12_18_completions, swl_wave_1_esq_9_11_completions, swl_wave_1_sdq_completions, swl_wave_1_gbo_completions], \n",
    "                               'Croydon Wave 1': [croydon_wave_1_exclude_parents.shape[0], croydon_wave_1_esq_parent_completions, croydon_wave_1_esq_12_18_completions, croydon_wave_1_esq_9_11_completions, croydon_wave_1_sdq_completions, croydon_wave_1_gbo_completions],\n",
    "                               'Kingston Wave 1': [kingston_wave_1_exclude_parents.shape[0], kingston_wave_1_esq_parent_completions, kingston_wave_1_esq_12_18_completions, kingston_wave_1_esq_9_11_completions, kingston_wave_1_sdq_completions, kingston_wave_1_gbo_completions],\n",
    "                               'Richmond Wave 1': [richmond_wave_1_exclude_parents.shape[0], richmond_wave_1_esq_parent_completions, richmond_wave_1_esq_12_18_completions, richmond_wave_1_esq_9_11_completions, richmond_wave_1_sdq_completions, richmond_wave_1_gbo_completions]})\n",
    "summary_n_stats.index = summary_index\n",
    "summary_n_stats"
   ]
  },
  {
   "cell_type": "markdown",
   "metadata": {},
   "source": [
    "<b>ESQ Analysis</b><br>\n",
    "Low number of ESQ completions for 9-11 across the board. Only SWL trailblazer has enough ESQ completions to do an analysis. <br>\n",
    "Overall ESQ comparison then broken down into ESQ parent and 12-18"
   ]
  },
  {
   "cell_type": "code",
   "execution_count": 14,
   "metadata": {},
   "outputs": [
    {
     "name": "stdout",
     "output_type": "stream",
     "text": [
      "ESQ Parent paired completions:  2\n",
      "ESQ 12-18 paired completions:  2\n"
     ]
    }
   ],
   "source": [
    "swl_trailblazer_esq_parent_paired_completions = swl_trailblazer.esq_parent_date_t2.notnull().sum()\n",
    "swl_trailblazer_esq_12_18_paired_completions = swl_trailblazer.esq_parent_date_t2.notnull().sum()\n",
    "print('ESQ Parent paired completions: ', swl_trailblazer_esq_parent_paired_completions)\n",
    "print('ESQ 12-18 paired completions: ', swl_trailblazer_esq_12_18_paired_completions)"
   ]
  },
  {
   "cell_type": "markdown",
   "metadata": {},
   "source": [
    "Low number of paired completions to do a paired T-Test. See average ESQ scores for each type (scored out of 12)."
   ]
  },
  {
   "cell_type": "code",
   "execution_count": 15,
   "metadata": {},
   "outputs": [
    {
     "name": "stdout",
     "output_type": "stream",
     "text": [
      "Average ESQ Parent Score:  11.0\n",
      "Average ESQ Self 12-18 Score:  10.0\n"
     ]
    }
   ],
   "source": [
    "swl_trailblazer_esq_parent_df = swl_trailblazer.iloc[:, 86:118]\n",
    "swl_trailblazer_esq_parent_certainly = (swl_trailblazer_esq_parent_df.values == 3).sum()\n",
    "swl_trailblazer_esq_self_12_18_df = swl_trailblazer.iloc[:, 119:150]\n",
    "swl_trailblazer_esq_self_12_18_certainly = (swl_trailblazer_esq_self_12_18_df.values == 3).sum()\n",
    "\n",
    "swl_trailblazer_avg_esq_parent = np.round(swl_trailblazer_esq_parent_certainly/swl_trailblazer_esq_parent_completions)\n",
    "swl_trailblazer_avg_esq_self_12_18 = np.round(swl_trailblazer_esq_self_12_18_certainly/swl_trailblazer_esq_12_18_completions)\n",
    "\n",
    "print('Average ESQ Parent Score: ',swl_trailblazer_avg_esq_parent)\n",
    "print('Average ESQ Self 12-18 Score: ', swl_trailblazer_avg_esq_self_12_18)"
   ]
  },
  {
   "cell_type": "markdown",
   "metadata": {},
   "source": [
    "<b>GBO Analysis</b>"
   ]
  },
  {
   "cell_type": "markdown",
   "metadata": {},
   "source": [
    "Average pre and post scores across the sites"
   ]
  },
  {
   "cell_type": "code",
   "execution_count": 16,
   "metadata": {},
   "outputs": [],
   "source": [
    "def calculate_avg_gbo(df):\n",
    "    g1_avg_t1 = df['goals_g1score_t1'].mean()\n",
    "    g2_avg_t1 = df['goals_g2score_t1'].mean()\n",
    "    g3_avg_t1 = df['goals_g3score_t1'].mean()\n",
    "    g1_avg_t2 = df['goals_g1score_t2'].mean()\n",
    "    g2_avg_t2 = df['goals_g2score_t2'].mean()\n",
    "    g3_avg_t2 = df['goals_g3score_t2'].mean()\n",
    "    gbo_avg_t1 = np.round((g1_avg_t1 + g2_avg_t1 + g3_avg_t1)/3,2)\n",
    "    gbo_avg_t2 = np.round((g1_avg_t2 + g2_avg_t2 + g3_avg_t2)/3,2)\n",
    "    \n",
    "    print('GBO T1 Avg: ', gbo_avg_t1)\n",
    "    print('GBO T2 Avg: ', gbo_avg_t2)       "
   ]
  },
  {
   "cell_type": "code",
   "execution_count": 17,
   "metadata": {},
   "outputs": [
    {
     "name": "stdout",
     "output_type": "stream",
     "text": [
      "GBO T1 Avg:  3.18\n",
      "GBO T2 Avg:  6.82\n"
     ]
    }
   ],
   "source": [
    "calculate_avg_gbo(swl_combined)"
   ]
  },
  {
   "cell_type": "code",
   "execution_count": 18,
   "metadata": {},
   "outputs": [
    {
     "name": "stdout",
     "output_type": "stream",
     "text": [
      "GBO T1 Avg:  2.6\n",
      "GBO T2 Avg:  6.77\n"
     ]
    }
   ],
   "source": [
    "calculate_avg_gbo(swl_trailblazer)"
   ]
  },
  {
   "cell_type": "code",
   "execution_count": 19,
   "metadata": {},
   "outputs": [
    {
     "name": "stdout",
     "output_type": "stream",
     "text": [
      "GBO T1 Avg:  5.88\n",
      "GBO T2 Avg:  7.27\n"
     ]
    }
   ],
   "source": [
    "calculate_avg_gbo(swl_wave_1)"
   ]
  },
  {
   "cell_type": "code",
   "execution_count": 20,
   "metadata": {},
   "outputs": [
    {
     "name": "stdout",
     "output_type": "stream",
     "text": [
      "GBO T1 Avg:  2.83\n",
      "GBO T2 Avg:  7.54\n"
     ]
    }
   ],
   "source": [
    "calculate_avg_gbo(croydon_wave_1)"
   ]
  },
  {
   "cell_type": "code",
   "execution_count": 21,
   "metadata": {},
   "outputs": [
    {
     "name": "stdout",
     "output_type": "stream",
     "text": [
      "GBO T1 Avg:  0.62\n",
      "GBO T2 Avg:  5.94\n"
     ]
    }
   ],
   "source": [
    "calculate_avg_gbo(kingston_wave_1)"
   ]
  },
  {
   "cell_type": "code",
   "execution_count": 22,
   "metadata": {},
   "outputs": [
    {
     "name": "stdout",
     "output_type": "stream",
     "text": [
      "GBO T1 Avg:  2.64\n",
      "GBO T2 Avg:  7.66\n"
     ]
    }
   ],
   "source": [
    "calculate_avg_gbo(richmond_wave_1)"
   ]
  },
  {
   "cell_type": "code",
   "execution_count": 23,
   "metadata": {},
   "outputs": [
    {
     "data": {
      "text/html": [
       "<div>\n",
       "<style scoped>\n",
       "    .dataframe tbody tr th:only-of-type {\n",
       "        vertical-align: middle;\n",
       "    }\n",
       "\n",
       "    .dataframe tbody tr th {\n",
       "        vertical-align: top;\n",
       "    }\n",
       "\n",
       "    .dataframe thead th {\n",
       "        text-align: right;\n",
       "    }\n",
       "</style>\n",
       "<table border=\"1\" class=\"dataframe\">\n",
       "  <thead>\n",
       "    <tr style=\"text-align: right;\">\n",
       "      <th></th>\n",
       "      <th>SWL Combined</th>\n",
       "      <th>SWL Trailblazer</th>\n",
       "      <th>SWL Wave 1</th>\n",
       "      <th>Croydon Wave 1</th>\n",
       "      <th>Kingston Wave 1</th>\n",
       "      <th>Richmond Wave 1</th>\n",
       "    </tr>\n",
       "  </thead>\n",
       "  <tbody>\n",
       "    <tr>\n",
       "      <th>GBO Average Score (T1)</th>\n",
       "      <td>3.18</td>\n",
       "      <td>6.77</td>\n",
       "      <td>5.88</td>\n",
       "      <td>2.83</td>\n",
       "      <td>0.62</td>\n",
       "      <td>2.64</td>\n",
       "    </tr>\n",
       "    <tr>\n",
       "      <th>GBO Average Score (T2)</th>\n",
       "      <td>6.82</td>\n",
       "      <td>2.60</td>\n",
       "      <td>7.27</td>\n",
       "      <td>7.54</td>\n",
       "      <td>5.94</td>\n",
       "      <td>7.66</td>\n",
       "    </tr>\n",
       "    <tr>\n",
       "      <th>Change</th>\n",
       "      <td>3.64</td>\n",
       "      <td>4.17</td>\n",
       "      <td>1.39</td>\n",
       "      <td>4.71</td>\n",
       "      <td>5.32</td>\n",
       "      <td>5.02</td>\n",
       "    </tr>\n",
       "  </tbody>\n",
       "</table>\n",
       "</div>"
      ],
      "text/plain": [
       "                        SWL Combined  SWL Trailblazer  SWL Wave 1  \\\n",
       "GBO Average Score (T1)          3.18             6.77        5.88   \n",
       "GBO Average Score (T2)          6.82             2.60        7.27   \n",
       "Change                          3.64             4.17        1.39   \n",
       "\n",
       "                        Croydon Wave 1  Kingston Wave 1  Richmond Wave 1  \n",
       "GBO Average Score (T1)            2.83             0.62             2.64  \n",
       "GBO Average Score (T2)            7.54             5.94             7.66  \n",
       "Change                            4.71             5.32             5.02  "
      ]
     },
     "execution_count": 23,
     "metadata": {},
     "output_type": "execute_result"
    }
   ],
   "source": [
    "gbo_avg_table = pd.DataFrame({'SWL Combined': [3.18, 6.82, 6.82-3.18],\n",
    "                             'SWL Trailblazer': [6.77, 2.60, 6.77-2.60],\n",
    "                             'SWL Wave 1': [5.88, 7.27, 7.27-5.88],\n",
    "                             'Croydon Wave 1': [2.83, 7.54, 7.54-2.83],\n",
    "                             'Kingston Wave 1': [0.62, 5.94, 5.94-0.62],\n",
    "                             'Richmond Wave 1': [2.64, 7.66, 7.66-2.64]})\n",
    "gbo_avg_table.index = ['GBO Average Score (T1)','GBO Average Score (T2)','Change']\n",
    "gbo_avg_table"
   ]
  },
  {
   "cell_type": "code",
   "execution_count": 24,
   "metadata": {},
   "outputs": [
    {
     "data": {
      "image/png": "[encoded data removed]",
      "text/plain": [
       "<Figure size 720x360 with 1 Axes>"
      ]
     },
     "metadata": {
      "needs_background": "light"
     },
     "output_type": "display_data"
    }
   ],
   "source": [
    "gbo_avgs_t1 = [3.18,6.77,5.88,2.83,0.62,2.64]\n",
    "gbo_avgs_t2 = [6.82,2.60,7.27,7.54,5.94,7.66]\n",
    "\n",
    "x = np.arange(len(sites))\n",
    "width = 0.35\n",
    "\n",
    "fig, ax = plt.subplots(figsize=(10,5))\n",
    "rects1 = ax.bar(x - width/2, gbo_avgs_t1, width, label='T1')\n",
    "rects2 = ax.bar(x + width/2, gbo_avgs_t2, width, label='T2')\n",
    "\n",
    "ax.set_ylabel('Average GBO Score')\n",
    "ax.set_title('Average GBO Score at T1 and T2')\n",
    "ax.set_xticks(x)\n",
    "ax.set_xticklabels(sites)\n",
    "ax.legend()\n",
    "\n",
    "def autolabel(rects):\n",
    "    for rect in rects:\n",
    "        height = rect.get_height()\n",
    "        ax.annotate('{}'.format(height),\n",
    "                   xy=(rect.get_x() + rect.get_width()/2, height),\n",
    "                   xytext=(0,3),\n",
    "                   textcoords=\"offset points\",\n",
    "                   ha='center', va='bottom')\n",
    "\n",
    "autolabel(rects1)\n",
    "autolabel(rects2)\n",
    "\n",
    "fig.tight_layout()\n",
    "\n",
    "plt.show()"
   ]
  },
  {
   "cell_type": "markdown",
   "metadata": {},
   "source": [
    "You could do a significance test to see if the averages are statistically significant. We will leave this out because it seems that this is more of a research question rather than an evaluation? We also don't have the expertise to know which normality test to conduct and whether this needs to be done for the whole dataset or T1+T2 separately. Doing a paired T-Test would be invalid if normality is rejected. We also do not know the mechanics behind Wilcoxon Signed Ranked test. We will leave this to a statistician."
   ]
  },
  {
   "cell_type": "markdown",
   "metadata": {},
   "source": [
    "Calculating reliable improvement"
   ]
  },
  {
   "cell_type": "code",
   "execution_count": 25,
   "metadata": {},
   "outputs": [],
   "source": [
    "def gbo_reliable_change(df):\n",
    "    reliable_improvement = 0\n",
    "    no_change = 0\n",
    "    reliable_deterioration = 0\n",
    "    for index, row in df.iterrows():\n",
    "        goals_average_change = ((row['goals_g1score_t2']+row['goals_g2score_t2']+row['goals_g3score_t2'])/3) - ((row['goals_g1score_t1']+row['goals_g2score_t1']+row['goals_g3score_t1'])/3)\n",
    "        if row['goals_g1score_t2'] >= 0:\n",
    "            if goals_average_change > 2.45:\n",
    "                reliable_improvement += 1\n",
    "            elif goals_average_change < -2.45:\n",
    "                reliable_deterioration += 1\n",
    "            else:\n",
    "                no_change += 1\n",
    "    print('Reliable improvement: ', reliable_improvement)\n",
    "    print('No Change: ', no_change)\n",
    "    print('Reliable Deterioration: ', reliable_deterioration)"
   ]
  },
  {
   "cell_type": "code",
   "execution_count": 26,
   "metadata": {},
   "outputs": [
    {
     "name": "stdout",
     "output_type": "stream",
     "text": [
      "Reliable improvement:  166\n",
      "No Change:  141\n",
      "Reliable Deterioration:  1\n"
     ]
    }
   ],
   "source": [
    "gbo_reliable_change(swl_combined)"
   ]
  },
  {
   "cell_type": "code",
   "execution_count": 27,
   "metadata": {},
   "outputs": [
    {
     "name": "stdout",
     "output_type": "stream",
     "text": [
      "Reliable improvement:  137\n",
      "No Change:  113\n",
      "Reliable Deterioration:  1\n"
     ]
    }
   ],
   "source": [
    "gbo_reliable_change(swl_trailblazer)"
   ]
  },
  {
   "cell_type": "code",
   "execution_count": 28,
   "metadata": {},
   "outputs": [
    {
     "name": "stdout",
     "output_type": "stream",
     "text": [
      "Reliable improvement:  6\n",
      "No Change:  10\n",
      "Reliable Deterioration:  0\n"
     ]
    }
   ],
   "source": [
    "gbo_reliable_change(swl_wave_1)"
   ]
  },
  {
   "cell_type": "code",
   "execution_count": 29,
   "metadata": {},
   "outputs": [
    {
     "name": "stdout",
     "output_type": "stream",
     "text": [
      "Reliable improvement:  3\n",
      "No Change:  5\n",
      "Reliable Deterioration:  0\n"
     ]
    }
   ],
   "source": [
    "gbo_reliable_change(croydon_wave_1)"
   ]
  },
  {
   "cell_type": "code",
   "execution_count": 30,
   "metadata": {},
   "outputs": [
    {
     "name": "stdout",
     "output_type": "stream",
     "text": [
      "Reliable improvement:  11\n",
      "No Change:  7\n",
      "Reliable Deterioration:  0\n"
     ]
    }
   ],
   "source": [
    "gbo_reliable_change(richmond_wave_1)"
   ]
  },
  {
   "cell_type": "code",
   "execution_count": 31,
   "metadata": {},
   "outputs": [
    {
     "name": "stdout",
     "output_type": "stream",
     "text": [
      "Reliable improvement:  9\n",
      "No Change:  6\n",
      "Reliable Deterioration:  0\n"
     ]
    }
   ],
   "source": [
    "gbo_reliable_change(kingston_wave_1)"
   ]
  },
  {
   "cell_type": "code",
   "execution_count": 32,
   "metadata": {},
   "outputs": [
    {
     "data": {
      "text/html": [
       "<div>\n",
       "<style scoped>\n",
       "    .dataframe tbody tr th:only-of-type {\n",
       "        vertical-align: middle;\n",
       "    }\n",
       "\n",
       "    .dataframe tbody tr th {\n",
       "        vertical-align: top;\n",
       "    }\n",
       "\n",
       "    .dataframe thead th {\n",
       "        text-align: right;\n",
       "    }\n",
       "</style>\n",
       "<table border=\"1\" class=\"dataframe\">\n",
       "  <thead>\n",
       "    <tr style=\"text-align: right;\">\n",
       "      <th></th>\n",
       "      <th>SWL Combined</th>\n",
       "      <th>SWL Trailblazer</th>\n",
       "      <th>SWL Wave 1</th>\n",
       "      <th>Croydon Wave 1</th>\n",
       "      <th>Richmond Wave 1</th>\n",
       "      <th>Kingston Wave 1</th>\n",
       "    </tr>\n",
       "  </thead>\n",
       "  <tbody>\n",
       "    <tr>\n",
       "      <th>Reliable Improvement N</th>\n",
       "      <td>166</td>\n",
       "      <td>137</td>\n",
       "      <td>6</td>\n",
       "      <td>3</td>\n",
       "      <td>11</td>\n",
       "      <td>9</td>\n",
       "    </tr>\n",
       "    <tr>\n",
       "      <th>No Change N</th>\n",
       "      <td>141</td>\n",
       "      <td>113</td>\n",
       "      <td>10</td>\n",
       "      <td>5</td>\n",
       "      <td>7</td>\n",
       "      <td>6</td>\n",
       "    </tr>\n",
       "    <tr>\n",
       "      <th>Reliable Deterioration N</th>\n",
       "      <td>1</td>\n",
       "      <td>1</td>\n",
       "      <td>0</td>\n",
       "      <td>0</td>\n",
       "      <td>0</td>\n",
       "      <td>0</td>\n",
       "    </tr>\n",
       "    <tr>\n",
       "      <th>Total Paired GBO Completions N</th>\n",
       "      <td>308</td>\n",
       "      <td>251</td>\n",
       "      <td>16</td>\n",
       "      <td>8</td>\n",
       "      <td>18</td>\n",
       "      <td>15</td>\n",
       "    </tr>\n",
       "  </tbody>\n",
       "</table>\n",
       "</div>"
      ],
      "text/plain": [
       "                                SWL Combined  SWL Trailblazer  SWL Wave 1  \\\n",
       "Reliable Improvement N                   166              137           6   \n",
       "No Change N                              141              113          10   \n",
       "Reliable Deterioration N                   1                1           0   \n",
       "Total Paired GBO Completions N           308              251          16   \n",
       "\n",
       "                                Croydon Wave 1  Richmond Wave 1  \\\n",
       "Reliable Improvement N                       3               11   \n",
       "No Change N                                  5                7   \n",
       "Reliable Deterioration N                     0                0   \n",
       "Total Paired GBO Completions N               8               18   \n",
       "\n",
       "                                Kingston Wave 1  \n",
       "Reliable Improvement N                        9  \n",
       "No Change N                                   6  \n",
       "Reliable Deterioration N                      0  \n",
       "Total Paired GBO Completions N               15  "
      ]
     },
     "execution_count": 32,
     "metadata": {},
     "output_type": "execute_result"
    }
   ],
   "source": [
    "gbo_reliable_change_table = pd.DataFrame({'SWL Combined':[166,141,1,166+141+1],\n",
    "                                         'SWL Trailblazer':[137,113,1,137+113+1],\n",
    "                                         'SWL Wave 1':[6,10,0,16],\n",
    "                                         'Croydon Wave 1':[3,5,0,8],\n",
    "                                         'Richmond Wave 1':[11,7,0,11+7],\n",
    "                                         'Kingston Wave 1':[9,6,0,15]})\n",
    "gbo_reliable_change_table.index = ['Reliable Improvement N','No Change N','Reliable Deterioration N','Total Paired GBO Completions N']\n",
    "gbo_reliable_change_table"
   ]
  },
  {
   "cell_type": "markdown",
   "metadata": {},
   "source": [
    "Convert SWL Combined column to percentages"
   ]
  },
  {
   "cell_type": "code",
   "execution_count": 33,
   "metadata": {},
   "outputs": [
    {
     "name": "stdout",
     "output_type": "stream",
     "text": [
      "% of paired completions that showed reliable improvement:  54.0\n",
      "% of paired completions that showed no change:  46.0\n",
      "% of paired completions that showed reliable deterioration:  0.0\n"
     ]
    }
   ],
   "source": [
    "print('% of paired completions that showed reliable improvement: ', np.round((166/308)*100))\n",
    "print('% of paired completions that showed no change: ', np.round((141/308)*100))\n",
    "print('% of paired completions that showed reliable deterioration: ', np.round((1/308)*100))"
   ]
  },
  {
   "cell_type": "markdown",
   "metadata": {},
   "source": [
    "<b>SDQ Analysis</b>"
   ]
  },
  {
   "cell_type": "code",
   "execution_count": 34,
   "metadata": {},
   "outputs": [],
   "source": [
    "swl_combined_sdq_total_avg_t1 = np.round(swl_combined.sdq_total_t1.mean(), 2)\n",
    "swl_combined_sdq_total_avg_t2 = np.round(swl_combined.sdq_total_t2.mean(), 2)\n",
    "swl_trailblazer_sdq_total_avg_t1 = np.round(swl_trailblazer.sdq_total_t1.mean(), 2)\n",
    "swl_trailblazer_sdq_total_avg_t2 = np.round(swl_trailblazer.sdq_total_t2.mean(), 2)\n",
    "swl_wave_1_sdq_total_avg_t1 = np.round(swl_wave_1.sdq_total_t1.mean(), 2)\n",
    "swl_wave_1_sdq_total_avg_t2 = np.round(swl_wave_1.sdq_total_t2.mean(), 2)\n",
    "croydon_wave_1_sdq_total_avg_t1 = np.round(croydon_wave_1.sdq_total_t1.mean(), 2)\n",
    "croydon_wave_1_sdq_total_avg_t2 = np.round(croydon_wave_1.sdq_total_t2.mean(), 2)\n",
    "richmond_wave_1_sdq_total_avg_t1 = np.round(richmond_wave_1.sdq_total_t1.mean(), 2)\n",
    "richmond_wave_1_sdq_total_avg_t2 = np.round(richmond_wave_1.sdq_total_t2.mean(), 2)\n",
    "kingston_wave_1_sdq_total_avg_t1 = np.round(kingston_wave_1.sdq_total_t1.mean(), 2)\n",
    "kingston_wave_1_sdq_total_avg_t2 = np.round(kingston_wave_1.sdq_total_t2.mean(), 2)"
   ]
  },
  {
   "cell_type": "code",
   "execution_count": 35,
   "metadata": {},
   "outputs": [
    {
     "data": {
      "text/html": [
       "<div>\n",
       "<style scoped>\n",
       "    .dataframe tbody tr th:only-of-type {\n",
       "        vertical-align: middle;\n",
       "    }\n",
       "\n",
       "    .dataframe tbody tr th {\n",
       "        vertical-align: top;\n",
       "    }\n",
       "\n",
       "    .dataframe thead th {\n",
       "        text-align: right;\n",
       "    }\n",
       "</style>\n",
       "<table border=\"1\" class=\"dataframe\">\n",
       "  <thead>\n",
       "    <tr style=\"text-align: right;\">\n",
       "      <th></th>\n",
       "      <th>SWL Combined</th>\n",
       "      <th>SWL Trailblazer</th>\n",
       "      <th>SWL Wave 1</th>\n",
       "      <th>Croydon Wave 1</th>\n",
       "      <th>Kingston Wave 1</th>\n",
       "      <th>Richmond Wave 1</th>\n",
       "    </tr>\n",
       "  </thead>\n",
       "  <tbody>\n",
       "    <tr>\n",
       "      <th>SDQ Total T1 Average Score</th>\n",
       "      <td>17.75</td>\n",
       "      <td>17.83</td>\n",
       "      <td>18.64</td>\n",
       "      <td>18.15</td>\n",
       "      <td>17.24</td>\n",
       "      <td>17.22</td>\n",
       "    </tr>\n",
       "    <tr>\n",
       "      <th>SDQ Total T2 Average Score</th>\n",
       "      <td>12.10</td>\n",
       "      <td>12.19</td>\n",
       "      <td>14.50</td>\n",
       "      <td>12.75</td>\n",
       "      <td>8.40</td>\n",
       "      <td>10.50</td>\n",
       "    </tr>\n",
       "    <tr>\n",
       "      <th>Change</th>\n",
       "      <td>-5.65</td>\n",
       "      <td>-5.64</td>\n",
       "      <td>-4.14</td>\n",
       "      <td>-5.40</td>\n",
       "      <td>-8.84</td>\n",
       "      <td>-6.72</td>\n",
       "    </tr>\n",
       "  </tbody>\n",
       "</table>\n",
       "</div>"
      ],
      "text/plain": [
       "                            SWL Combined  SWL Trailblazer  SWL Wave 1  \\\n",
       "SDQ Total T1 Average Score         17.75            17.83       18.64   \n",
       "SDQ Total T2 Average Score         12.10            12.19       14.50   \n",
       "Change                             -5.65            -5.64       -4.14   \n",
       "\n",
       "                            Croydon Wave 1  Kingston Wave 1  Richmond Wave 1  \n",
       "SDQ Total T1 Average Score           18.15            17.24            17.22  \n",
       "SDQ Total T2 Average Score           12.75             8.40            10.50  \n",
       "Change                               -5.40            -8.84            -6.72  "
      ]
     },
     "execution_count": 35,
     "metadata": {},
     "output_type": "execute_result"
    }
   ],
   "source": [
    "sdq_avg_table = pd.DataFrame({'SWL Combined':[swl_combined_sdq_total_avg_t1, swl_combined_sdq_total_avg_t2, swl_combined_sdq_total_avg_t2-swl_combined_sdq_total_avg_t1],\n",
    "                             'SWL Trailblazer': [swl_trailblazer_sdq_total_avg_t1, swl_trailblazer_sdq_total_avg_t2, swl_trailblazer_sdq_total_avg_t2-swl_trailblazer_sdq_total_avg_t1],\n",
    "                             'SWL Wave 1': [swl_wave_1_sdq_total_avg_t1, swl_wave_1_sdq_total_avg_t2, swl_wave_1_sdq_total_avg_t2-swl_wave_1_sdq_total_avg_t1],\n",
    "                             'Croydon Wave 1': [croydon_wave_1_sdq_total_avg_t1, croydon_wave_1_sdq_total_avg_t2, croydon_wave_1_sdq_total_avg_t2-croydon_wave_1_sdq_total_avg_t1],\n",
    "                             'Kingston Wave 1': [kingston_wave_1_sdq_total_avg_t1, kingston_wave_1_sdq_total_avg_t2, kingston_wave_1_sdq_total_avg_t2-kingston_wave_1_sdq_total_avg_t1],\n",
    "                             'Richmond Wave 1': [richmond_wave_1_sdq_total_avg_t1, richmond_wave_1_sdq_total_avg_t2, richmond_wave_1_sdq_total_avg_t2-richmond_wave_1_sdq_total_avg_t1],})\n",
    "sdq_avg_table.index = ['SDQ Total T1 Average Score','SDQ Total T2 Average Score','Change']\n",
    "sdq_avg_table"
   ]
  },
  {
   "cell_type": "code",
   "execution_count": 36,
   "metadata": {},
   "outputs": [
    {
     "data": {
      "image/png": "[encoded data removed]",
      "text/plain": [
       "<Figure size 720x360 with 1 Axes>"
      ]
     },
     "metadata": {
      "needs_background": "light"
     },
     "output_type": "display_data"
    }
   ],
   "source": [
    "sdq_avgs_t1 = [17.75,17.83,18.64,18.15,17.24,17.22]\n",
    "sdq_avgs_t2 = [12.10,12.19,14.50,12.75,8.40,10.50]\n",
    "\n",
    "x = np.arange(len(sites))\n",
    "width = 0.35\n",
    "\n",
    "fig, ax = plt.subplots(figsize=(10,5))\n",
    "rects1 = ax.bar(x - width/2, sdq_avgs_t1, width, label='T1')\n",
    "rects2 = ax.bar(x + width/2, sdq_avgs_t2, width, label='T2')\n",
    "\n",
    "ax.set_ylabel('Average SDQ Score')\n",
    "ax.set_title('Average SDQ Score at T1 and T2')\n",
    "ax.set_xticks(x)\n",
    "ax.set_xticklabels(sites)\n",
    "ax.legend()\n",
    "\n",
    "def autolabel(rects):\n",
    "    for rect in rects:\n",
    "        height = rect.get_height()\n",
    "        ax.annotate('{}'.format(height),\n",
    "                   xy=(rect.get_x() + rect.get_width()/2, height),\n",
    "                   xytext=(0,3),\n",
    "                   textcoords=\"offset points\",\n",
    "                   ha='center', va='bottom')\n",
    "\n",
    "autolabel(rects1)\n",
    "autolabel(rects2)\n",
    "\n",
    "fig.tight_layout()\n",
    "\n",
    "plt.show()"
   ]
  },
  {
   "cell_type": "code",
   "execution_count": 37,
   "metadata": {},
   "outputs": [],
   "source": [
    "def impact_scores(df):\n",
    "    sdq_distress_t1 = np.round(df['sdq_impact_distress_t1'].mean(),2)\n",
    "    sdq_homelife_t1 = np.round(df['sdq_impact_homelife_t1'].mean(),2)\n",
    "    sdq_friendship_t1 = np.round(df['sdq_impact_friendship_t1'].mean(),2)\n",
    "    sdq_learning_t1 = np.round(df['sdq_impact_learning_t1'].mean(),2)\n",
    "    sdq_leisure_t1 = np.round(df['sdq_impact_leisure_t1'].mean(),2)\n",
    "    sdq_distress_t2 = np.round(df['sdq_impact_distress_t2'].mean(),2)\n",
    "    sdq_homelife_t2 = np.round(df['sdq_impact_homelife_t2'].mean(),2)\n",
    "    sdq_friendship_t2 = np.round(df['sdq_impact_friendship_t2'].mean(),2)\n",
    "    sdq_learning_t2 = np.round(df['sdq_impact_learning_t2'].mean(),2)\n",
    "    sdq_leisure_t2 = np.round(df['sdq_impact_leisure_t2'].mean(),2)\n",
    "    \n",
    "    impact_scores_table = pd.DataFrame({'Distress':[sdq_distress_t1, sdq_distress_t2],\n",
    "                                       'Homelife':[sdq_homelife_t1, sdq_homelife_t2],\n",
    "                                       'Friendship':[sdq_friendship_t1, sdq_friendship_t2],\n",
    "                                       'Learning':[sdq_learning_t1, sdq_learning_t2],\n",
    "                                       'Leisure':[sdq_leisure_t1, sdq_leisure_t2]})\n",
    "    impact_scores_table.index = ['T1','T2']\n",
    "    print(impact_scores_table)\n",
    "    \n",
    "    sdq_labels = ['Distress','Homelife','Friendship','Learning','Leisure']\n",
    "    sdq_t1_impacts = [sdq_distress_t1, sdq_homelife_t1, sdq_friendship_t1, sdq_learning_t1, sdq_leisure_t1]\n",
    "    sdq_t2_impacts = [sdq_distress_t2, sdq_homelife_t2, sdq_friendship_t2, sdq_learning_t2, sdq_leisure_t2]\n",
    "\n",
    "    x = np.arange(len(sdq_labels))\n",
    "    width = 0.35\n",
    "\n",
    "    fig, ax = plt.subplots(figsize=(10,5))\n",
    "    rectsss1 = ax.bar(x - width/2, sdq_t1_impacts, width, label='T1')\n",
    "    rectsss2 = ax.bar(x + width/2, sdq_t2_impacts, width, label='T2')\n",
    "\n",
    "    ax.set_ylabel('Impact Score')\n",
    "    ax.set_title('Average Impact Score for T1 and T2')\n",
    "    ax.set_xticks(x)\n",
    "    ax.set_xticklabels(sdq_labels)\n",
    "    ax.legend()\n",
    "\n",
    "    def autolabel(rects):\n",
    "        for rect in rects:\n",
    "            height = rect.get_height()\n",
    "            ax.annotate('{}'.format(height),\n",
    "                       xy=(rect.get_x() + rect.get_width()/2, height),\n",
    "                       xytext=(0, 3),\n",
    "                       textcoords=\"offset points\",\n",
    "                       ha='center', va='bottom')\n",
    "\n",
    "    autolabel(rectsss1)\n",
    "    autolabel(rectsss2)\n",
    "\n",
    "    fig.tight_layout()\n",
    "\n",
    "    plt.show()"
   ]
  },
  {
   "cell_type": "code",
   "execution_count": 38,
   "metadata": {},
   "outputs": [
    {
     "name": "stdout",
     "output_type": "stream",
     "text": [
      "    Distress  Homelife  Friendship  Learning  Leisure\n",
      "T1      1.15      0.99        0.47      0.58     0.50\n",
      "T2      0.61      0.44        0.20      0.29     0.21\n"
     ]
    },
    {
     "data": {
      "image/png": "[encoded data removed]",
      "text/plain": [
       "<Figure size 720x360 with 1 Axes>"
      ]
     },
     "metadata": {
      "needs_background": "light"
     },
     "output_type": "display_data"
    }
   ],
   "source": [
    "impact_scores(swl_combined)"
   ]
  },
  {
   "cell_type": "code",
   "execution_count": 39,
   "metadata": {},
   "outputs": [
    {
     "name": "stdout",
     "output_type": "stream",
     "text": [
      "    Distress  Homelife  Friendship  Learning  Leisure\n",
      "T1      1.11      0.97        0.45      0.48     0.50\n",
      "T2      0.54      0.38        0.24      0.26     0.22\n"
     ]
    },
    {
     "data": {
      "image/png": "[encoded data removed]",
      "text/plain": [
       "<Figure size 720x360 with 1 Axes>"
      ]
     },
     "metadata": {
      "needs_background": "light"
     },
     "output_type": "display_data"
    }
   ],
   "source": [
    "impact_scores(swl_trailblazer)"
   ]
  },
  {
   "cell_type": "code",
   "execution_count": 40,
   "metadata": {},
   "outputs": [
    {
     "name": "stdout",
     "output_type": "stream",
     "text": [
      "    Distress  Homelife  Friendship  Learning  Leisure\n",
      "T1      0.60      0.90         0.1       0.9      0.4\n",
      "T2      1.33      1.67         0.0       1.0      0.0\n"
     ]
    },
    {
     "data": {
      "image/png": "[encoded data removed]",
      "text/plain": [
       "<Figure size 720x360 with 1 Axes>"
      ]
     },
     "metadata": {
      "needs_background": "light"
     },
     "output_type": "display_data"
    }
   ],
   "source": [
    "impact_scores(swl_wave_1)"
   ]
  },
  {
   "cell_type": "code",
   "execution_count": 41,
   "metadata": {},
   "outputs": [
    {
     "name": "stdout",
     "output_type": "stream",
     "text": [
      "    Distress  Homelife  Friendship  Learning  Leisure\n",
      "T1      1.00      0.85        0.31      1.00     0.62\n",
      "T2      0.57      0.38        0.12      0.25     0.12\n"
     ]
    },
    {
     "data": {
      "image/png": "[encoded data removed]",
      "text/plain": [
       "<Figure size 720x360 with 1 Axes>"
      ]
     },
     "metadata": {
      "needs_background": "light"
     },
     "output_type": "display_data"
    }
   ],
   "source": [
    "impact_scores(croydon_wave_1)"
   ]
  },
  {
   "cell_type": "code",
   "execution_count": 42,
   "metadata": {},
   "outputs": [
    {
     "name": "stdout",
     "output_type": "stream",
     "text": [
      "    Distress  Homelife  Friendship  Learning  Leisure\n",
      "T1      1.35      0.84         0.6      0.71     0.52\n",
      "T2      0.75      0.25         0.0      0.50     0.25\n"
     ]
    },
    {
     "data": {
      "image/png": "[encoded data removed]",
      "text/plain": [
       "<Figure size 720x360 with 1 Axes>"
      ]
     },
     "metadata": {
      "needs_background": "light"
     },
     "output_type": "display_data"
    }
   ],
   "source": [
    "impact_scores(kingston_wave_1)"
   ]
  },
  {
   "cell_type": "code",
   "execution_count": 43,
   "metadata": {},
   "outputs": [
    {
     "name": "stdout",
     "output_type": "stream",
     "text": [
      "    Distress  Homelife  Friendship  Learning  Leisure\n",
      "T1       1.5      1.33        0.75      0.65     0.46\n",
      "T2       1.5      1.00        0.00      0.00     0.50\n"
     ]
    },
    {
     "data": {
      "image/png": "[encoded data removed]",
      "text/plain": [
       "<Figure size 720x360 with 1 Axes>"
      ]
     },
     "metadata": {
      "needs_background": "light"
     },
     "output_type": "display_data"
    }
   ],
   "source": [
    "impact_scores(richmond_wave_1)"
   ]
  },
  {
   "cell_type": "markdown",
   "metadata": {},
   "source": [
    "SDQ Recovery (N and % reaching clinical threshold)"
   ]
  },
  {
   "cell_type": "code",
   "execution_count": 44,
   "metadata": {},
   "outputs": [],
   "source": [
    "def sdq_recovered(df):\n",
    "    sdq_below_threshold_t1 = 0\n",
    "    sdq_below_threshold_t2 = 0\n",
    "    for index, row in df.iterrows():\n",
    "        if row['sdq_total_t1'] < 17:\n",
    "            sdq_below_threshold_t1 += 1\n",
    "            if row['sdq_total_t2'] < 17:\n",
    "                sdq_below_threshold_t2 += 1\n",
    "        elif row['sdq_total_t2'] < 17:\n",
    "            sdq_below_threshold_t2 += 1\n",
    "    sdq_recovered_table = pd.DataFrame({'SDQ Completions Below Threshold':[sdq_below_threshold_t1, sdq_below_threshold_t2],\n",
    "                                       '% of Completions Below Threshold': [np.round((sdq_below_threshold_t1/df.sdq_total_t1.notnull().sum())*100), np.round((sdq_below_threshold_t2/df.sdq_total_t2.notnull().sum())*100)]})\n",
    "    sdq_recovered_table.index = ['T1','T2']\n",
    "    return(sdq_recovered_table)"
   ]
  },
  {
   "cell_type": "code",
   "execution_count": 45,
   "metadata": {},
   "outputs": [
    {
     "data": {
      "text/html": [
       "<div>\n",
       "<style scoped>\n",
       "    .dataframe tbody tr th:only-of-type {\n",
       "        vertical-align: middle;\n",
       "    }\n",
       "\n",
       "    .dataframe tbody tr th {\n",
       "        vertical-align: top;\n",
       "    }\n",
       "\n",
       "    .dataframe thead th {\n",
       "        text-align: right;\n",
       "    }\n",
       "</style>\n",
       "<table border=\"1\" class=\"dataframe\">\n",
       "  <thead>\n",
       "    <tr style=\"text-align: right;\">\n",
       "      <th></th>\n",
       "      <th>SDQ Completions Below Threshold</th>\n",
       "      <th>% of Completions Below Threshold</th>\n",
       "    </tr>\n",
       "  </thead>\n",
       "  <tbody>\n",
       "    <tr>\n",
       "      <th>T1</th>\n",
       "      <td>96</td>\n",
       "      <td>44.0</td>\n",
       "    </tr>\n",
       "    <tr>\n",
       "      <th>T2</th>\n",
       "      <td>73</td>\n",
       "      <td>78.0</td>\n",
       "    </tr>\n",
       "  </tbody>\n",
       "</table>\n",
       "</div>"
      ],
      "text/plain": [
       "    SDQ Completions Below Threshold  % of Completions Below Threshold\n",
       "T1                               96                              44.0\n",
       "T2                               73                              78.0"
      ]
     },
     "execution_count": 45,
     "metadata": {},
     "output_type": "execute_result"
    }
   ],
   "source": [
    "sdq_recovered(swl_combined)"
   ]
  },
  {
   "cell_type": "code",
   "execution_count": 46,
   "metadata": {},
   "outputs": [
    {
     "data": {
      "text/html": [
       "<div>\n",
       "<style scoped>\n",
       "    .dataframe tbody tr th:only-of-type {\n",
       "        vertical-align: middle;\n",
       "    }\n",
       "\n",
       "    .dataframe tbody tr th {\n",
       "        vertical-align: top;\n",
       "    }\n",
       "\n",
       "    .dataframe thead th {\n",
       "        text-align: right;\n",
       "    }\n",
       "</style>\n",
       "<table border=\"1\" class=\"dataframe\">\n",
       "  <thead>\n",
       "    <tr style=\"text-align: right;\">\n",
       "      <th></th>\n",
       "      <th>SDQ Completions Below Threshold</th>\n",
       "      <th>% of Completions Below Threshold</th>\n",
       "    </tr>\n",
       "  </thead>\n",
       "  <tbody>\n",
       "    <tr>\n",
       "      <th>T1</th>\n",
       "      <td>62</td>\n",
       "      <td>44.0</td>\n",
       "    </tr>\n",
       "    <tr>\n",
       "      <th>T2</th>\n",
       "      <td>56</td>\n",
       "      <td>76.0</td>\n",
       "    </tr>\n",
       "  </tbody>\n",
       "</table>\n",
       "</div>"
      ],
      "text/plain": [
       "    SDQ Completions Below Threshold  % of Completions Below Threshold\n",
       "T1                               62                              44.0\n",
       "T2                               56                              76.0"
      ]
     },
     "execution_count": 46,
     "metadata": {},
     "output_type": "execute_result"
    }
   ],
   "source": [
    "sdq_recovered(swl_trailblazer)"
   ]
  },
  {
   "cell_type": "code",
   "execution_count": 47,
   "metadata": {},
   "outputs": [
    {
     "data": {
      "text/html": [
       "<div>\n",
       "<style scoped>\n",
       "    .dataframe tbody tr th:only-of-type {\n",
       "        vertical-align: middle;\n",
       "    }\n",
       "\n",
       "    .dataframe tbody tr th {\n",
       "        vertical-align: top;\n",
       "    }\n",
       "\n",
       "    .dataframe thead th {\n",
       "        text-align: right;\n",
       "    }\n",
       "</style>\n",
       "<table border=\"1\" class=\"dataframe\">\n",
       "  <thead>\n",
       "    <tr style=\"text-align: right;\">\n",
       "      <th></th>\n",
       "      <th>SDQ Completions Below Threshold</th>\n",
       "      <th>% of Completions Below Threshold</th>\n",
       "    </tr>\n",
       "  </thead>\n",
       "  <tbody>\n",
       "    <tr>\n",
       "      <th>T1</th>\n",
       "      <td>5</td>\n",
       "      <td>45.0</td>\n",
       "    </tr>\n",
       "    <tr>\n",
       "      <th>T2</th>\n",
       "      <td>3</td>\n",
       "      <td>75.0</td>\n",
       "    </tr>\n",
       "  </tbody>\n",
       "</table>\n",
       "</div>"
      ],
      "text/plain": [
       "    SDQ Completions Below Threshold  % of Completions Below Threshold\n",
       "T1                                5                              45.0\n",
       "T2                                3                              75.0"
      ]
     },
     "execution_count": 47,
     "metadata": {},
     "output_type": "execute_result"
    }
   ],
   "source": [
    "sdq_recovered(swl_wave_1)"
   ]
  },
  {
   "cell_type": "code",
   "execution_count": 48,
   "metadata": {},
   "outputs": [
    {
     "data": {
      "text/html": [
       "<div>\n",
       "<style scoped>\n",
       "    .dataframe tbody tr th:only-of-type {\n",
       "        vertical-align: middle;\n",
       "    }\n",
       "\n",
       "    .dataframe tbody tr th {\n",
       "        vertical-align: top;\n",
       "    }\n",
       "\n",
       "    .dataframe thead th {\n",
       "        text-align: right;\n",
       "    }\n",
       "</style>\n",
       "<table border=\"1\" class=\"dataframe\">\n",
       "  <thead>\n",
       "    <tr style=\"text-align: right;\">\n",
       "      <th></th>\n",
       "      <th>SDQ Completions Below Threshold</th>\n",
       "      <th>% of Completions Below Threshold</th>\n",
       "    </tr>\n",
       "  </thead>\n",
       "  <tbody>\n",
       "    <tr>\n",
       "      <th>T1</th>\n",
       "      <td>7</td>\n",
       "      <td>54.0</td>\n",
       "    </tr>\n",
       "    <tr>\n",
       "      <th>T2</th>\n",
       "      <td>7</td>\n",
       "      <td>88.0</td>\n",
       "    </tr>\n",
       "  </tbody>\n",
       "</table>\n",
       "</div>"
      ],
      "text/plain": [
       "    SDQ Completions Below Threshold  % of Completions Below Threshold\n",
       "T1                                7                              54.0\n",
       "T2                                7                              88.0"
      ]
     },
     "execution_count": 48,
     "metadata": {},
     "output_type": "execute_result"
    }
   ],
   "source": [
    "sdq_recovered(croydon_wave_1)"
   ]
  },
  {
   "cell_type": "code",
   "execution_count": 49,
   "metadata": {},
   "outputs": [
    {
     "data": {
      "text/html": [
       "<div>\n",
       "<style scoped>\n",
       "    .dataframe tbody tr th:only-of-type {\n",
       "        vertical-align: middle;\n",
       "    }\n",
       "\n",
       "    .dataframe tbody tr th {\n",
       "        vertical-align: top;\n",
       "    }\n",
       "\n",
       "    .dataframe thead th {\n",
       "        text-align: right;\n",
       "    }\n",
       "</style>\n",
       "<table border=\"1\" class=\"dataframe\">\n",
       "  <thead>\n",
       "    <tr style=\"text-align: right;\">\n",
       "      <th></th>\n",
       "      <th>SDQ Completions Below Threshold</th>\n",
       "      <th>% of Completions Below Threshold</th>\n",
       "    </tr>\n",
       "  </thead>\n",
       "  <tbody>\n",
       "    <tr>\n",
       "      <th>T1</th>\n",
       "      <td>9</td>\n",
       "      <td>36.0</td>\n",
       "    </tr>\n",
       "    <tr>\n",
       "      <th>T2</th>\n",
       "      <td>5</td>\n",
       "      <td>100.0</td>\n",
       "    </tr>\n",
       "  </tbody>\n",
       "</table>\n",
       "</div>"
      ],
      "text/plain": [
       "    SDQ Completions Below Threshold  % of Completions Below Threshold\n",
       "T1                                9                              36.0\n",
       "T2                                5                             100.0"
      ]
     },
     "execution_count": 49,
     "metadata": {},
     "output_type": "execute_result"
    }
   ],
   "source": [
    "sdq_recovered(kingston_wave_1)"
   ]
  },
  {
   "cell_type": "code",
   "execution_count": 50,
   "metadata": {},
   "outputs": [
    {
     "data": {
      "text/html": [
       "<div>\n",
       "<style scoped>\n",
       "    .dataframe tbody tr th:only-of-type {\n",
       "        vertical-align: middle;\n",
       "    }\n",
       "\n",
       "    .dataframe tbody tr th {\n",
       "        vertical-align: top;\n",
       "    }\n",
       "\n",
       "    .dataframe thead th {\n",
       "        text-align: right;\n",
       "    }\n",
       "</style>\n",
       "<table border=\"1\" class=\"dataframe\">\n",
       "  <thead>\n",
       "    <tr style=\"text-align: right;\">\n",
       "      <th></th>\n",
       "      <th>SDQ Completions Below Threshold</th>\n",
       "      <th>% of Completions Below Threshold</th>\n",
       "    </tr>\n",
       "  </thead>\n",
       "  <tbody>\n",
       "    <tr>\n",
       "      <th>T1</th>\n",
       "      <td>13</td>\n",
       "      <td>48.0</td>\n",
       "    </tr>\n",
       "    <tr>\n",
       "      <th>T2</th>\n",
       "      <td>2</td>\n",
       "      <td>100.0</td>\n",
       "    </tr>\n",
       "  </tbody>\n",
       "</table>\n",
       "</div>"
      ],
      "text/plain": [
       "    SDQ Completions Below Threshold  % of Completions Below Threshold\n",
       "T1                               13                              48.0\n",
       "T2                                2                             100.0"
      ]
     },
     "execution_count": 50,
     "metadata": {},
     "output_type": "execute_result"
    }
   ],
   "source": [
    "sdq_recovered(richmond_wave_1)"
   ]
  },
  {
   "cell_type": "markdown",
   "metadata": {},
   "source": [
    "Reliable change SDQ"
   ]
  },
  {
   "cell_type": "code",
   "execution_count": 51,
   "metadata": {},
   "outputs": [],
   "source": [
    "def reliable_change_criterion(sd, r):\n",
    "    se_diff = sd * np.sqrt(2) * np.sqrt(1 - r)\n",
    "    return se_diff * 1.96"
   ]
  },
  {
   "cell_type": "code",
   "execution_count": 52,
   "metadata": {},
   "outputs": [
    {
     "name": "stdout",
     "output_type": "stream",
     "text": [
      "2\n",
      "5\n",
      "8\n",
      "4\n"
     ]
    }
   ],
   "source": [
    "print(richmond_wave_1.sdq_total_t2.notnull().sum())\n",
    "print(kingston_wave_1.sdq_total_t2.notnull().sum())\n",
    "print(croydon_wave_1.sdq_total_t2.notnull().sum())\n",
    "print(swl_wave_1.sdq_total_t2.notnull().sum())"
   ]
  },
  {
   "cell_type": "markdown",
   "metadata": {},
   "source": [
    "Unlike the GBO, the reliable change criterion for SDQ is different. GBO is fixed. The criterion can only be accurately be calculated with sufficient number of N's. Since individual sites have low number of paired SDQ completions (except for swl trailblazer), I will only do reliable change analysis for the combined dataset."
   ]
  },
  {
   "cell_type": "code",
   "execution_count": 53,
   "metadata": {},
   "outputs": [
    {
     "name": "stdout",
     "output_type": "stream",
     "text": [
      "9.073976391349968\n"
     ]
    }
   ],
   "source": [
    "criterion_value = reliable_change_criterion(swl_combined['sdq_total_t1'].dropna().std(), 0.75)\n",
    "print(criterion_value)"
   ]
  },
  {
   "cell_type": "code",
   "execution_count": 54,
   "metadata": {},
   "outputs": [],
   "source": [
    "def sdq_reliable_change(df):\n",
    "    reliable_improvement = 0\n",
    "    reliable_deterioration = 0\n",
    "    for index, row in df.iterrows():\n",
    "        if (row['sdq_total_t1'] - row['sdq_total_t2']) > criterion_value:\n",
    "            reliable_improvement += 1\n",
    "        elif (row['sdq_total_t1'] - row['sdq_total_t2']) < -(criterion_value):\n",
    "            reliable_deterioration += 1\n",
    "    no_change = df.sdq_total_t2.notnull().sum() - (reliable_improvement+reliable_deterioration)\n",
    "    sdq_reliable_change_table = pd.DataFrame({'Number of paired completions':[reliable_improvement, no_change, reliable_deterioration, df.sdq_total_t2.notnull().sum()],\n",
    "                                             '% of paired completions': [np.round((reliable_improvement/df.sdq_total_t2.notnull().sum())*100), np.round((no_change/df.sdq_total_t2.notnull().sum())*100), np.round((reliable_deterioration/df.sdq_total_t2.notnull().sum())*100), 100]})\n",
    "    sdq_reliable_change_table.index = ['Reliable Improvement','No Change','Reliable Deterioration','Total Number of paired SDQ completions']\n",
    "    return(sdq_reliable_change_table)"
   ]
  },
  {
   "cell_type": "code",
   "execution_count": 55,
   "metadata": {},
   "outputs": [
    {
     "data": {
      "text/html": [
       "<div>\n",
       "<style scoped>\n",
       "    .dataframe tbody tr th:only-of-type {\n",
       "        vertical-align: middle;\n",
       "    }\n",
       "\n",
       "    .dataframe tbody tr th {\n",
       "        vertical-align: top;\n",
       "    }\n",
       "\n",
       "    .dataframe thead th {\n",
       "        text-align: right;\n",
       "    }\n",
       "</style>\n",
       "<table border=\"1\" class=\"dataframe\">\n",
       "  <thead>\n",
       "    <tr style=\"text-align: right;\">\n",
       "      <th></th>\n",
       "      <th>Number of paired completions</th>\n",
       "      <th>% of paired completions</th>\n",
       "    </tr>\n",
       "  </thead>\n",
       "  <tbody>\n",
       "    <tr>\n",
       "      <th>Reliable Improvement</th>\n",
       "      <td>18</td>\n",
       "      <td>19.0</td>\n",
       "    </tr>\n",
       "    <tr>\n",
       "      <th>No Change</th>\n",
       "      <td>75</td>\n",
       "      <td>81.0</td>\n",
       "    </tr>\n",
       "    <tr>\n",
       "      <th>Reliable Deterioration</th>\n",
       "      <td>0</td>\n",
       "      <td>0.0</td>\n",
       "    </tr>\n",
       "    <tr>\n",
       "      <th>Total Number of paired SDQ completions</th>\n",
       "      <td>93</td>\n",
       "      <td>100.0</td>\n",
       "    </tr>\n",
       "  </tbody>\n",
       "</table>\n",
       "</div>"
      ],
      "text/plain": [
       "                                        Number of paired completions  \\\n",
       "Reliable Improvement                                              18   \n",
       "No Change                                                         75   \n",
       "Reliable Deterioration                                             0   \n",
       "Total Number of paired SDQ completions                            93   \n",
       "\n",
       "                                        % of paired completions  \n",
       "Reliable Improvement                                       19.0  \n",
       "No Change                                                  81.0  \n",
       "Reliable Deterioration                                      0.0  \n",
       "Total Number of paired SDQ completions                    100.0  "
      ]
     },
     "execution_count": 55,
     "metadata": {},
     "output_type": "execute_result"
    }
   ],
   "source": [
    "sdq_reliable_change(swl_combined)"
   ]
  },
  {
   "cell_type": "markdown",
   "metadata": {},
   "source": [
    "<b>Overall</b><br>\n",
    "How many cases show reliable improvement on any measure?"
   ]
  },
  {
   "cell_type": "code",
   "execution_count": 56,
   "metadata": {},
   "outputs": [],
   "source": [
    "reliably_improved = 0\n",
    "completed_cases = 0\n",
    "\n",
    "for index, row in swl_combined.iterrows():\n",
    "    goal_average_change = ((row['goals_g1score_t2']+row['goals_g2score_t2']+row['goals_g3score_t2'])/3) - ((row['goals_g1score_t1']+row['goals_g2score_t1']+row['goals_g3score_t1'])/3)\n",
    "    if row['sdq_total_t2'] >= 0:\n",
    "        completed_cases += 1\n",
    "        if row['sdq_total_t1'] - row['sdq_total_t2'] > criterion_value:\n",
    "            reliably_improved += 1\n",
    "    elif row['goals_g1score_t2'] >= 0:\n",
    "        completed_cases += 1\n",
    "        if goal_average_change > 2.45:\n",
    "            reliably_improved += 1"
   ]
  },
  {
   "cell_type": "code",
   "execution_count": 57,
   "metadata": {},
   "outputs": [
    {
     "name": "stdout",
     "output_type": "stream",
     "text": [
      "45.0\n"
     ]
    }
   ],
   "source": [
    "reliably_improved_percentage = np.round((reliably_improved/completed_cases)*100)\n",
    "print(reliably_improved_percentage)"
   ]
  },
  {
   "cell_type": "code",
   "execution_count": null,
   "metadata": {},
   "outputs": [],
   "source": []
  }
 ],
 "metadata": {
  "kernelspec": {
   "display_name": "Python 3",
   "language": "python",
   "name": "python3"
  },
  "language_info": {
   "codemirror_mode": {
    "name": "ipython",
    "version": 3
   },
   "file_extension": ".py",
   "mimetype": "text/x-python",
   "name": "python",
   "nbconvert_exporter": "python",
   "pygments_lexer": "ipython3",
   "version": "3.8.3"
  }
 },
 "nbformat": 4,
 "nbformat_minor": 4
}
