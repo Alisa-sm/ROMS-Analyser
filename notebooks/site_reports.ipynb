{
 "cells": [
  {
   "cell_type": "markdown",
   "metadata": {},
   "source": [
    "Import the appropriate libraries"
   ]
  },
  {
   "cell_type": "code",
   "execution_count": 484,
   "metadata": {},
   "outputs": [],
   "source": [
    "import pandas as pd\n",
    "import numpy as np\n",
    "import matplotlib\n",
    "import matplotlib.pyplot as plt"
   ]
  },
  {
   "cell_type": "markdown",
   "metadata": {},
   "source": [
    "Import the CSV's and filter the dates. Exclude any completions outside training date."
   ]
  },
  {
   "cell_type": "code",
   "execution_count": 452,
   "metadata": {},
   "outputs": [],
   "source": [
    "dp = pd.read_csv('virgin_care.csv')"
   ]
  },
  {
   "cell_type": "code",
   "execution_count": 453,
   "metadata": {},
   "outputs": [],
   "source": [
    "df = dp[dp.completed_by != 'parent_1']"
   ]
  },
  {
   "cell_type": "markdown",
   "metadata": {},
   "source": [
    "<b>Summary Section</b><br>\n",
    "Calculate N's for cases that have completed 2 timepoints for at least 1 measure"
   ]
  },
  {
   "cell_type": "code",
   "execution_count": 454,
   "metadata": {},
   "outputs": [
    {
     "name": "stdout",
     "output_type": "stream",
     "text": [
      "Number of cases with paired outcomes: 46\n"
     ]
    }
   ],
   "source": [
    "number_of_paired_cases = df.shape[0]\n",
    "print('Number of cases with paired outcomes:', number_of_paired_cases)"
   ]
  },
  {
   "cell_type": "markdown",
   "metadata": {},
   "source": [
    "<b>Anxiety and Depression</b><br>\n",
    "Calculate N's for RCADS completions with time 2 completions (paired)<br>\n",
    "Calculate T1 T-Score averages for GAD, MDD, Panic and SP<br>\n",
    "Calculate T2 T-Score averages for GAD, MDD, Panic and SP<br>\n",
    "Calculate differences between T1 and T2 T-Score averages for GAD, MDD, Panic and SP<br>\n",
    "Calculate average change across GAD, MDD, Panic and SP<br>\n",
    "Create bar chart to show T1 and T2 average T-Scores for GAD, MDD, Panic and SP<br>\n",
    "Calculate T1 scores scoring above threshold for GAD, MDD, Panic and SP<br>\n",
    "Calculate T2 scores scoring above thresold for GAD, MDD, Panic and SP<br>\n",
    "Create bar chart to show T1 and T2 above threshold scores for GAD, MDD, Panic and SP"
   ]
  },
  {
   "cell_type": "code",
   "execution_count": 455,
   "metadata": {},
   "outputs": [
    {
     "name": "stdout",
     "output_type": "stream",
     "text": [
      "Number of cases with paired RCADS outcomes: 16\n"
     ]
    }
   ],
   "source": [
    "rcads_paired = df['rcads_date_t2'].count()\n",
    "print('Number of cases with paired RCADS outcomes:', rcads_paired)"
   ]
  },
  {
   "cell_type": "code",
   "execution_count": 456,
   "metadata": {},
   "outputs": [],
   "source": [
    "rcads_gad_t1 = np.round(df['rcads_tscore_gad_t1'].mean(),2)\n",
    "rcads_mdd_t1 = np.round(df['rcads_tscore_mdd_t1'].mean(), 2)\n",
    "rcads_pd_t1 = np.round(df['rcads_tscore_pd_t1'].mean(), 2)\n",
    "rcads_sp_t1 = np.round(df['rcads_tscore_sp_t1'].mean(), 2)"
   ]
  },
  {
   "cell_type": "code",
   "execution_count": 457,
   "metadata": {},
   "outputs": [
    {
     "name": "stdout",
     "output_type": "stream",
     "text": [
      "GAD Average T-Score at T1: 59.81\n",
      "MDD Average T-Score at T1: 63.06\n",
      "PD Average T-Score at T1 71.38\n",
      "SP Average T-Score at T1 60.94\n"
     ]
    }
   ],
   "source": [
    "print('GAD Average T-Score at T1:', rcads_gad_t1)\n",
    "print('MDD Average T-Score at T1:', rcads_mdd_t1)\n",
    "print('PD Average T-Score at T1', rcads_pd_t1)\n",
    "print('SP Average T-Score at T1', rcads_sp_t1)"
   ]
  },
  {
   "cell_type": "code",
   "execution_count": 458,
   "metadata": {},
   "outputs": [],
   "source": [
    "rcads_gad_t2 = np.round(df['rcads_tscore_gad_t2'].mean(),2)\n",
    "rcads_mdd_t2 = np.round(df['rcads_tscore_mdd_t2'].mean(), 2)\n",
    "rcads_pd_t2 = np.round(df['rcads_tscore_pd_t2'].mean(), 2)\n",
    "rcads_sp_t2 = np.round(df['rcads_tscore_sp_t2'].mean(), 2)"
   ]
  },
  {
   "cell_type": "code",
   "execution_count": 459,
   "metadata": {},
   "outputs": [
    {
     "name": "stdout",
     "output_type": "stream",
     "text": [
      "GAD Average T-Score at T2: 42.83\n",
      "MDD Average T-Score at T2: 49.23\n",
      "PD Average T-Score at T2 51.55\n",
      "SP Average T-Score at T2 47.46\n"
     ]
    }
   ],
   "source": [
    "print('GAD Average T-Score at T2:', rcads_gad_t2)\n",
    "print('MDD Average T-Score at T2:', rcads_mdd_t2)\n",
    "print('PD Average T-Score at T2', rcads_pd_t2)\n",
    "print('SP Average T-Score at T2', rcads_sp_t2)"
   ]
  },
  {
   "cell_type": "code",
   "execution_count": 460,
   "metadata": {},
   "outputs": [],
   "source": [
    "rcads_gad_avg_diff = np.round(rcads_gad_t1 - rcads_gad_t2)\n",
    "rcads_mdd_avg_diff = np.round(rcads_mdd_t1 - rcads_mdd_t2)\n",
    "rcads_pd_avg_diff = np.round(rcads_pd_t1 - rcads_pd_t2)\n",
    "rcads_sp_avg_diff = np.round(rcads_sp_t1 - rcads_sp_t2)"
   ]
  },
  {
   "cell_type": "code",
   "execution_count": 461,
   "metadata": {},
   "outputs": [
    {
     "name": "stdout",
     "output_type": "stream",
     "text": [
      "GAD Average Difference: 17.0\n",
      "MDD Average Difference: 14.0\n",
      "PD Average Difference 20.0\n",
      "SP Average Difference 13.0\n"
     ]
    }
   ],
   "source": [
    "print('GAD Average Difference:', rcads_gad_avg_diff)\n",
    "print('MDD Average Difference:', rcads_mdd_avg_diff)\n",
    "print('PD Average Difference', rcads_pd_avg_diff)\n",
    "print('SP Average Difference', rcads_sp_avg_diff)"
   ]
  },
  {
   "cell_type": "code",
   "execution_count": 462,
   "metadata": {},
   "outputs": [],
   "source": [
    "overall_avg_change = np.round((rcads_gad_avg_diff + rcads_mdd_avg_diff + rcads_pd_avg_diff + rcads_sp_avg_diff)/4)"
   ]
  },
  {
   "cell_type": "code",
   "execution_count": 463,
   "metadata": {},
   "outputs": [
    {
     "name": "stdout",
     "output_type": "stream",
     "text": [
      "Overall average change across subscales: 16.0\n"
     ]
    }
   ],
   "source": [
    "print('Overall average change across subscales:', overall_avg_change)"
   ]
  },
  {
   "cell_type": "code",
   "execution_count": 464,
   "metadata": {},
   "outputs": [
    {
     "data": {
      "image/png": "[encoded data removed]",
      "text/plain": [
       "<Figure size 432x288 with 1 Axes>"
      ]
     },
     "metadata": {
      "needs_background": "light"
     },
     "output_type": "display_data"
    }
   ],
   "source": [
    "rcads_labels = ['GAD','MDD','PD','SP']\n",
    "rcads_t1_means = [rcads_gad_t1, rcads_mdd_t1, rcads_pd_t1, rcads_sp_t1]\n",
    "rcads_t2_means = [rcads_gad_t2, rcads_mdd_t2, rcads_pd_t2, rcads_sp_t2]\n",
    "\n",
    "x = np.arange(len(rcads_labels))\n",
    "width = 0.35\n",
    "\n",
    "fig, ax = plt.subplots()\n",
    "rects1 = ax.bar(x - width/2, rcads_t1_means, width, label='T1')\n",
    "rects2 = ax.bar(x + width/2, rcads_t2_means, width, label='T2')\n",
    "\n",
    "ax.set_ylabel('Average T-Score')\n",
    "ax.set_title('Average T-Score at T1 and T2')\n",
    "ax.set_xticks(x)\n",
    "ax.set_xticklabels(rcads_labels)\n",
    "ax.legend()\n",
    "\n",
    "def autolabel(rects):\n",
    "    for rect in rects:\n",
    "        height = rect.get_height()\n",
    "        ax.annotate('{}'.format(height),\n",
    "                   xy=(rect.get_x() + rect.get_width()/2, height),\n",
    "                   xytext=(0, 3),\n",
    "                   textcoords=\"offset points\",\n",
    "                   ha='center', va='bottom')\n",
    "\n",
    "autolabel(rects1)\n",
    "autolabel(rects2)\n",
    "\n",
    "fig.tight_layout()\n",
    "\n",
    "plt.show()"
   ]
  },
  {
   "cell_type": "code",
   "execution_count": 465,
   "metadata": {},
   "outputs": [],
   "source": [
    "rcads_gad_above_threshold_t1 = df[df.rcads_band_gad_t1 == 'High score (top 2%)'].shape[0]\n",
    "rcads_mdd_above_threshold_t1 = df[df.rcads_band_mdd_t1 == 'High score (top 2%)'].shape[0]\n",
    "rcads_pd_above_threshold_t1 = df[df.rcads_band_pd_t1 == 'High score (top 2%)'].shape[0]\n",
    "rcads_sp_above_threshold_t1 = df[df.rcads_band_sp_t1 == 'High score (top 2%)'].shape[0]"
   ]
  },
  {
   "cell_type": "code",
   "execution_count": 466,
   "metadata": {},
   "outputs": [
    {
     "name": "stdout",
     "output_type": "stream",
     "text": [
      "GAD scores above threshold at T1: 4\n",
      "MDD scores above threshold at T1: 4\n",
      "PD scores above threshold at T1: 9\n",
      "SP scores above threshold at T1: 6\n"
     ]
    }
   ],
   "source": [
    "print('GAD scores above threshold at T1:', rcads_gad_above_threshold_t1)\n",
    "print('MDD scores above threshold at T1:', rcads_mdd_above_threshold_t1)\n",
    "print('PD scores above threshold at T1:', rcads_pd_above_threshold_t1)\n",
    "print('SP scores above threshold at T1:', rcads_sp_above_threshold_t1)"
   ]
  },
  {
   "cell_type": "code",
   "execution_count": 467,
   "metadata": {},
   "outputs": [],
   "source": [
    "rcads_gad_above_threshold_t2 = df[df.rcads_band_gad_t2 == 'High score (top 2%)'].shape[0]\n",
    "rcads_mdd_above_threshold_t2 = df[df.rcads_band_mdd_t2 == 'High score (top 2%)'].shape[0]\n",
    "rcads_pd_above_threshold_t2 = df[df.rcads_band_pd_t2 == 'High score (top 2%)'].shape[0]\n",
    "rcads_sp_above_threshold_t2 = df[df.rcads_band_sp_t2 == 'High score (top 2%)'].shape[0]"
   ]
  },
  {
   "cell_type": "code",
   "execution_count": 468,
   "metadata": {},
   "outputs": [
    {
     "name": "stdout",
     "output_type": "stream",
     "text": [
      "GAD scores above threshold at T2: 0\n",
      "MDD scores above threshold at T2: 0\n",
      "PD scores above threshold at T2: 0\n",
      "SP scores above threshold at T2: 2\n"
     ]
    }
   ],
   "source": [
    "print('GAD scores above threshold at T2:', rcads_gad_above_threshold_t2)\n",
    "print('MDD scores above threshold at T2:', rcads_mdd_above_threshold_t2)\n",
    "print('PD scores above threshold at T2:', rcads_pd_above_threshold_t2)\n",
    "print('SP scores above threshold at T2:', rcads_sp_above_threshold_t2)"
   ]
  },
  {
   "cell_type": "code",
   "execution_count": 469,
   "metadata": {},
   "outputs": [
    {
     "data": {
      "image/png": "[encoded data removed]",
      "text/plain": [
       "<Figure size 432x288 with 1 Axes>"
      ]
     },
     "metadata": {
      "needs_background": "light"
     },
     "output_type": "display_data"
    }
   ],
   "source": [
    "rcads_labels = ['GAD','MDD','PD','SP']\n",
    "rcads_t1_thresholds = [rcads_gad_above_threshold_t1, rcads_mdd_above_threshold_t1, rcads_pd_above_threshold_t1, rcads_sp_above_threshold_t1]\n",
    "rcads_t2_thresholds = [rcads_gad_above_threshold_t2, rcads_mdd_above_threshold_t2, rcads_pd_above_threshold_t2, rcads_sp_above_threshold_t2]\n",
    "\n",
    "x = np.arange(len(rcads_labels))\n",
    "width = 0.35\n",
    "\n",
    "fig, ax = plt.subplots()\n",
    "rectss1 = ax.bar(x - width/2, rcads_t1_thresholds, width, label='T1')\n",
    "rectss2 = ax.bar(x + width/2, rcads_t2_thresholds, width, label='T2')\n",
    "\n",
    "ax.set_ylabel('Frequency')\n",
    "ax.set_title('Scores above threshold')\n",
    "ax.set_xticks(x)\n",
    "ax.set_xticklabels(rcads_labels)\n",
    "ax.legend()\n",
    "\n",
    "def autolabel(rects):\n",
    "    for rect in rects:\n",
    "        height = rect.get_height()\n",
    "        ax.annotate('{}'.format(height),\n",
    "                   xy=(rect.get_x() + rect.get_width()/2, height),\n",
    "                   xytext=(0, 3),\n",
    "                   textcoords=\"offset points\",\n",
    "                   ha='center', va='bottom')\n",
    "\n",
    "autolabel(rectss1)\n",
    "autolabel(rectss2)\n",
    "\n",
    "fig.tight_layout()\n",
    "\n",
    "plt.show()"
   ]
  },
  {
   "cell_type": "markdown",
   "metadata": {},
   "source": [
    "<b>Behavioural Problems (SDQ)</b><br>\n",
    "Calculate N's for SDQ completions with time 2 completions (paired)<br>\n",
    "Calculate average SDQ total score for T1<br>\n",
    "Calculate average SDQ total score for T2<br>\n",
    "Calculate average change between SDQ total score avg for T1 and T2<br>\n",
    "Calculate SDQ total scores above threshold for T1<br>\n",
    "Calculate SDQ total scores above thresold for T2<br>\n",
    "Calculate SDQ impact scores average (each impact) for T1<br>\n",
    "Calculate SDQ impact scores average (each impact) for T2<br>\n",
    "Create bar chart to show SDQ impact scores average (each impact) for T1 and T2"
   ]
  },
  {
   "cell_type": "code",
   "execution_count": 470,
   "metadata": {},
   "outputs": [
    {
     "name": "stdout",
     "output_type": "stream",
     "text": [
      "Number of cases with paired sdq outcomes: 10\n"
     ]
    }
   ],
   "source": [
    "sdq_paired = df['sdq_date_t2'].count()\n",
    "print('Number of cases with paired sdq outcomes:', sdq_paired)"
   ]
  },
  {
   "cell_type": "code",
   "execution_count": 471,
   "metadata": {},
   "outputs": [
    {
     "name": "stdout",
     "output_type": "stream",
     "text": [
      "SDQ Total T1 average: 19.19\n",
      "SDQ Total T2 average: 14.7\n"
     ]
    }
   ],
   "source": [
    "sdq_total_t1_avg = np.round(df['sdq_total_t1'].mean(), 2)\n",
    "sdq_total_t2_avg = np.round(df['sdq_total_t2'].mean(), 2)\n",
    "print('SDQ Total T1 average:', sdq_total_t1_avg)\n",
    "print('SDQ Total T2 average:', sdq_total_t2_avg)"
   ]
  },
  {
   "cell_type": "code",
   "execution_count": 472,
   "metadata": {},
   "outputs": [
    {
     "name": "stdout",
     "output_type": "stream",
     "text": [
      "SDQ Total Average Change: 4.0\n"
     ]
    }
   ],
   "source": [
    "sdq_total_avg_change = np.round(sdq_total_t1_avg - sdq_total_t2_avg)\n",
    "print('SDQ Total Average Change:', sdq_total_avg_change)"
   ]
  },
  {
   "cell_type": "code",
   "execution_count": 473,
   "metadata": {},
   "outputs": [
    {
     "name": "stdout",
     "output_type": "stream",
     "text": [
      "SDQ Total Scores above threshold (T1): 14\n",
      "SDQ Total Scores above threshold (T2): 4\n"
     ]
    }
   ],
   "source": [
    "sdq_total_above_threshold_t1 = df[df.sdq_total_t1 > 17].shape[0]\n",
    "sdq_total_above_threshold_t2 = df[df.sdq_total_t2 > 17].shape[0]\n",
    "print('SDQ Total Scores above threshold (T1):',sdq_total_above_threshold_t1)\n",
    "print('SDQ Total Scores above threshold (T2):',sdq_total_above_threshold_t2)"
   ]
  },
  {
   "cell_type": "code",
   "execution_count": 474,
   "metadata": {},
   "outputs": [],
   "source": [
    "sdq_distress_t1 = np.round(df['sdq_impact_distress_t1'].mean(),2)\n",
    "sdq_homelife_t1 = np.round(df['sdq_impact_homelife_t1'].mean(),2)\n",
    "sdq_friendship_t1 = np.round(df['sdq_impact_friendship_t1'].mean(),2)\n",
    "sdq_learning_t1 = np.round(df['sdq_impact_learning_t1'].mean(),2)\n",
    "sdq_leisure_t1 = np.round(df['sdq_impact_leisure_t1'].mean(),2)"
   ]
  },
  {
   "cell_type": "code",
   "execution_count": 475,
   "metadata": {},
   "outputs": [],
   "source": [
    "sdq_distress_t2 = np.round(df['sdq_impact_distress_t2'].mean(),2)\n",
    "sdq_homelife_t2 = np.round(df['sdq_impact_homelife_t2'].mean(),2)\n",
    "sdq_friendship_t2 = np.round(df['sdq_impact_friendship_t2'].mean(),2)\n",
    "sdq_learning_t2 = np.round(df['sdq_impact_learning_t2'].mean(),2)\n",
    "sdq_leisure_t2 = np.round(df['sdq_impact_leisure_t2'].mean(),2)"
   ]
  },
  {
   "cell_type": "code",
   "execution_count": 476,
   "metadata": {},
   "outputs": [
    {
     "data": {
      "image/png": "[encoded data removed]",
      "text/plain": [
       "<Figure size 432x288 with 1 Axes>"
      ]
     },
     "metadata": {
      "needs_background": "light"
     },
     "output_type": "display_data"
    }
   ],
   "source": [
    "sdq_labels = ['Distress','Homelife','Friendship','Learning','Leisure']\n",
    "sdq_t1_impacts = [sdq_distress_t1, sdq_homelife_t1, sdq_friendship_t1, sdq_learning_t1, sdq_leisure_t1]\n",
    "sdq_t2_impacts = [sdq_distress_t2, sdq_homelife_t2, sdq_friendship_t2, sdq_learning_t2, sdq_leisure_t2]\n",
    "\n",
    "x = np.arange(len(sdq_labels))\n",
    "width = 0.35\n",
    "\n",
    "fig, ax = plt.subplots()\n",
    "rectsss1 = ax.bar(x - width/2, sdq_t1_impacts, width, label='T1')\n",
    "rectsss2 = ax.bar(x + width/2, sdq_t2_impacts, width, label='T2')\n",
    "\n",
    "ax.set_ylabel('Impact Score')\n",
    "ax.set_title('Average Impact Score')\n",
    "ax.set_xticks(x)\n",
    "ax.set_xticklabels(sdq_labels)\n",
    "ax.legend()\n",
    "\n",
    "def autolabel(rects):\n",
    "    for rect in rects:\n",
    "        height = rect.get_height()\n",
    "        ax.annotate('{}'.format(height),\n",
    "                   xy=(rect.get_x() + rect.get_width()/2, height),\n",
    "                   xytext=(0, 3),\n",
    "                   textcoords=\"offset points\",\n",
    "                   ha='center', va='bottom')\n",
    "\n",
    "autolabel(rectsss1)\n",
    "autolabel(rectsss2)\n",
    "\n",
    "fig.tight_layout()\n",
    "\n",
    "plt.show()"
   ]
  },
  {
   "cell_type": "markdown",
   "metadata": {},
   "source": [
    "<b>Goals Based Outcomes</b><br>\n",
    "Calculate N's for GBO's that have time 2 completions (paired)<br>\n",
    "Calculate average goal score for T1<br>\n",
    "Calculate average goal score for T2<br>\n",
    "Calculate difference in avg goal score for T1 and T2<br>\n",
    "Create bar chart to show difference in avg goal score between T1 and T2"
   ]
  },
  {
   "cell_type": "code",
   "execution_count": 477,
   "metadata": {},
   "outputs": [
    {
     "name": "stdout",
     "output_type": "stream",
     "text": [
      "Number of paired GBO completions: 26\n"
     ]
    }
   ],
   "source": [
    "gbo_paired = df['goals_date_t2'].count()\n",
    "print('Number of paired GBO completions:', gbo_paired)"
   ]
  },
  {
   "cell_type": "code",
   "execution_count": 478,
   "metadata": {},
   "outputs": [
    {
     "name": "stdout",
     "output_type": "stream",
     "text": [
      "GBO Average T1: 2.95\n",
      "GBO Average T2: 6.34\n",
      "GBO Average difference between T1 and T2: 3.39\n"
     ]
    }
   ],
   "source": [
    "g1_avg_t1 = df['goals_g1score_t1'].mean()\n",
    "g2_avg_t1 = df['goals_g2score_t1'].mean()\n",
    "g3_avg_t1 = df['goals_g3score_t1'].mean()\n",
    "g1_avg_t2 = df['goals_g1score_t2'].mean()\n",
    "g2_avg_t2 = df['goals_g2score_t2'].mean()\n",
    "g3_avg_t2 = df['goals_g3score_t2'].mean()\n",
    "\n",
    "gbo_avg_t1 = np.round((g1_avg_t1 + g2_avg_t1 + g3_avg_t1)/3,2)\n",
    "gbo_avg_t2 = np.round((g1_avg_t2 + g2_avg_t2 + g3_avg_t2)/3,2)\n",
    "gbo_avg_diff = np.round(gbo_avg_t2 - gbo_avg_t1,2)\n",
    "\n",
    "print('GBO Average T1:', gbo_avg_t1)\n",
    "print('GBO Average T2:', gbo_avg_t2)\n",
    "print('GBO Average difference between T1 and T2:', gbo_avg_diff)"
   ]
  },
  {
   "cell_type": "code",
   "execution_count": 479,
   "metadata": {},
   "outputs": [
    {
     "data": {
      "image/png": "[encoded data removed]",
      "text/plain": [
       "<Figure size 432x288 with 1 Axes>"
      ]
     },
     "metadata": {
      "needs_background": "light"
     },
     "output_type": "display_data"
    }
   ],
   "source": [
    "objects = ['T1','T2']\n",
    "y_pos = np.arange(len(objects))\n",
    "performance = [gbo_avg_t1, gbo_avg_t2]\n",
    "\n",
    "plt.bar(y_pos, performance, align='center', alpha=0.5)\n",
    "plt.xticks(y_pos, objects)\n",
    "plt.ylabel('Score')\n",
    "plt.title('Average GBO Score')\n",
    "\n",
    "plt.show()"
   ]
  },
  {
   "cell_type": "markdown",
   "metadata": {},
   "source": [
    "<b>Experience of Service</b><br>\n",
    "Calculate N's for ESQ Parent<br>\n",
    "Calculate N's for ESQ Self 12-18<br>\n",
    "Calculate N's for ESQ Self 9-11<br>\n",
    "Calculate N's for SRS<br>\n",
    "Calculate average number of 'certainly true' responses for each ESQ<br>\n",
    "Create bar graph to show average number of 'certainly true' responses for each ESQ<br>\n",
    "Calculate average score for each subscales of the SRS<br>\n",
    "Create a bar chart to show average score for each subcale of the SRS"
   ]
  }
 ],
 "metadata": {
  "kernelspec": {
   "display_name": "Python 3",
   "language": "python",
   "name": "python3"
  },
  "language_info": {
   "codemirror_mode": {
    "name": "ipython",
    "version": 3
   },
   "file_extension": ".py",
   "mimetype": "text/x-python",
   "name": "python",
   "nbconvert_exporter": "python",
   "pygments_lexer": "ipython3",
   "version": "3.8.3"
  }
 },
 "nbformat": 4,
 "nbformat_minor": 4
}
