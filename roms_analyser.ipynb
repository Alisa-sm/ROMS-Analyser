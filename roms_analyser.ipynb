{
 "cells": [
  {
   "cell_type": "code",
   "execution_count": 75,
   "metadata": {},
   "outputs": [],
   "source": [
    "import pandas as pd\n",
    "import numpy as np\n",
    "from scipy import stats"
   ]
  },
  {
   "cell_type": "markdown",
   "metadata": {},
   "source": [
    "After importing the appropriate libraries, load the excel files to dataframes."
   ]
  },
  {
   "cell_type": "code",
   "execution_count": 76,
   "metadata": {},
   "outputs": [],
   "source": [
    "emhp_data = pd.read_excel('EMHP.xlsx')\n",
    "cwp_data = pd.read_excel('CWP.xlsx')"
   ]
  },
  {
   "cell_type": "markdown",
   "metadata": {},
   "source": [
    "The referred population - this analysis summarises the outcomes for the following completed cases"
   ]
  },
  {
   "cell_type": "code",
   "execution_count": 77,
   "metadata": {},
   "outputs": [
    {
     "data": {
      "text/plain": [
       "patient     936\n",
       "parent_1    375\n",
       "Name: completed_by, dtype: int64"
      ]
     },
     "execution_count": 77,
     "metadata": {},
     "output_type": "execute_result"
    }
   ],
   "source": [
    "number_of_cases_emhp = emhp_data['completed_by'].value_counts()\n",
    "number_of_cases_emhp"
   ]
  },
  {
   "cell_type": "code",
   "execution_count": 78,
   "metadata": {},
   "outputs": [
    {
     "data": {
      "text/plain": [
       "patient     4294\n",
       "parent_1    1422\n",
       "staff        107\n",
       "parent_2      25\n",
       "Name: completed_by, dtype: int64"
      ]
     },
     "execution_count": 78,
     "metadata": {},
     "output_type": "execute_result"
    }
   ],
   "source": [
    "number_of_cases_cwp = cwp_data['completed_by'].value_counts()\n",
    "number_of_cases_cwp"
   ]
  },
  {
   "cell_type": "markdown",
   "metadata": {},
   "source": [
    "<b>Completed EMHP Cases</b> = 936<br>\n",
    "<b>Completed CWP Cases</b> = 4294"
   ]
  },
  {
   "cell_type": "markdown",
   "metadata": {},
   "source": [
    "RCADS and SDQ completions at baseline (timepoint 1)"
   ]
  },
  {
   "cell_type": "markdown",
   "metadata": {},
   "source": [
    "<b>EMHP</b>"
   ]
  },
  {
   "cell_type": "code",
   "execution_count": 79,
   "metadata": {},
   "outputs": [
    {
     "data": {
      "text/html": [
       "<div>\n",
       "<style scoped>\n",
       "    .dataframe tbody tr th:only-of-type {\n",
       "        vertical-align: middle;\n",
       "    }\n",
       "\n",
       "    .dataframe tbody tr th {\n",
       "        vertical-align: top;\n",
       "    }\n",
       "\n",
       "    .dataframe thead th {\n",
       "        text-align: right;\n",
       "    }\n",
       "</style>\n",
       "<table border=\"1\" class=\"dataframe\">\n",
       "  <thead>\n",
       "    <tr style=\"text-align: right;\">\n",
       "      <th></th>\n",
       "      <th>sdq_total_t1</th>\n",
       "      <th>rcads_tscore_anx_dep_t1</th>\n",
       "    </tr>\n",
       "  </thead>\n",
       "  <tbody>\n",
       "    <tr>\n",
       "      <th>count</th>\n",
       "      <td>497.00</td>\n",
       "      <td>364.00</td>\n",
       "    </tr>\n",
       "    <tr>\n",
       "      <th>mean</th>\n",
       "      <td>18.37</td>\n",
       "      <td>63.55</td>\n",
       "    </tr>\n",
       "    <tr>\n",
       "      <th>std</th>\n",
       "      <td>6.78</td>\n",
       "      <td>14.74</td>\n",
       "    </tr>\n",
       "    <tr>\n",
       "      <th>min</th>\n",
       "      <td>2.00</td>\n",
       "      <td>33.00</td>\n",
       "    </tr>\n",
       "    <tr>\n",
       "      <th>25%</th>\n",
       "      <td>13.00</td>\n",
       "      <td>53.00</td>\n",
       "    </tr>\n",
       "    <tr>\n",
       "      <th>50%</th>\n",
       "      <td>18.00</td>\n",
       "      <td>64.00</td>\n",
       "    </tr>\n",
       "    <tr>\n",
       "      <th>75%</th>\n",
       "      <td>24.00</td>\n",
       "      <td>74.00</td>\n",
       "    </tr>\n",
       "    <tr>\n",
       "      <th>max</th>\n",
       "      <td>37.00</td>\n",
       "      <td>101.00</td>\n",
       "    </tr>\n",
       "  </tbody>\n",
       "</table>\n",
       "</div>"
      ],
      "text/plain": [
       "       sdq_total_t1  rcads_tscore_anx_dep_t1\n",
       "count        497.00                   364.00\n",
       "mean          18.37                    63.55\n",
       "std            6.78                    14.74\n",
       "min            2.00                    33.00\n",
       "25%           13.00                    53.00\n",
       "50%           18.00                    64.00\n",
       "75%           24.00                    74.00\n",
       "max           37.00                   101.00"
      ]
     },
     "execution_count": 79,
     "metadata": {},
     "output_type": "execute_result"
    }
   ],
   "source": [
    "emhp_baseline = emhp_data.filter(items=['sdq_total_t1','rcads_tscore_anx_dep_t1'])\n",
    "emhp_baseline.describe().round(2)"
   ]
  },
  {
   "cell_type": "markdown",
   "metadata": {},
   "source": [
    "<b>CWP</b>"
   ]
  },
  {
   "cell_type": "code",
   "execution_count": 80,
   "metadata": {},
   "outputs": [
    {
     "data": {
      "text/html": [
       "<div>\n",
       "<style scoped>\n",
       "    .dataframe tbody tr th:only-of-type {\n",
       "        vertical-align: middle;\n",
       "    }\n",
       "\n",
       "    .dataframe tbody tr th {\n",
       "        vertical-align: top;\n",
       "    }\n",
       "\n",
       "    .dataframe thead th {\n",
       "        text-align: right;\n",
       "    }\n",
       "</style>\n",
       "<table border=\"1\" class=\"dataframe\">\n",
       "  <thead>\n",
       "    <tr style=\"text-align: right;\">\n",
       "      <th></th>\n",
       "      <th>sdq_total_t1</th>\n",
       "      <th>rcads_tscore_anx_dep_t1</th>\n",
       "    </tr>\n",
       "  </thead>\n",
       "  <tbody>\n",
       "    <tr>\n",
       "      <th>count</th>\n",
       "      <td>2450.00</td>\n",
       "      <td>2164.00</td>\n",
       "    </tr>\n",
       "    <tr>\n",
       "      <th>mean</th>\n",
       "      <td>17.35</td>\n",
       "      <td>63.13</td>\n",
       "    </tr>\n",
       "    <tr>\n",
       "      <th>std</th>\n",
       "      <td>6.76</td>\n",
       "      <td>14.96</td>\n",
       "    </tr>\n",
       "    <tr>\n",
       "      <th>min</th>\n",
       "      <td>0.00</td>\n",
       "      <td>32.00</td>\n",
       "    </tr>\n",
       "    <tr>\n",
       "      <th>25%</th>\n",
       "      <td>12.00</td>\n",
       "      <td>52.00</td>\n",
       "    </tr>\n",
       "    <tr>\n",
       "      <th>50%</th>\n",
       "      <td>17.00</td>\n",
       "      <td>62.00</td>\n",
       "    </tr>\n",
       "    <tr>\n",
       "      <th>75%</th>\n",
       "      <td>22.00</td>\n",
       "      <td>74.00</td>\n",
       "    </tr>\n",
       "    <tr>\n",
       "      <th>max</th>\n",
       "      <td>38.00</td>\n",
       "      <td>104.00</td>\n",
       "    </tr>\n",
       "  </tbody>\n",
       "</table>\n",
       "</div>"
      ],
      "text/plain": [
       "       sdq_total_t1  rcads_tscore_anx_dep_t1\n",
       "count       2450.00                  2164.00\n",
       "mean          17.35                    63.13\n",
       "std            6.76                    14.96\n",
       "min            0.00                    32.00\n",
       "25%           12.00                    52.00\n",
       "50%           17.00                    62.00\n",
       "75%           22.00                    74.00\n",
       "max           38.00                   104.00"
      ]
     },
     "execution_count": 80,
     "metadata": {},
     "output_type": "execute_result"
    }
   ],
   "source": [
    "cwp_baseline = cwp_data.filter(items=['sdq_total_t1','rcads_tscore_anx_dep_t1'])\n",
    "cwp_baseline.describe().round(2)"
   ]
  },
  {
   "cell_type": "markdown",
   "metadata": {},
   "source": [
    "<b>Anxiety and Depression (RCADS)</b><br>\n",
    "Looking at specific RCADS subscales for EMHP and CWP"
   ]
  },
  {
   "cell_type": "markdown",
   "metadata": {},
   "source": [
    "<b>EMHP</b>"
   ]
  },
  {
   "cell_type": "code",
   "execution_count": 81,
   "metadata": {},
   "outputs": [
    {
     "data": {
      "text/html": [
       "<div>\n",
       "<style scoped>\n",
       "    .dataframe tbody tr th:only-of-type {\n",
       "        vertical-align: middle;\n",
       "    }\n",
       "\n",
       "    .dataframe tbody tr th {\n",
       "        vertical-align: top;\n",
       "    }\n",
       "\n",
       "    .dataframe thead th {\n",
       "        text-align: right;\n",
       "    }\n",
       "</style>\n",
       "<table border=\"1\" class=\"dataframe\">\n",
       "  <thead>\n",
       "    <tr style=\"text-align: right;\">\n",
       "      <th></th>\n",
       "      <th>rcads_tscore_gad_t1</th>\n",
       "      <th>rcads_tscore_gad_t2</th>\n",
       "      <th>rcads_tscore_mdd_t1</th>\n",
       "      <th>rcads_tscore_mdd_t2</th>\n",
       "      <th>rcads_tscore_pd_t1</th>\n",
       "      <th>rcads_tscore_pd_t2</th>\n",
       "      <th>rcads_tscore_sp_t1</th>\n",
       "      <th>rcads_tscore_sp_t2</th>\n",
       "    </tr>\n",
       "  </thead>\n",
       "  <tbody>\n",
       "    <tr>\n",
       "      <th>count</th>\n",
       "      <td>369.00</td>\n",
       "      <td>257.00</td>\n",
       "      <td>381.00</td>\n",
       "      <td>299.00</td>\n",
       "      <td>368.00</td>\n",
       "      <td>253.00</td>\n",
       "      <td>367.00</td>\n",
       "      <td>265.00</td>\n",
       "    </tr>\n",
       "    <tr>\n",
       "      <th>mean</th>\n",
       "      <td>54.51</td>\n",
       "      <td>46.82</td>\n",
       "      <td>64.11</td>\n",
       "      <td>55.87</td>\n",
       "      <td>67.97</td>\n",
       "      <td>59.36</td>\n",
       "      <td>57.35</td>\n",
       "      <td>50.04</td>\n",
       "    </tr>\n",
       "    <tr>\n",
       "      <th>std</th>\n",
       "      <td>12.32</td>\n",
       "      <td>11.93</td>\n",
       "      <td>15.26</td>\n",
       "      <td>16.24</td>\n",
       "      <td>18.37</td>\n",
       "      <td>17.53</td>\n",
       "      <td>12.43</td>\n",
       "      <td>13.19</td>\n",
       "    </tr>\n",
       "    <tr>\n",
       "      <th>min</th>\n",
       "      <td>29.00</td>\n",
       "      <td>26.00</td>\n",
       "      <td>31.00</td>\n",
       "      <td>29.00</td>\n",
       "      <td>37.00</td>\n",
       "      <td>36.00</td>\n",
       "      <td>27.00</td>\n",
       "      <td>24.00</td>\n",
       "    </tr>\n",
       "    <tr>\n",
       "      <th>25%</th>\n",
       "      <td>46.00</td>\n",
       "      <td>38.00</td>\n",
       "      <td>54.00</td>\n",
       "      <td>42.00</td>\n",
       "      <td>53.75</td>\n",
       "      <td>46.00</td>\n",
       "      <td>49.00</td>\n",
       "      <td>40.00</td>\n",
       "    </tr>\n",
       "    <tr>\n",
       "      <th>50%</th>\n",
       "      <td>53.00</td>\n",
       "      <td>46.00</td>\n",
       "      <td>64.00</td>\n",
       "      <td>54.00</td>\n",
       "      <td>66.00</td>\n",
       "      <td>55.00</td>\n",
       "      <td>58.00</td>\n",
       "      <td>48.00</td>\n",
       "    </tr>\n",
       "    <tr>\n",
       "      <th>75%</th>\n",
       "      <td>64.00</td>\n",
       "      <td>54.00</td>\n",
       "      <td>74.00</td>\n",
       "      <td>65.00</td>\n",
       "      <td>80.25</td>\n",
       "      <td>69.00</td>\n",
       "      <td>67.00</td>\n",
       "      <td>58.00</td>\n",
       "    </tr>\n",
       "    <tr>\n",
       "      <th>max</th>\n",
       "      <td>88.00</td>\n",
       "      <td>83.00</td>\n",
       "      <td>108.00</td>\n",
       "      <td>111.00</td>\n",
       "      <td>121.00</td>\n",
       "      <td>124.00</td>\n",
       "      <td>82.00</td>\n",
       "      <td>78.00</td>\n",
       "    </tr>\n",
       "  </tbody>\n",
       "</table>\n",
       "</div>"
      ],
      "text/plain": [
       "       rcads_tscore_gad_t1  rcads_tscore_gad_t2  rcads_tscore_mdd_t1  \\\n",
       "count               369.00               257.00               381.00   \n",
       "mean                 54.51                46.82                64.11   \n",
       "std                  12.32                11.93                15.26   \n",
       "min                  29.00                26.00                31.00   \n",
       "25%                  46.00                38.00                54.00   \n",
       "50%                  53.00                46.00                64.00   \n",
       "75%                  64.00                54.00                74.00   \n",
       "max                  88.00                83.00               108.00   \n",
       "\n",
       "       rcads_tscore_mdd_t2  rcads_tscore_pd_t1  rcads_tscore_pd_t2  \\\n",
       "count               299.00              368.00              253.00   \n",
       "mean                 55.87               67.97               59.36   \n",
       "std                  16.24               18.37               17.53   \n",
       "min                  29.00               37.00               36.00   \n",
       "25%                  42.00               53.75               46.00   \n",
       "50%                  54.00               66.00               55.00   \n",
       "75%                  65.00               80.25               69.00   \n",
       "max                 111.00              121.00              124.00   \n",
       "\n",
       "       rcads_tscore_sp_t1  rcads_tscore_sp_t2  \n",
       "count              367.00              265.00  \n",
       "mean                57.35               50.04  \n",
       "std                 12.43               13.19  \n",
       "min                 27.00               24.00  \n",
       "25%                 49.00               40.00  \n",
       "50%                 58.00               48.00  \n",
       "75%                 67.00               58.00  \n",
       "max                 82.00               78.00  "
      ]
     },
     "execution_count": 81,
     "metadata": {},
     "output_type": "execute_result"
    }
   ],
   "source": [
    "emhp_rcads_subscales = emhp_data.filter(items=['rcads_tscore_gad_t1','rcads_tscore_gad_t2','rcads_tscore_mdd_t1','rcads_tscore_mdd_t2','rcads_tscore_pd_t1','rcads_tscore_pd_t2','rcads_tscore_sp_t1','rcads_tscore_sp_t2'])\n",
    "emhp_rcads_subscales.describe().round(2)"
   ]
  },
  {
   "cell_type": "markdown",
   "metadata": {},
   "source": [
    "<b>CWP</b>"
   ]
  },
  {
   "cell_type": "code",
   "execution_count": 82,
   "metadata": {},
   "outputs": [
    {
     "data": {
      "text/html": [
       "<div>\n",
       "<style scoped>\n",
       "    .dataframe tbody tr th:only-of-type {\n",
       "        vertical-align: middle;\n",
       "    }\n",
       "\n",
       "    .dataframe tbody tr th {\n",
       "        vertical-align: top;\n",
       "    }\n",
       "\n",
       "    .dataframe thead th {\n",
       "        text-align: right;\n",
       "    }\n",
       "</style>\n",
       "<table border=\"1\" class=\"dataframe\">\n",
       "  <thead>\n",
       "    <tr style=\"text-align: right;\">\n",
       "      <th></th>\n",
       "      <th>rcads_tscore_gad_t1</th>\n",
       "      <th>rcads_tscore_gad_t2</th>\n",
       "      <th>rcads_tscore_mdd_t1</th>\n",
       "      <th>rcads_tscore_mdd_t2</th>\n",
       "      <th>rcads_tscore_pd_t1</th>\n",
       "      <th>rcads_tscore_pd_t2</th>\n",
       "      <th>rcads_tscore_sp_t1</th>\n",
       "      <th>rcads_tscore_sp_t2</th>\n",
       "    </tr>\n",
       "  </thead>\n",
       "  <tbody>\n",
       "    <tr>\n",
       "      <th>count</th>\n",
       "      <td>2188.00</td>\n",
       "      <td>1828.00</td>\n",
       "      <td>2202.00</td>\n",
       "      <td>1919.0</td>\n",
       "      <td>2188.00</td>\n",
       "      <td>1835.00</td>\n",
       "      <td>2199.00</td>\n",
       "      <td>1872.00</td>\n",
       "    </tr>\n",
       "    <tr>\n",
       "      <th>mean</th>\n",
       "      <td>54.61</td>\n",
       "      <td>46.80</td>\n",
       "      <td>63.58</td>\n",
       "      <td>55.4</td>\n",
       "      <td>67.77</td>\n",
       "      <td>58.39</td>\n",
       "      <td>56.74</td>\n",
       "      <td>49.29</td>\n",
       "    </tr>\n",
       "    <tr>\n",
       "      <th>std</th>\n",
       "      <td>12.36</td>\n",
       "      <td>12.01</td>\n",
       "      <td>15.35</td>\n",
       "      <td>16.6</td>\n",
       "      <td>18.71</td>\n",
       "      <td>17.09</td>\n",
       "      <td>12.90</td>\n",
       "      <td>13.33</td>\n",
       "    </tr>\n",
       "    <tr>\n",
       "      <th>min</th>\n",
       "      <td>27.00</td>\n",
       "      <td>26.00</td>\n",
       "      <td>29.00</td>\n",
       "      <td>29.0</td>\n",
       "      <td>36.00</td>\n",
       "      <td>36.00</td>\n",
       "      <td>24.00</td>\n",
       "      <td>24.00</td>\n",
       "    </tr>\n",
       "    <tr>\n",
       "      <th>25%</th>\n",
       "      <td>46.00</td>\n",
       "      <td>38.00</td>\n",
       "      <td>53.00</td>\n",
       "      <td>42.5</td>\n",
       "      <td>53.00</td>\n",
       "      <td>45.00</td>\n",
       "      <td>47.00</td>\n",
       "      <td>40.00</td>\n",
       "    </tr>\n",
       "    <tr>\n",
       "      <th>50%</th>\n",
       "      <td>53.00</td>\n",
       "      <td>46.00</td>\n",
       "      <td>63.00</td>\n",
       "      <td>54.0</td>\n",
       "      <td>66.00</td>\n",
       "      <td>54.00</td>\n",
       "      <td>57.00</td>\n",
       "      <td>48.00</td>\n",
       "    </tr>\n",
       "    <tr>\n",
       "      <th>75%</th>\n",
       "      <td>64.00</td>\n",
       "      <td>53.25</td>\n",
       "      <td>74.00</td>\n",
       "      <td>66.0</td>\n",
       "      <td>80.00</td>\n",
       "      <td>68.00</td>\n",
       "      <td>67.00</td>\n",
       "      <td>58.00</td>\n",
       "    </tr>\n",
       "    <tr>\n",
       "      <th>max</th>\n",
       "      <td>88.00</td>\n",
       "      <td>88.00</td>\n",
       "      <td>113.00</td>\n",
       "      <td>114.0</td>\n",
       "      <td>132.00</td>\n",
       "      <td>136.00</td>\n",
       "      <td>86.00</td>\n",
       "      <td>85.00</td>\n",
       "    </tr>\n",
       "  </tbody>\n",
       "</table>\n",
       "</div>"
      ],
      "text/plain": [
       "       rcads_tscore_gad_t1  rcads_tscore_gad_t2  rcads_tscore_mdd_t1  \\\n",
       "count              2188.00              1828.00              2202.00   \n",
       "mean                 54.61                46.80                63.58   \n",
       "std                  12.36                12.01                15.35   \n",
       "min                  27.00                26.00                29.00   \n",
       "25%                  46.00                38.00                53.00   \n",
       "50%                  53.00                46.00                63.00   \n",
       "75%                  64.00                53.25                74.00   \n",
       "max                  88.00                88.00               113.00   \n",
       "\n",
       "       rcads_tscore_mdd_t2  rcads_tscore_pd_t1  rcads_tscore_pd_t2  \\\n",
       "count               1919.0             2188.00             1835.00   \n",
       "mean                  55.4               67.77               58.39   \n",
       "std                   16.6               18.71               17.09   \n",
       "min                   29.0               36.00               36.00   \n",
       "25%                   42.5               53.00               45.00   \n",
       "50%                   54.0               66.00               54.00   \n",
       "75%                   66.0               80.00               68.00   \n",
       "max                  114.0              132.00              136.00   \n",
       "\n",
       "       rcads_tscore_sp_t1  rcads_tscore_sp_t2  \n",
       "count             2199.00             1872.00  \n",
       "mean                56.74               49.29  \n",
       "std                 12.90               13.33  \n",
       "min                 24.00               24.00  \n",
       "25%                 47.00               40.00  \n",
       "50%                 57.00               48.00  \n",
       "75%                 67.00               58.00  \n",
       "max                 86.00               85.00  "
      ]
     },
     "execution_count": 82,
     "metadata": {},
     "output_type": "execute_result"
    }
   ],
   "source": [
    "cwp_rcads_subscales = cwp_data.filter(items=['rcads_tscore_gad_t1','rcads_tscore_gad_t2','rcads_tscore_mdd_t1','rcads_tscore_mdd_t2','rcads_tscore_pd_t1','rcads_tscore_pd_t2','rcads_tscore_sp_t1','rcads_tscore_sp_t2'])\n",
    "cwp_rcads_subscales.describe().round(2)"
   ]
  },
  {
   "cell_type": "markdown",
   "metadata": {},
   "source": [
    "Percentage of RCADS total scores (t-scores) meeting threshold (baseline vs end of treatment)"
   ]
  },
  {
   "cell_type": "markdown",
   "metadata": {},
   "source": [
    "<b>EMHP</b>"
   ]
  },
  {
   "cell_type": "code",
   "execution_count": 83,
   "metadata": {},
   "outputs": [
    {
     "data": {
      "text/html": [
       "<div>\n",
       "<style scoped>\n",
       "    .dataframe tbody tr th:only-of-type {\n",
       "        vertical-align: middle;\n",
       "    }\n",
       "\n",
       "    .dataframe tbody tr th {\n",
       "        vertical-align: top;\n",
       "    }\n",
       "\n",
       "    .dataframe thead th {\n",
       "        text-align: right;\n",
       "    }\n",
       "</style>\n",
       "<table border=\"1\" class=\"dataframe\">\n",
       "  <thead>\n",
       "    <tr style=\"text-align: right;\">\n",
       "      <th></th>\n",
       "      <th>rcads_band_anx_dep_t1</th>\n",
       "      <th>rcads_band_anx_dep_t2</th>\n",
       "    </tr>\n",
       "  </thead>\n",
       "  <tbody>\n",
       "    <tr>\n",
       "      <th>Normal range</th>\n",
       "      <td>189</td>\n",
       "      <td>185</td>\n",
       "    </tr>\n",
       "    <tr>\n",
       "      <th>High score (top 2%)</th>\n",
       "      <td>130</td>\n",
       "      <td>33</td>\n",
       "    </tr>\n",
       "    <tr>\n",
       "      <th>Raised score (top 6%)</th>\n",
       "      <td>45</td>\n",
       "      <td>12</td>\n",
       "    </tr>\n",
       "  </tbody>\n",
       "</table>\n",
       "</div>"
      ],
      "text/plain": [
       "                       rcads_band_anx_dep_t1  rcads_band_anx_dep_t2\n",
       "Normal range                             189                    185\n",
       "High score (top 2%)                      130                     33\n",
       "Raised score (top 6%)                     45                     12"
      ]
     },
     "execution_count": 83,
     "metadata": {},
     "output_type": "execute_result"
    }
   ],
   "source": [
    "emhp_rcads_total_bands = emhp_data.filter(items=['rcads_band_anx_dep_t1','rcads_band_anx_dep_t2'])\n",
    "emhp_rcads_total_bands.apply(pd.Series.value_counts)"
   ]
  },
  {
   "cell_type": "markdown",
   "metadata": {},
   "source": [
    "<b>CWP</b>"
   ]
  },
  {
   "cell_type": "code",
   "execution_count": 84,
   "metadata": {},
   "outputs": [
    {
     "data": {
      "text/html": [
       "<div>\n",
       "<style scoped>\n",
       "    .dataframe tbody tr th:only-of-type {\n",
       "        vertical-align: middle;\n",
       "    }\n",
       "\n",
       "    .dataframe tbody tr th {\n",
       "        vertical-align: top;\n",
       "    }\n",
       "\n",
       "    .dataframe thead th {\n",
       "        text-align: right;\n",
       "    }\n",
       "</style>\n",
       "<table border=\"1\" class=\"dataframe\">\n",
       "  <thead>\n",
       "    <tr style=\"text-align: right;\">\n",
       "      <th></th>\n",
       "      <th>rcads_band_anx_dep_t1</th>\n",
       "      <th>rcads_band_anx_dep_t2</th>\n",
       "    </tr>\n",
       "  </thead>\n",
       "  <tbody>\n",
       "    <tr>\n",
       "      <th>Normal range</th>\n",
       "      <td>1184</td>\n",
       "      <td>1370</td>\n",
       "    </tr>\n",
       "    <tr>\n",
       "      <th>High score (top 2%)</th>\n",
       "      <td>738</td>\n",
       "      <td>245</td>\n",
       "    </tr>\n",
       "    <tr>\n",
       "      <th>Raised score (top 6%)</th>\n",
       "      <td>245</td>\n",
       "      <td>120</td>\n",
       "    </tr>\n",
       "  </tbody>\n",
       "</table>\n",
       "</div>"
      ],
      "text/plain": [
       "                       rcads_band_anx_dep_t1  rcads_band_anx_dep_t2\n",
       "Normal range                            1184                   1370\n",
       "High score (top 2%)                      738                    245\n",
       "Raised score (top 6%)                    245                    120"
      ]
     },
     "execution_count": 84,
     "metadata": {},
     "output_type": "execute_result"
    }
   ],
   "source": [
    "cwp_rcads_total_bands = cwp_data.filter(items=['rcads_band_anx_dep_t1','rcads_band_anx_dep_t2'])\n",
    "cwp_rcads_total_bands.apply(pd.Series.value_counts)"
   ]
  },
  {
   "cell_type": "markdown",
   "metadata": {},
   "source": [
    "Now we are going to see if the differences in rcads scores pre and post treatment are significant or not"
   ]
  },
  {
   "cell_type": "markdown",
   "metadata": {},
   "source": [
    "1) Inspect if there are any outliers in the rcads scores"
   ]
  },
  {
   "cell_type": "markdown",
   "metadata": {},
   "source": [
    "<b>EMHP</b>"
   ]
  },
  {
   "cell_type": "code",
   "execution_count": 85,
   "metadata": {},
   "outputs": [
    {
     "data": {
      "text/plain": [
       "<matplotlib.axes._subplots.AxesSubplot at 0x1a0e41c470>"
      ]
     },
     "execution_count": 85,
     "metadata": {},
     "output_type": "execute_result"
    },
    {
     "data": {
      "image/png": "[encoded data removed]",
      "text/plain": [
       "<matplotlib.figure.Figure at 0x1a0e236940>"
      ]
     },
     "metadata": {},
     "output_type": "display_data"
    }
   ],
   "source": [
    "emhp_rcads_total = emhp_data.filter(items=['rcads_tscore_anx_dep_t1','rcads_tscore_anx_dep_t2'])\n",
    "emhp_rcads_total.boxplot(column=['rcads_tscore_anx_dep_t1','rcads_tscore_anx_dep_t2'])"
   ]
  },
  {
   "cell_type": "code",
   "execution_count": 94,
   "metadata": {},
   "outputs": [
    {
     "data": {
      "text/html": [
       "<div>\n",
       "<style scoped>\n",
       "    .dataframe tbody tr th:only-of-type {\n",
       "        vertical-align: middle;\n",
       "    }\n",
       "\n",
       "    .dataframe tbody tr th {\n",
       "        vertical-align: top;\n",
       "    }\n",
       "\n",
       "    .dataframe thead th {\n",
       "        text-align: right;\n",
       "    }\n",
       "</style>\n",
       "<table border=\"1\" class=\"dataframe\">\n",
       "  <thead>\n",
       "    <tr style=\"text-align: right;\">\n",
       "      <th></th>\n",
       "      <th>rcads_tscore_anx_dep_t1</th>\n",
       "      <th>rcads_tscore_anx_dep_t2</th>\n",
       "    </tr>\n",
       "  </thead>\n",
       "  <tbody>\n",
       "    <tr>\n",
       "      <th>count</th>\n",
       "      <td>364.00</td>\n",
       "      <td>230.00</td>\n",
       "    </tr>\n",
       "    <tr>\n",
       "      <th>mean</th>\n",
       "      <td>63.55</td>\n",
       "      <td>52.66</td>\n",
       "    </tr>\n",
       "    <tr>\n",
       "      <th>std</th>\n",
       "      <td>14.74</td>\n",
       "      <td>14.81</td>\n",
       "    </tr>\n",
       "    <tr>\n",
       "      <th>min</th>\n",
       "      <td>33.00</td>\n",
       "      <td>32.00</td>\n",
       "    </tr>\n",
       "    <tr>\n",
       "      <th>25%</th>\n",
       "      <td>53.00</td>\n",
       "      <td>41.00</td>\n",
       "    </tr>\n",
       "    <tr>\n",
       "      <th>50%</th>\n",
       "      <td>64.00</td>\n",
       "      <td>52.00</td>\n",
       "    </tr>\n",
       "    <tr>\n",
       "      <th>75%</th>\n",
       "      <td>74.00</td>\n",
       "      <td>60.75</td>\n",
       "    </tr>\n",
       "    <tr>\n",
       "      <th>max</th>\n",
       "      <td>101.00</td>\n",
       "      <td>101.00</td>\n",
       "    </tr>\n",
       "  </tbody>\n",
       "</table>\n",
       "</div>"
      ],
      "text/plain": [
       "       rcads_tscore_anx_dep_t1  rcads_tscore_anx_dep_t2\n",
       "count                   364.00                   230.00\n",
       "mean                     63.55                    52.66\n",
       "std                      14.74                    14.81\n",
       "min                      33.00                    32.00\n",
       "25%                      53.00                    41.00\n",
       "50%                      64.00                    52.00\n",
       "75%                      74.00                    60.75\n",
       "max                     101.00                   101.00"
      ]
     },
     "execution_count": 94,
     "metadata": {},
     "output_type": "execute_result"
    }
   ],
   "source": [
    "emhp_rcads_total.describe().round(2)"
   ]
  },
  {
   "cell_type": "markdown",
   "metadata": {},
   "source": [
    "<b>CWP</b>"
   ]
  },
  {
   "cell_type": "code",
   "execution_count": 86,
   "metadata": {},
   "outputs": [
    {
     "data": {
      "text/plain": [
       "<matplotlib.axes._subplots.AxesSubplot at 0x1a17c69710>"
      ]
     },
     "execution_count": 86,
     "metadata": {},
     "output_type": "execute_result"
    },
    {
     "data": {
      "image/png": "[encoded data removed]",
      "text/plain": [
       "<matplotlib.figure.Figure at 0x1a0e404d68>"
      ]
     },
     "metadata": {},
     "output_type": "display_data"
    }
   ],
   "source": [
    "cwp_rcads_total = cwp_data.filter(items=['rcads_tscore_anx_dep_t1','rcads_tscore_anx_dep_t2'])\n",
    "cwp_rcads_total.boxplot(column=['rcads_tscore_anx_dep_t1','rcads_tscore_anx_dep_t2'])"
   ]
  },
  {
   "cell_type": "code",
   "execution_count": 95,
   "metadata": {},
   "outputs": [
    {
     "data": {
      "text/html": [
       "<div>\n",
       "<style scoped>\n",
       "    .dataframe tbody tr th:only-of-type {\n",
       "        vertical-align: middle;\n",
       "    }\n",
       "\n",
       "    .dataframe tbody tr th {\n",
       "        vertical-align: top;\n",
       "    }\n",
       "\n",
       "    .dataframe thead th {\n",
       "        text-align: right;\n",
       "    }\n",
       "</style>\n",
       "<table border=\"1\" class=\"dataframe\">\n",
       "  <thead>\n",
       "    <tr style=\"text-align: right;\">\n",
       "      <th></th>\n",
       "      <th>rcads_tscore_anx_dep_t1</th>\n",
       "      <th>rcads_tscore_anx_dep_t2</th>\n",
       "    </tr>\n",
       "  </thead>\n",
       "  <tbody>\n",
       "    <tr>\n",
       "      <th>count</th>\n",
       "      <td>2164.00</td>\n",
       "      <td>1735.00</td>\n",
       "    </tr>\n",
       "    <tr>\n",
       "      <th>mean</th>\n",
       "      <td>63.13</td>\n",
       "      <td>52.35</td>\n",
       "    </tr>\n",
       "    <tr>\n",
       "      <th>std</th>\n",
       "      <td>14.96</td>\n",
       "      <td>15.18</td>\n",
       "    </tr>\n",
       "    <tr>\n",
       "      <th>min</th>\n",
       "      <td>32.00</td>\n",
       "      <td>32.00</td>\n",
       "    </tr>\n",
       "    <tr>\n",
       "      <th>25%</th>\n",
       "      <td>52.00</td>\n",
       "      <td>40.00</td>\n",
       "    </tr>\n",
       "    <tr>\n",
       "      <th>50%</th>\n",
       "      <td>62.00</td>\n",
       "      <td>50.00</td>\n",
       "    </tr>\n",
       "    <tr>\n",
       "      <th>75%</th>\n",
       "      <td>74.00</td>\n",
       "      <td>62.00</td>\n",
       "    </tr>\n",
       "    <tr>\n",
       "      <th>max</th>\n",
       "      <td>104.00</td>\n",
       "      <td>104.00</td>\n",
       "    </tr>\n",
       "  </tbody>\n",
       "</table>\n",
       "</div>"
      ],
      "text/plain": [
       "       rcads_tscore_anx_dep_t1  rcads_tscore_anx_dep_t2\n",
       "count                  2164.00                  1735.00\n",
       "mean                     63.13                    52.35\n",
       "std                      14.96                    15.18\n",
       "min                      32.00                    32.00\n",
       "25%                      52.00                    40.00\n",
       "50%                      62.00                    50.00\n",
       "75%                      74.00                    62.00\n",
       "max                     104.00                   104.00"
      ]
     },
     "execution_count": 95,
     "metadata": {},
     "output_type": "execute_result"
    }
   ],
   "source": [
    "cwp_rcads_total.describe().round(2)"
   ]
  },
  {
   "cell_type": "markdown",
   "metadata": {},
   "source": [
    "2) See if the data is normally distributed. If the assumption of normality is violated, we will conduct the Wilcoxon signed-rank test. If the assumption of normality is not violated, we will conduct a paired t-test."
   ]
  },
  {
   "cell_type": "markdown",
   "metadata": {},
   "source": [
    "<b>EMHP</b>"
   ]
  },
  {
   "cell_type": "code",
   "execution_count": 96,
   "metadata": {},
   "outputs": [
    {
     "data": {
      "text/plain": [
       "(0.9898948669433594, 0.12300495058298111)"
      ]
     },
     "execution_count": 96,
     "metadata": {},
     "output_type": "execute_result"
    }
   ],
   "source": [
    "emhp_rcads_total_nan = emhp_rcads_total.dropna()\n",
    "stats.shapiro(emhp_rcads_total_nan['rcads_tscore_anx_dep_t1'])"
   ]
  },
  {
   "cell_type": "code",
   "execution_count": 97,
   "metadata": {},
   "outputs": [
    {
     "data": {
      "text/plain": [
       "(0.9411731958389282, 8.27226855903973e-08)"
      ]
     },
     "execution_count": 97,
     "metadata": {},
     "output_type": "execute_result"
    }
   ],
   "source": [
    "stats.shapiro(emhp_rcads_total_nan['rcads_tscore_anx_dep_t2'])"
   ]
  },
  {
   "cell_type": "markdown",
   "metadata": {},
   "source": [
    "<b>CWP</b>"
   ]
  },
  {
   "cell_type": "code",
   "execution_count": 98,
   "metadata": {},
   "outputs": [
    {
     "data": {
      "text/plain": [
       "(0.9901865124702454, 3.751555066600076e-09)"
      ]
     },
     "execution_count": 98,
     "metadata": {},
     "output_type": "execute_result"
    }
   ],
   "source": [
    "cwp_rcads_total_nan = cwp_rcads_total.dropna()\n",
    "stats.shapiro(cwp_rcads_total_nan['rcads_tscore_anx_dep_t1'])"
   ]
  },
  {
   "cell_type": "code",
   "execution_count": 99,
   "metadata": {},
   "outputs": [
    {
     "data": {
      "text/plain": [
       "(0.9421924948692322, 5.354855370855238e-25)"
      ]
     },
     "execution_count": 99,
     "metadata": {},
     "output_type": "execute_result"
    }
   ],
   "source": [
    "stats.shapiro(cwp_rcads_total_nan['rcads_tscore_anx_dep_t2'])"
   ]
  },
  {
   "cell_type": "markdown",
   "metadata": {},
   "source": [
    "Assumption of normality is not violated so we will conduct a paired t-test"
   ]
  },
  {
   "cell_type": "markdown",
   "metadata": {},
   "source": [
    "<b>EMHP</b>"
   ]
  },
  {
   "cell_type": "code",
   "execution_count": 100,
   "metadata": {},
   "outputs": [
    {
     "data": {
      "text/plain": [
       "Ttest_relResult(statistic=12.541828663813934, pvalue=1.3239318439737323e-27)"
      ]
     },
     "execution_count": 100,
     "metadata": {},
     "output_type": "execute_result"
    }
   ],
   "source": [
    "stats.ttest_rel(emhp_rcads_total_nan['rcads_tscore_anx_dep_t1'], emhp_rcads_total_nan['rcads_tscore_anx_dep_t2'])"
   ]
  },
  {
   "cell_type": "markdown",
   "metadata": {},
   "source": [
    "<b>CWP</b>"
   ]
  },
  {
   "cell_type": "code",
   "execution_count": 101,
   "metadata": {},
   "outputs": [
    {
     "data": {
      "text/plain": [
       "Ttest_relResult(statistic=32.33779946637969, pvalue=2.0059317026798746e-178)"
      ]
     },
     "execution_count": 101,
     "metadata": {},
     "output_type": "execute_result"
    }
   ],
   "source": [
    "stats.ttest_rel(cwp_rcads_total_nan['rcads_tscore_anx_dep_t1'], cwp_rcads_total_nan['rcads_tscore_anx_dep_t2'])"
   ]
  },
  {
   "cell_type": "markdown",
   "metadata": {},
   "source": [
    "<b>Behavioural Problems (SDQ)</b><br>\n",
    "Examining the SDQ as a measure of behavioural problems pre and post intervention"
   ]
  },
  {
   "cell_type": "markdown",
   "metadata": {},
   "source": [
    "<b>EMHP</b>"
   ]
  },
  {
   "cell_type": "code",
   "execution_count": 102,
   "metadata": {},
   "outputs": [
    {
     "data": {
      "text/html": [
       "<div>\n",
       "<style scoped>\n",
       "    .dataframe tbody tr th:only-of-type {\n",
       "        vertical-align: middle;\n",
       "    }\n",
       "\n",
       "    .dataframe tbody tr th {\n",
       "        vertical-align: top;\n",
       "    }\n",
       "\n",
       "    .dataframe thead th {\n",
       "        text-align: right;\n",
       "    }\n",
       "</style>\n",
       "<table border=\"1\" class=\"dataframe\">\n",
       "  <thead>\n",
       "    <tr style=\"text-align: right;\">\n",
       "      <th></th>\n",
       "      <th>sdq_total_t1</th>\n",
       "      <th>sdq_total_t2</th>\n",
       "    </tr>\n",
       "  </thead>\n",
       "  <tbody>\n",
       "    <tr>\n",
       "      <th>count</th>\n",
       "      <td>497.00</td>\n",
       "      <td>122.00</td>\n",
       "    </tr>\n",
       "    <tr>\n",
       "      <th>mean</th>\n",
       "      <td>18.37</td>\n",
       "      <td>13.15</td>\n",
       "    </tr>\n",
       "    <tr>\n",
       "      <th>std</th>\n",
       "      <td>6.78</td>\n",
       "      <td>6.78</td>\n",
       "    </tr>\n",
       "    <tr>\n",
       "      <th>min</th>\n",
       "      <td>2.00</td>\n",
       "      <td>0.00</td>\n",
       "    </tr>\n",
       "    <tr>\n",
       "      <th>25%</th>\n",
       "      <td>13.00</td>\n",
       "      <td>8.00</td>\n",
       "    </tr>\n",
       "    <tr>\n",
       "      <th>50%</th>\n",
       "      <td>18.00</td>\n",
       "      <td>12.00</td>\n",
       "    </tr>\n",
       "    <tr>\n",
       "      <th>75%</th>\n",
       "      <td>24.00</td>\n",
       "      <td>18.00</td>\n",
       "    </tr>\n",
       "    <tr>\n",
       "      <th>max</th>\n",
       "      <td>37.00</td>\n",
       "      <td>29.00</td>\n",
       "    </tr>\n",
       "  </tbody>\n",
       "</table>\n",
       "</div>"
      ],
      "text/plain": [
       "       sdq_total_t1  sdq_total_t2\n",
       "count        497.00        122.00\n",
       "mean          18.37         13.15\n",
       "std            6.78          6.78\n",
       "min            2.00          0.00\n",
       "25%           13.00          8.00\n",
       "50%           18.00         12.00\n",
       "75%           24.00         18.00\n",
       "max           37.00         29.00"
      ]
     },
     "execution_count": 102,
     "metadata": {},
     "output_type": "execute_result"
    }
   ],
   "source": [
    "emhp_sdq_total = emhp_data.filter(items=['sdq_total_t1','sdq_total_t2'])\n",
    "emhp_sdq_total.describe().round(2)"
   ]
  },
  {
   "cell_type": "code",
   "execution_count": 103,
   "metadata": {},
   "outputs": [
    {
     "data": {
      "text/plain": [
       "<matplotlib.axes._subplots.AxesSubplot at 0x1a0e318048>"
      ]
     },
     "execution_count": 103,
     "metadata": {},
     "output_type": "execute_result"
    },
    {
     "data": {
      "image/png": "[encoded data removed]",
      "text/plain": [
       "<matplotlib.figure.Figure at 0x1a0e3149e8>"
      ]
     },
     "metadata": {},
     "output_type": "display_data"
    }
   ],
   "source": [
    "emhp_sdq_total.boxplot(column=['sdq_total_t1','sdq_total_t2'])"
   ]
  },
  {
   "cell_type": "markdown",
   "metadata": {},
   "source": [
    "<b>CWP</b>"
   ]
  },
  {
   "cell_type": "code",
   "execution_count": 105,
   "metadata": {},
   "outputs": [
    {
     "data": {
      "text/html": [
       "<div>\n",
       "<style scoped>\n",
       "    .dataframe tbody tr th:only-of-type {\n",
       "        vertical-align: middle;\n",
       "    }\n",
       "\n",
       "    .dataframe tbody tr th {\n",
       "        vertical-align: top;\n",
       "    }\n",
       "\n",
       "    .dataframe thead th {\n",
       "        text-align: right;\n",
       "    }\n",
       "</style>\n",
       "<table border=\"1\" class=\"dataframe\">\n",
       "  <thead>\n",
       "    <tr style=\"text-align: right;\">\n",
       "      <th></th>\n",
       "      <th>sdq_total_t1</th>\n",
       "      <th>sdq_total_t2</th>\n",
       "    </tr>\n",
       "  </thead>\n",
       "  <tbody>\n",
       "    <tr>\n",
       "      <th>count</th>\n",
       "      <td>2450.00</td>\n",
       "      <td>1045.00</td>\n",
       "    </tr>\n",
       "    <tr>\n",
       "      <th>mean</th>\n",
       "      <td>17.35</td>\n",
       "      <td>13.48</td>\n",
       "    </tr>\n",
       "    <tr>\n",
       "      <th>std</th>\n",
       "      <td>6.76</td>\n",
       "      <td>6.96</td>\n",
       "    </tr>\n",
       "    <tr>\n",
       "      <th>min</th>\n",
       "      <td>0.00</td>\n",
       "      <td>0.00</td>\n",
       "    </tr>\n",
       "    <tr>\n",
       "      <th>25%</th>\n",
       "      <td>12.00</td>\n",
       "      <td>8.00</td>\n",
       "    </tr>\n",
       "    <tr>\n",
       "      <th>50%</th>\n",
       "      <td>17.00</td>\n",
       "      <td>13.00</td>\n",
       "    </tr>\n",
       "    <tr>\n",
       "      <th>75%</th>\n",
       "      <td>22.00</td>\n",
       "      <td>18.00</td>\n",
       "    </tr>\n",
       "    <tr>\n",
       "      <th>max</th>\n",
       "      <td>38.00</td>\n",
       "      <td>37.00</td>\n",
       "    </tr>\n",
       "  </tbody>\n",
       "</table>\n",
       "</div>"
      ],
      "text/plain": [
       "       sdq_total_t1  sdq_total_t2\n",
       "count       2450.00       1045.00\n",
       "mean          17.35         13.48\n",
       "std            6.76          6.96\n",
       "min            0.00          0.00\n",
       "25%           12.00          8.00\n",
       "50%           17.00         13.00\n",
       "75%           22.00         18.00\n",
       "max           38.00         37.00"
      ]
     },
     "execution_count": 105,
     "metadata": {},
     "output_type": "execute_result"
    }
   ],
   "source": [
    "cwp_sdq_total = cwp_data.filter(items=['sdq_total_t1','sdq_total_t2'])\n",
    "cwp_sdq_total.describe().round(2)"
   ]
  },
  {
   "cell_type": "code",
   "execution_count": 106,
   "metadata": {},
   "outputs": [
    {
     "data": {
      "text/plain": [
       "<matplotlib.axes._subplots.AxesSubplot at 0x1a0e37e240>"
      ]
     },
     "execution_count": 106,
     "metadata": {},
     "output_type": "execute_result"
    },
    {
     "data": {
      "image/png": "[encoded data removed]",
      "text/plain": [
       "<matplotlib.figure.Figure at 0x1a0e3b5240>"
      ]
     },
     "metadata": {},
     "output_type": "display_data"
    }
   ],
   "source": [
    "cwp_sdq_total.boxplot(column=['sdq_total_t1','sdq_total_t2'])"
   ]
  },
  {
   "cell_type": "markdown",
   "metadata": {},
   "source": [
    "<b>EMHP</b>"
   ]
  },
  {
   "cell_type": "code",
   "execution_count": 107,
   "metadata": {},
   "outputs": [
    {
     "data": {
      "text/plain": [
       "(0.9887325763702393, 0.41578012704849243)"
      ]
     },
     "execution_count": 107,
     "metadata": {},
     "output_type": "execute_result"
    }
   ],
   "source": [
    "emhp_sdq_total_nan = emhp_sdq_total.dropna()\n",
    "stats.shapiro(emhp_sdq_total_nan['sdq_total_t1'])"
   ]
  },
  {
   "cell_type": "code",
   "execution_count": 108,
   "metadata": {},
   "outputs": [
    {
     "data": {
      "text/plain": [
       "(0.9696100354194641, 0.007392715197056532)"
      ]
     },
     "execution_count": 108,
     "metadata": {},
     "output_type": "execute_result"
    }
   ],
   "source": [
    "stats.shapiro(emhp_sdq_total_nan['sdq_total_t2'])"
   ]
  },
  {
   "cell_type": "code",
   "execution_count": 109,
   "metadata": {},
   "outputs": [
    {
     "data": {
      "text/plain": [
       "(0.986691951751709, 0.022862929850816727)"
      ]
     },
     "execution_count": 109,
     "metadata": {},
     "output_type": "execute_result"
    }
   ],
   "source": [
    "stats.shapiro(emhp_sdq_total_nan)"
   ]
  },
  {
   "cell_type": "markdown",
   "metadata": {},
   "source": [
    "<b>CWP</b>"
   ]
  },
  {
   "cell_type": "code",
   "execution_count": 110,
   "metadata": {},
   "outputs": [
    {
     "data": {
      "text/plain": [
       "(0.9944217205047607, 0.0006403875886462629)"
      ]
     },
     "execution_count": 110,
     "metadata": {},
     "output_type": "execute_result"
    }
   ],
   "source": [
    "cwp_sdq_total_nan = cwp_sdq_total.dropna()\n",
    "stats.shapiro(cwp_sdq_total_nan['sdq_total_t1'])"
   ]
  },
  {
   "cell_type": "code",
   "execution_count": 111,
   "metadata": {},
   "outputs": [
    {
     "data": {
      "text/plain": [
       "(0.9800043702125549, 8.437484738665901e-11)"
      ]
     },
     "execution_count": 111,
     "metadata": {},
     "output_type": "execute_result"
    }
   ],
   "source": [
    "stats.shapiro(cwp_sdq_total_nan['sdq_total_t2'])"
   ]
  },
  {
   "cell_type": "code",
   "execution_count": 112,
   "metadata": {},
   "outputs": [
    {
     "data": {
      "text/plain": [
       "(0.9903022646903992, 1.2658321613123746e-10)"
      ]
     },
     "execution_count": 112,
     "metadata": {},
     "output_type": "execute_result"
    }
   ],
   "source": [
    "stats.shapiro(cwp_sdq_total_nan)"
   ]
  },
  {
   "cell_type": "markdown",
   "metadata": {},
   "source": [
    "<b>EMHP</b>"
   ]
  },
  {
   "cell_type": "code",
   "execution_count": 113,
   "metadata": {},
   "outputs": [
    {
     "data": {
      "text/plain": [
       "WilcoxonResult(statistic=994.0, pvalue=1.0172243934864483e-10)"
      ]
     },
     "execution_count": 113,
     "metadata": {},
     "output_type": "execute_result"
    }
   ],
   "source": [
    "stats.wilcoxon(emhp_sdq_total_nan['sdq_total_t1'], emhp_sdq_total_nan['sdq_total_t2'])"
   ]
  },
  {
   "cell_type": "markdown",
   "metadata": {},
   "source": [
    "<b>CWP</b>"
   ]
  },
  {
   "cell_type": "code",
   "execution_count": 114,
   "metadata": {},
   "outputs": [
    {
     "data": {
      "text/plain": [
       "Ttest_relResult(statistic=21.79571265058504, pvalue=4.212817278778598e-87)"
      ]
     },
     "execution_count": 114,
     "metadata": {},
     "output_type": "execute_result"
    }
   ],
   "source": [
    "stats.ttest_rel(cwp_sdq_total_nan['sdq_total_t1'], cwp_sdq_total_nan['sdq_total_t2'])"
   ]
  },
  {
   "cell_type": "markdown",
   "metadata": {},
   "source": [
    "<b>Average Impact Scores (SDQ)</b>"
   ]
  },
  {
   "cell_type": "markdown",
   "metadata": {},
   "source": [
    "<b>EMHP</b>"
   ]
  },
  {
   "cell_type": "code",
   "execution_count": 115,
   "metadata": {},
   "outputs": [
    {
     "data": {
      "text/html": [
       "<div>\n",
       "<style scoped>\n",
       "    .dataframe tbody tr th:only-of-type {\n",
       "        vertical-align: middle;\n",
       "    }\n",
       "\n",
       "    .dataframe tbody tr th {\n",
       "        vertical-align: top;\n",
       "    }\n",
       "\n",
       "    .dataframe thead th {\n",
       "        text-align: right;\n",
       "    }\n",
       "</style>\n",
       "<table border=\"1\" class=\"dataframe\">\n",
       "  <thead>\n",
       "    <tr style=\"text-align: right;\">\n",
       "      <th></th>\n",
       "      <th>sdq_impact_distress_t1</th>\n",
       "      <th>sdq_impact_distress_t2</th>\n",
       "      <th>sdq_impact_homelife_t1</th>\n",
       "      <th>sdq_impact_homelife_t2</th>\n",
       "      <th>sdq_impact_friendship_t1</th>\n",
       "      <th>sdq_impact_friendship_t2</th>\n",
       "      <th>sdq_impact_learning_t1</th>\n",
       "      <th>sdq_impact_learning_t2</th>\n",
       "      <th>sdq_impact_leisure_t1</th>\n",
       "      <th>sdq_impact_leisure_t2</th>\n",
       "    </tr>\n",
       "  </thead>\n",
       "  <tbody>\n",
       "    <tr>\n",
       "      <th>count</th>\n",
       "      <td>471.00</td>\n",
       "      <td>106.00</td>\n",
       "      <td>480.00</td>\n",
       "      <td>114.00</td>\n",
       "      <td>481.00</td>\n",
       "      <td>114.00</td>\n",
       "      <td>477.00</td>\n",
       "      <td>113.00</td>\n",
       "      <td>479.00</td>\n",
       "      <td>114.00</td>\n",
       "    </tr>\n",
       "    <tr>\n",
       "      <th>mean</th>\n",
       "      <td>1.11</td>\n",
       "      <td>0.62</td>\n",
       "      <td>0.98</td>\n",
       "      <td>0.46</td>\n",
       "      <td>0.56</td>\n",
       "      <td>0.35</td>\n",
       "      <td>0.62</td>\n",
       "      <td>0.39</td>\n",
       "      <td>0.54</td>\n",
       "      <td>0.25</td>\n",
       "    </tr>\n",
       "    <tr>\n",
       "      <th>std</th>\n",
       "      <td>0.74</td>\n",
       "      <td>0.75</td>\n",
       "      <td>0.75</td>\n",
       "      <td>0.68</td>\n",
       "      <td>0.73</td>\n",
       "      <td>0.62</td>\n",
       "      <td>0.75</td>\n",
       "      <td>0.66</td>\n",
       "      <td>0.70</td>\n",
       "      <td>0.52</td>\n",
       "    </tr>\n",
       "    <tr>\n",
       "      <th>min</th>\n",
       "      <td>0.00</td>\n",
       "      <td>0.00</td>\n",
       "      <td>0.00</td>\n",
       "      <td>0.00</td>\n",
       "      <td>0.00</td>\n",
       "      <td>0.00</td>\n",
       "      <td>0.00</td>\n",
       "      <td>0.00</td>\n",
       "      <td>0.00</td>\n",
       "      <td>0.00</td>\n",
       "    </tr>\n",
       "    <tr>\n",
       "      <th>25%</th>\n",
       "      <td>1.00</td>\n",
       "      <td>0.00</td>\n",
       "      <td>0.00</td>\n",
       "      <td>0.00</td>\n",
       "      <td>0.00</td>\n",
       "      <td>0.00</td>\n",
       "      <td>0.00</td>\n",
       "      <td>0.00</td>\n",
       "      <td>0.00</td>\n",
       "      <td>0.00</td>\n",
       "    </tr>\n",
       "    <tr>\n",
       "      <th>50%</th>\n",
       "      <td>1.00</td>\n",
       "      <td>0.00</td>\n",
       "      <td>1.00</td>\n",
       "      <td>0.00</td>\n",
       "      <td>0.00</td>\n",
       "      <td>0.00</td>\n",
       "      <td>0.00</td>\n",
       "      <td>0.00</td>\n",
       "      <td>0.00</td>\n",
       "      <td>0.00</td>\n",
       "    </tr>\n",
       "    <tr>\n",
       "      <th>75%</th>\n",
       "      <td>2.00</td>\n",
       "      <td>1.00</td>\n",
       "      <td>2.00</td>\n",
       "      <td>1.00</td>\n",
       "      <td>1.00</td>\n",
       "      <td>1.00</td>\n",
       "      <td>1.00</td>\n",
       "      <td>1.00</td>\n",
       "      <td>1.00</td>\n",
       "      <td>0.00</td>\n",
       "    </tr>\n",
       "    <tr>\n",
       "      <th>max</th>\n",
       "      <td>2.00</td>\n",
       "      <td>2.00</td>\n",
       "      <td>2.00</td>\n",
       "      <td>2.00</td>\n",
       "      <td>2.00</td>\n",
       "      <td>2.00</td>\n",
       "      <td>2.00</td>\n",
       "      <td>2.00</td>\n",
       "      <td>2.00</td>\n",
       "      <td>2.00</td>\n",
       "    </tr>\n",
       "  </tbody>\n",
       "</table>\n",
       "</div>"
      ],
      "text/plain": [
       "       sdq_impact_distress_t1  sdq_impact_distress_t2  sdq_impact_homelife_t1  \\\n",
       "count                  471.00                  106.00                  480.00   \n",
       "mean                     1.11                    0.62                    0.98   \n",
       "std                      0.74                    0.75                    0.75   \n",
       "min                      0.00                    0.00                    0.00   \n",
       "25%                      1.00                    0.00                    0.00   \n",
       "50%                      1.00                    0.00                    1.00   \n",
       "75%                      2.00                    1.00                    2.00   \n",
       "max                      2.00                    2.00                    2.00   \n",
       "\n",
       "       sdq_impact_homelife_t2  sdq_impact_friendship_t1  \\\n",
       "count                  114.00                    481.00   \n",
       "mean                     0.46                      0.56   \n",
       "std                      0.68                      0.73   \n",
       "min                      0.00                      0.00   \n",
       "25%                      0.00                      0.00   \n",
       "50%                      0.00                      0.00   \n",
       "75%                      1.00                      1.00   \n",
       "max                      2.00                      2.00   \n",
       "\n",
       "       sdq_impact_friendship_t2  sdq_impact_learning_t1  \\\n",
       "count                    114.00                  477.00   \n",
       "mean                       0.35                    0.62   \n",
       "std                        0.62                    0.75   \n",
       "min                        0.00                    0.00   \n",
       "25%                        0.00                    0.00   \n",
       "50%                        0.00                    0.00   \n",
       "75%                        1.00                    1.00   \n",
       "max                        2.00                    2.00   \n",
       "\n",
       "       sdq_impact_learning_t2  sdq_impact_leisure_t1  sdq_impact_leisure_t2  \n",
       "count                  113.00                 479.00                 114.00  \n",
       "mean                     0.39                   0.54                   0.25  \n",
       "std                      0.66                   0.70                   0.52  \n",
       "min                      0.00                   0.00                   0.00  \n",
       "25%                      0.00                   0.00                   0.00  \n",
       "50%                      0.00                   0.00                   0.00  \n",
       "75%                      1.00                   1.00                   0.00  \n",
       "max                      2.00                   2.00                   2.00  "
      ]
     },
     "execution_count": 115,
     "metadata": {},
     "output_type": "execute_result"
    }
   ],
   "source": [
    "emhp_sdq_impact = emhp_data.filter(items=['sdq_impact_distress_t1','sdq_impact_distress_t2','sdq_impact_homelife_t1','sdq_impact_homelife_t2','sdq_impact_friendship_t1','sdq_impact_friendship_t2','sdq_impact_learning_t1','sdq_impact_learning_t2','sdq_impact_leisure_t1','sdq_impact_leisure_t2'])\n",
    "emhp_sdq_impact.describe().round(2)"
   ]
  },
  {
   "cell_type": "markdown",
   "metadata": {},
   "source": [
    "<b>CWP</b>"
   ]
  },
  {
   "cell_type": "code",
   "execution_count": 116,
   "metadata": {},
   "outputs": [
    {
     "data": {
      "text/html": [
       "<div>\n",
       "<style scoped>\n",
       "    .dataframe tbody tr th:only-of-type {\n",
       "        vertical-align: middle;\n",
       "    }\n",
       "\n",
       "    .dataframe tbody tr th {\n",
       "        vertical-align: top;\n",
       "    }\n",
       "\n",
       "    .dataframe thead th {\n",
       "        text-align: right;\n",
       "    }\n",
       "</style>\n",
       "<table border=\"1\" class=\"dataframe\">\n",
       "  <thead>\n",
       "    <tr style=\"text-align: right;\">\n",
       "      <th></th>\n",
       "      <th>sdq_impact_distress_t1</th>\n",
       "      <th>sdq_impact_distress_t2</th>\n",
       "      <th>sdq_impact_homelife_t1</th>\n",
       "      <th>sdq_impact_homelife_t2</th>\n",
       "      <th>sdq_impact_friendship_t1</th>\n",
       "      <th>sdq_impact_friendship_t2</th>\n",
       "      <th>sdq_impact_learning_t1</th>\n",
       "      <th>sdq_impact_learning_t2</th>\n",
       "      <th>sdq_impact_leisure_t1</th>\n",
       "      <th>sdq_impact_leisure_t2</th>\n",
       "    </tr>\n",
       "  </thead>\n",
       "  <tbody>\n",
       "    <tr>\n",
       "      <th>count</th>\n",
       "      <td>2306.00</td>\n",
       "      <td>923.00</td>\n",
       "      <td>2325.00</td>\n",
       "      <td>940.00</td>\n",
       "      <td>2317.00</td>\n",
       "      <td>942.00</td>\n",
       "      <td>2309.00</td>\n",
       "      <td>940.00</td>\n",
       "      <td>2313.00</td>\n",
       "      <td>936.00</td>\n",
       "    </tr>\n",
       "    <tr>\n",
       "      <th>mean</th>\n",
       "      <td>1.11</td>\n",
       "      <td>0.59</td>\n",
       "      <td>0.90</td>\n",
       "      <td>0.48</td>\n",
       "      <td>0.56</td>\n",
       "      <td>0.29</td>\n",
       "      <td>0.69</td>\n",
       "      <td>0.37</td>\n",
       "      <td>0.59</td>\n",
       "      <td>0.27</td>\n",
       "    </tr>\n",
       "    <tr>\n",
       "      <th>std</th>\n",
       "      <td>0.75</td>\n",
       "      <td>0.70</td>\n",
       "      <td>0.76</td>\n",
       "      <td>0.65</td>\n",
       "      <td>0.72</td>\n",
       "      <td>0.57</td>\n",
       "      <td>0.79</td>\n",
       "      <td>0.64</td>\n",
       "      <td>0.74</td>\n",
       "      <td>0.55</td>\n",
       "    </tr>\n",
       "    <tr>\n",
       "      <th>min</th>\n",
       "      <td>0.00</td>\n",
       "      <td>0.00</td>\n",
       "      <td>0.00</td>\n",
       "      <td>0.00</td>\n",
       "      <td>0.00</td>\n",
       "      <td>0.00</td>\n",
       "      <td>0.00</td>\n",
       "      <td>0.00</td>\n",
       "      <td>0.00</td>\n",
       "      <td>0.00</td>\n",
       "    </tr>\n",
       "    <tr>\n",
       "      <th>25%</th>\n",
       "      <td>1.00</td>\n",
       "      <td>0.00</td>\n",
       "      <td>0.00</td>\n",
       "      <td>0.00</td>\n",
       "      <td>0.00</td>\n",
       "      <td>0.00</td>\n",
       "      <td>0.00</td>\n",
       "      <td>0.00</td>\n",
       "      <td>0.00</td>\n",
       "      <td>0.00</td>\n",
       "    </tr>\n",
       "    <tr>\n",
       "      <th>50%</th>\n",
       "      <td>1.00</td>\n",
       "      <td>0.00</td>\n",
       "      <td>1.00</td>\n",
       "      <td>0.00</td>\n",
       "      <td>0.00</td>\n",
       "      <td>0.00</td>\n",
       "      <td>0.00</td>\n",
       "      <td>0.00</td>\n",
       "      <td>0.00</td>\n",
       "      <td>0.00</td>\n",
       "    </tr>\n",
       "    <tr>\n",
       "      <th>75%</th>\n",
       "      <td>2.00</td>\n",
       "      <td>1.00</td>\n",
       "      <td>1.00</td>\n",
       "      <td>1.00</td>\n",
       "      <td>1.00</td>\n",
       "      <td>0.00</td>\n",
       "      <td>1.00</td>\n",
       "      <td>1.00</td>\n",
       "      <td>1.00</td>\n",
       "      <td>0.00</td>\n",
       "    </tr>\n",
       "    <tr>\n",
       "      <th>max</th>\n",
       "      <td>2.00</td>\n",
       "      <td>2.00</td>\n",
       "      <td>2.00</td>\n",
       "      <td>2.00</td>\n",
       "      <td>2.00</td>\n",
       "      <td>2.00</td>\n",
       "      <td>2.00</td>\n",
       "      <td>2.00</td>\n",
       "      <td>2.00</td>\n",
       "      <td>2.00</td>\n",
       "    </tr>\n",
       "  </tbody>\n",
       "</table>\n",
       "</div>"
      ],
      "text/plain": [
       "       sdq_impact_distress_t1  sdq_impact_distress_t2  sdq_impact_homelife_t1  \\\n",
       "count                 2306.00                  923.00                 2325.00   \n",
       "mean                     1.11                    0.59                    0.90   \n",
       "std                      0.75                    0.70                    0.76   \n",
       "min                      0.00                    0.00                    0.00   \n",
       "25%                      1.00                    0.00                    0.00   \n",
       "50%                      1.00                    0.00                    1.00   \n",
       "75%                      2.00                    1.00                    1.00   \n",
       "max                      2.00                    2.00                    2.00   \n",
       "\n",
       "       sdq_impact_homelife_t2  sdq_impact_friendship_t1  \\\n",
       "count                  940.00                   2317.00   \n",
       "mean                     0.48                      0.56   \n",
       "std                      0.65                      0.72   \n",
       "min                      0.00                      0.00   \n",
       "25%                      0.00                      0.00   \n",
       "50%                      0.00                      0.00   \n",
       "75%                      1.00                      1.00   \n",
       "max                      2.00                      2.00   \n",
       "\n",
       "       sdq_impact_friendship_t2  sdq_impact_learning_t1  \\\n",
       "count                    942.00                 2309.00   \n",
       "mean                       0.29                    0.69   \n",
       "std                        0.57                    0.79   \n",
       "min                        0.00                    0.00   \n",
       "25%                        0.00                    0.00   \n",
       "50%                        0.00                    0.00   \n",
       "75%                        0.00                    1.00   \n",
       "max                        2.00                    2.00   \n",
       "\n",
       "       sdq_impact_learning_t2  sdq_impact_leisure_t1  sdq_impact_leisure_t2  \n",
       "count                  940.00                2313.00                 936.00  \n",
       "mean                     0.37                   0.59                   0.27  \n",
       "std                      0.64                   0.74                   0.55  \n",
       "min                      0.00                   0.00                   0.00  \n",
       "25%                      0.00                   0.00                   0.00  \n",
       "50%                      0.00                   0.00                   0.00  \n",
       "75%                      1.00                   1.00                   0.00  \n",
       "max                      2.00                   2.00                   2.00  "
      ]
     },
     "execution_count": 116,
     "metadata": {},
     "output_type": "execute_result"
    }
   ],
   "source": [
    "cwp_sdq_impact = cwp_data.filter(items=['sdq_impact_distress_t1','sdq_impact_distress_t2','sdq_impact_homelife_t1','sdq_impact_homelife_t2','sdq_impact_friendship_t1','sdq_impact_friendship_t2','sdq_impact_learning_t1','sdq_impact_learning_t2','sdq_impact_leisure_t1','sdq_impact_leisure_t2'])\n",
    "cwp_sdq_impact.describe().round(2)"
   ]
  },
  {
   "cell_type": "markdown",
   "metadata": {},
   "source": [
    "<b>Goal Based Outcomes</b>"
   ]
  },
  {
   "cell_type": "markdown",
   "metadata": {},
   "source": [
    "<b>EMHP</b>"
   ]
  },
  {
   "cell_type": "code",
   "execution_count": 125,
   "metadata": {},
   "outputs": [
    {
     "data": {
      "text/plain": [
       "8.158705601199589"
      ]
     },
     "execution_count": 125,
     "metadata": {},
     "output_type": "execute_result"
    }
   ],
   "source": [
    "emhp_gbo_t1 = emhp_data['goals_g1score_t1'].mean() + emhp_data['goals_g2score_t1'].mean() + emhp_data['goals_g3score_t1'].mean()\n",
    "emhp_gbo_t1"
   ]
  },
  {
   "cell_type": "code",
   "execution_count": 126,
   "metadata": {},
   "outputs": [
    {
     "data": {
      "text/plain": [
       "19.590477895113658"
      ]
     },
     "execution_count": 126,
     "metadata": {},
     "output_type": "execute_result"
    }
   ],
   "source": [
    "emhp_gbo_t2 = emhp_data['goals_g1score_t2'].mean() + emhp_data['goals_g2score_t2'].mean() + emhp_data['goals_g3score_t2'].mean()\n",
    "emhp_gbo_t2"
   ]
  },
  {
   "cell_type": "markdown",
   "metadata": {},
   "source": [
    "<b>CWP</b>"
   ]
  },
  {
   "cell_type": "code",
   "execution_count": 127,
   "metadata": {},
   "outputs": [
    {
     "data": {
      "text/plain": [
       "7.200286541543965"
      ]
     },
     "execution_count": 127,
     "metadata": {},
     "output_type": "execute_result"
    }
   ],
   "source": [
    "cwp_gbo_t1 = cwp_data['goals_g1score_t1'].mean() + cwp_data['goals_g2score_t1'].mean() + cwp_data['goals_g3score_t1'].mean()\n",
    "cwp_gbo_t1"
   ]
  },
  {
   "cell_type": "code",
   "execution_count": 128,
   "metadata": {},
   "outputs": [
    {
     "data": {
      "text/plain": [
       "19.86077920006277"
      ]
     },
     "execution_count": 128,
     "metadata": {},
     "output_type": "execute_result"
    }
   ],
   "source": [
    "cwp_gbo_t2 = cwp_data['goals_g1score_t2'].mean() + cwp_data['goals_g2score_t2'].mean() + cwp_data['goals_g3score_t2'].mean()\n",
    "cwp_gbo_t2"
   ]
  }
 ],
 "metadata": {
  "kernelspec": {
   "display_name": "Python 3",
   "language": "python",
   "name": "python3"
  },
  "language_info": {
   "codemirror_mode": {
    "name": "ipython",
    "version": 3
   },
   "file_extension": ".py",
   "mimetype": "text/x-python",
   "name": "python",
   "nbconvert_exporter": "python",
   "pygments_lexer": "ipython3",
   "version": "3.6.4"
  }
 },
 "nbformat": 4,
 "nbformat_minor": 2
}
