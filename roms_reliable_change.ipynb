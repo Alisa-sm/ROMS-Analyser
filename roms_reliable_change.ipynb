{
 "cells": [
  {
   "cell_type": "code",
   "execution_count": 1,
   "metadata": {},
   "outputs": [],
   "source": [
    "import pandas as pd\n",
    "import numpy as np"
   ]
  },
  {
   "cell_type": "code",
   "execution_count": 2,
   "metadata": {},
   "outputs": [],
   "source": [
    "cwp = pd.read_excel('cwp_outcomes_cleaned.xlsx')\n",
    "emhp = pd.read_excel('emhp_outcomes_cleaned.xlsx')"
   ]
  },
  {
   "cell_type": "code",
   "execution_count": 3,
   "metadata": {},
   "outputs": [],
   "source": [
    "cwp_rcads_t1_nonan = cwp['rcads_tscore_anx_dep_t1'].dropna()\n",
    "cwp_rcads_t2_nonan = cwp['rcads_tscore_anx_dep_t2'].dropna()\n",
    "cwp_sdq_t1_nonan = cwp['sdq_total_t1'].dropna()\n",
    "cwp_sdq_t2_nonan = cwp['sdq_total_t2'].dropna()\n",
    "cwp_gbo_t1_nonan = cwp['goals_g1score_t1'].dropna() + cwp['goals_g2score_t1'].dropna() + cwp['goals_g3score_t1'].dropna()\n",
    "cwp_gbo_t2_nonan = cwp['goals_g1score_t2'].dropna() + cwp['goals_g2score_t2'].dropna() + cwp['goals_g3score_t2'].dropna()\n",
    "emhp_rcads_t1_nonan = emhp['rcads_tscore_anx_dep_t1'].dropna()\n",
    "emhp_rcads_t2_nonan = emhp['rcads_tscore_anx_dep_t2'].dropna()\n",
    "emhp_sdq_t1_nonan = emhp['sdq_total_t1'].dropna()\n",
    "emhp_sdq_t2_nonan = emhp['sdq_total_t2'].dropna()\n",
    "emhp_gbo_t1_nonan = emhp['goals_g1score_t1'].dropna() + emhp['goals_g2score_t1'].dropna() + emhp['goals_g3score_t1'].dropna()\n",
    "emhp_gbo_t2_nonan = emhp['goals_g1score_t2'].dropna() + emhp['goals_g2score_t2'].dropna() + emhp['goals_g3score_t2'].dropna()"
   ]
  },
  {
   "cell_type": "code",
   "execution_count": 4,
   "metadata": {},
   "outputs": [],
   "source": [
    "def reliable_change_criterion(sd, r):\n",
    "    se_diff = sd * np.sqrt(2) * np.sqrt(1 - r)\n",
    "    return se_diff * 1.96"
   ]
  },
  {
   "cell_type": "code",
   "execution_count": 5,
   "metadata": {},
   "outputs": [],
   "source": [
    "cwp_rcads_reliable_change_criterion = reliable_change_criterion(cwp_rcads_t1_nonan.std(), 0.85)\n",
    "cwp_sdq_reliable_change_criterion = reliable_change_criterion(cwp_sdq_t1_nonan.std(), 0.75)\n",
    "emhp_rcads_reliable_change_criterion = reliable_change_criterion(emhp_rcads_t1_nonan.std(), 0.85)\n",
    "emhp_sdq_reliable_change_criterion = reliable_change_criterion(emhp_sdq_t1_nonan.std(), 0.85)"
   ]
  },
  {
   "cell_type": "code",
   "execution_count": 6,
   "metadata": {},
   "outputs": [],
   "source": [
    "reliable_change_criterions = pd.DataFrame({\n",
    "    'cwp_rcads': [np.round(cwp_rcads_reliable_change_criterion, 2)],\n",
    "    'cwp_sdq': [np.round(cwp_sdq_reliable_change_criterion, 2)],\n",
    "    'cwp_gbo': [2.45],\n",
    "    'emhp_rcads': [np.round(emhp_rcads_reliable_change_criterion, 2)],\n",
    "    'emhp_sdq': [np.round(emhp_sdq_reliable_change_criterion, 2)],\n",
    "    'emhp_gbo': [2.45]\n",
    "})"
   ]
  },
  {
   "cell_type": "code",
   "execution_count": 7,
   "metadata": {},
   "outputs": [
    {
     "data": {
      "text/html": [
       "<div>\n",
       "<style scoped>\n",
       "    .dataframe tbody tr th:only-of-type {\n",
       "        vertical-align: middle;\n",
       "    }\n",
       "\n",
       "    .dataframe tbody tr th {\n",
       "        vertical-align: top;\n",
       "    }\n",
       "\n",
       "    .dataframe thead th {\n",
       "        text-align: right;\n",
       "    }\n",
       "</style>\n",
       "<table border=\"1\" class=\"dataframe\">\n",
       "  <thead>\n",
       "    <tr style=\"text-align: right;\">\n",
       "      <th></th>\n",
       "      <th>cwp_rcads</th>\n",
       "      <th>cwp_sdq</th>\n",
       "      <th>cwp_gbo</th>\n",
       "      <th>emhp_rcads</th>\n",
       "      <th>emhp_sdq</th>\n",
       "      <th>emhp_gbo</th>\n",
       "    </tr>\n",
       "  </thead>\n",
       "  <tbody>\n",
       "    <tr>\n",
       "      <th>0</th>\n",
       "      <td>16.06</td>\n",
       "      <td>9.38</td>\n",
       "      <td>2.45</td>\n",
       "      <td>15.83</td>\n",
       "      <td>7.28</td>\n",
       "      <td>2.45</td>\n",
       "    </tr>\n",
       "  </tbody>\n",
       "</table>\n",
       "</div>"
      ],
      "text/plain": [
       "   cwp_rcads  cwp_sdq  cwp_gbo  emhp_rcads  emhp_sdq  emhp_gbo\n",
       "0      16.06     9.38     2.45       15.83      7.28      2.45"
      ]
     },
     "execution_count": 7,
     "metadata": {},
     "output_type": "execute_result"
    }
   ],
   "source": [
    "reliable_change_criterions.head()"
   ]
  },
  {
   "cell_type": "code",
   "execution_count": 8,
   "metadata": {},
   "outputs": [],
   "source": [
    "cwp_rcads_reliable_improvement = 0\n",
    "cwp_rcads_no_change = 0\n",
    "cwp_rcads_reliable_deterioration = 0\n",
    "cwp_sdq_reliable_improvement = 0\n",
    "cwp_sdq_no_change = 0\n",
    "cwp_sdq_reliable_deterioration = 0\n",
    "cwp_gbo_reliable_improvement = 0\n",
    "cwp_gbo_no_change = 0\n",
    "cwp_gbo_reliable_deterioration = 0"
   ]
  },
  {
   "cell_type": "code",
   "execution_count": 9,
   "metadata": {},
   "outputs": [],
   "source": [
    "for index, row in cwp.iterrows():\n",
    "    if row['rcads_tscore_anx_dep_t2'] >= 0:\n",
    "        if row['rcads_tscore_anx_dep_t1'] - row['rcads_tscore_anx_dep_t2'] > reliable_change_criterions['cwp_rcads'].mean():\n",
    "            cwp_rcads_reliable_improvement += 1\n",
    "        elif (row['rcads_tscore_anx_dep_t1'] - row['rcads_tscore_anx_dep_t2']) < -(reliable_change_criterions['cwp_rcads'].mean()):\n",
    "            cwp_rcads_reliable_deterioration += 1\n",
    "        else:\n",
    "            cwp_rcads_no_change += 1"
   ]
  },
  {
   "cell_type": "code",
   "execution_count": 10,
   "metadata": {},
   "outputs": [],
   "source": [
    "for index, row in cwp.iterrows():\n",
    "    if row['sdq_total_t2'] >= 0:\n",
    "        if row['sdq_total_t1'] - row['sdq_total_t2'] > reliable_change_criterions['cwp_sdq'].mean():\n",
    "            cwp_sdq_reliable_improvement += 1\n",
    "        elif (row['sdq_total_t1'] - row['sdq_total_t2']) < -(reliable_change_criterions['cwp_sdq'].mean()):\n",
    "            cwp_sdq_reliable_deterioration += 1\n",
    "        else:\n",
    "            cwp_sdq_no_change += 1"
   ]
  },
  {
   "cell_type": "code",
   "execution_count": 11,
   "metadata": {},
   "outputs": [],
   "source": [
    "for index, row in cwp.iterrows():\n",
    "    goal_average_change = ((row['goals_g1score_t2']+row['goals_g2score_t2']+row['goals_g3score_t2'])/3) - ((row['goals_g1score_t1']+row['goals_g2score_t1']+row['goals_g3score_t1'])/3)\n",
    "    if row['goals_g1score_t2'] >= 0:\n",
    "        if goal_average_change > 2.45:\n",
    "            cwp_gbo_reliable_improvement +=1\n",
    "        elif goal_average_change < -2.45:\n",
    "            cwp_gbo_reliable_deterioration +=1\n",
    "        else:\n",
    "            cwp_gbo_no_change +=1"
   ]
  },
  {
   "cell_type": "code",
   "execution_count": 12,
   "metadata": {},
   "outputs": [
    {
     "name": "stdout",
     "output_type": "stream",
     "text": [
      "522\n",
      "1190\n",
      "23\n",
      "122\n",
      "918\n",
      "5\n",
      "1524\n",
      "1838\n",
      "7\n"
     ]
    }
   ],
   "source": [
    "print(cwp_rcads_reliable_improvement)\n",
    "print(cwp_rcads_no_change)\n",
    "print(cwp_rcads_reliable_deterioration)\n",
    "print(cwp_sdq_reliable_improvement)\n",
    "print(cwp_sdq_no_change)\n",
    "print(cwp_sdq_reliable_deterioration)\n",
    "print(cwp_gbo_reliable_improvement)\n",
    "print(cwp_gbo_no_change)\n",
    "print(cwp_gbo_reliable_deterioration)"
   ]
  },
  {
   "cell_type": "code",
   "execution_count": 13,
   "metadata": {},
   "outputs": [],
   "source": [
    "emhp_rcads_reliable_improvement = 0\n",
    "emhp_rcads_no_change = 0\n",
    "emhp_rcads_reliable_deterioration = 0\n",
    "emhp_sdq_reliable_improvement = 0\n",
    "emhp_sdq_no_change = 0\n",
    "emhp_sdq_reliable_deterioration = 0\n",
    "emhp_gbo_reliable_improvement = 0\n",
    "emhp_gbo_no_change = 0\n",
    "emhp_gbo_reliable_deterioration = 0"
   ]
  },
  {
   "cell_type": "code",
   "execution_count": 14,
   "metadata": {},
   "outputs": [],
   "source": [
    "for index, row in emhp.iterrows():\n",
    "    if row['rcads_tscore_anx_dep_t2'] >= 0:\n",
    "        if row['rcads_tscore_anx_dep_t1'] - row['rcads_tscore_anx_dep_t2'] > reliable_change_criterions['cwp_rcads'].mean():\n",
    "            emhp_rcads_reliable_improvement += 1\n",
    "        elif (row['rcads_tscore_anx_dep_t1'] - row['rcads_tscore_anx_dep_t2']) < -(reliable_change_criterions['cwp_rcads'].mean()):\n",
    "            emhp_rcads_reliable_deterioration += 1\n",
    "        else:\n",
    "            emhp_rcads_no_change += 1"
   ]
  },
  {
   "cell_type": "code",
   "execution_count": 15,
   "metadata": {},
   "outputs": [],
   "source": [
    "for index, row in emhp.iterrows():\n",
    "    if row['sdq_total_t2'] >= 0:\n",
    "        if row['sdq_total_t1'] - row['sdq_total_t2'] > reliable_change_criterions['cwp_sdq'].mean():\n",
    "            emhp_sdq_reliable_improvement += 1\n",
    "        elif (row['sdq_total_t1'] - row['sdq_total_t2']) < -(reliable_change_criterions['cwp_sdq'].mean()):\n",
    "            emhp_sdq_reliable_deterioration += 1\n",
    "        else:\n",
    "            emhp_sdq_no_change += 1"
   ]
  },
  {
   "cell_type": "code",
   "execution_count": 16,
   "metadata": {},
   "outputs": [],
   "source": [
    "for index, row in emhp.iterrows():\n",
    "    goal_average_change = ((row['goals_g1score_t2']+row['goals_g2score_t2']+row['goals_g3score_t2'])/3) - ((row['goals_g1score_t1']+row['goals_g2score_t1']+row['goals_g3score_t1'])/3)\n",
    "    if row['goals_g1score_t2'] >= 0:\n",
    "        if goal_average_change > 2.45:\n",
    "            emhp_gbo_reliable_improvement +=1\n",
    "        elif goal_average_change < -2.45:\n",
    "            emhp_gbo_reliable_deterioration +=1\n",
    "        else:\n",
    "            emhp_gbo_no_change +=1"
   ]
  },
  {
   "cell_type": "code",
   "execution_count": 17,
   "metadata": {},
   "outputs": [
    {
     "name": "stdout",
     "output_type": "stream",
     "text": [
      "78\n",
      "150\n",
      "2\n",
      "16\n",
      "104\n",
      "2\n",
      "89\n",
      "133\n",
      "0\n"
     ]
    }
   ],
   "source": [
    "print(emhp_rcads_reliable_improvement)\n",
    "print(emhp_rcads_no_change)\n",
    "print(emhp_rcads_reliable_deterioration)\n",
    "print(emhp_sdq_reliable_improvement)\n",
    "print(emhp_sdq_no_change)\n",
    "print(emhp_sdq_reliable_deterioration)\n",
    "print(emhp_gbo_reliable_improvement)\n",
    "print(emhp_gbo_no_change)\n",
    "print(emhp_gbo_reliable_deterioration)"
   ]
  },
  {
   "cell_type": "code",
   "execution_count": 18,
   "metadata": {},
   "outputs": [
    {
     "data": {
      "text/html": [
       "<div>\n",
       "<style scoped>\n",
       "    .dataframe tbody tr th:only-of-type {\n",
       "        vertical-align: middle;\n",
       "    }\n",
       "\n",
       "    .dataframe tbody tr th {\n",
       "        vertical-align: top;\n",
       "    }\n",
       "\n",
       "    .dataframe thead th {\n",
       "        text-align: right;\n",
       "    }\n",
       "</style>\n",
       "<table border=\"1\" class=\"dataframe\">\n",
       "  <thead>\n",
       "    <tr style=\"text-align: right;\">\n",
       "      <th></th>\n",
       "      <th>rcads_band_anx_dep_t1</th>\n",
       "      <th>rcads_band_anx_dep_t2</th>\n",
       "    </tr>\n",
       "  </thead>\n",
       "  <tbody>\n",
       "    <tr>\n",
       "      <th>Normal range</th>\n",
       "      <td>1184</td>\n",
       "      <td>1370</td>\n",
       "    </tr>\n",
       "    <tr>\n",
       "      <th>High score (top 2%)</th>\n",
       "      <td>738</td>\n",
       "      <td>245</td>\n",
       "    </tr>\n",
       "    <tr>\n",
       "      <th>Raised score (top 6%)</th>\n",
       "      <td>245</td>\n",
       "      <td>120</td>\n",
       "    </tr>\n",
       "  </tbody>\n",
       "</table>\n",
       "</div>"
      ],
      "text/plain": [
       "                       rcads_band_anx_dep_t1  rcads_band_anx_dep_t2\n",
       "Normal range                            1184                   1370\n",
       "High score (top 2%)                      738                    245\n",
       "Raised score (top 6%)                    245                    120"
      ]
     },
     "execution_count": 18,
     "metadata": {},
     "output_type": "execute_result"
    }
   ],
   "source": [
    "cwp_rcads_bands = cwp.filter(items=['rcads_band_anx_dep_t1','rcads_band_anx_dep_t2'])\n",
    "cwp_rcads_bands.apply(pd.Series.value_counts)"
   ]
  },
  {
   "cell_type": "code",
   "execution_count": 19,
   "metadata": {},
   "outputs": [],
   "source": [
    "cwp_rcads_recovered = cwp_rcads_bands['rcads_band_anx_dep_t2'].value_counts().to_dict()\n",
    "cwp_rcads_above_threshold = cwp_rcads_recovered['High score (top 2%)'] + cwp_rcads_recovered['Raised score (top 6%)']\n",
    "cwp_rcads_below_threshold = cwp_rcads_recovered['Normal range']\n",
    "cwp_rcads_recovery_percentage = np.round((cwp_rcads_below_threshold/(cwp_rcads_below_threshold+cwp_rcads_above_threshold))*100)\n",
    "cwp_rcads_not_recovered_percentage = 100 - cwp_rcads_recovery_percentage"
   ]
  },
  {
   "cell_type": "code",
   "execution_count": 20,
   "metadata": {},
   "outputs": [
    {
     "name": "stdout",
     "output_type": "stream",
     "text": [
      "79.0\n",
      "21.0\n"
     ]
    }
   ],
   "source": [
    "print(cwp_rcads_recovery_percentage)\n",
    "print(cwp_rcads_not_recovered_percentage)"
   ]
  },
  {
   "cell_type": "code",
   "execution_count": 21,
   "metadata": {},
   "outputs": [
    {
     "data": {
      "text/html": [
       "<div>\n",
       "<style scoped>\n",
       "    .dataframe tbody tr th:only-of-type {\n",
       "        vertical-align: middle;\n",
       "    }\n",
       "\n",
       "    .dataframe tbody tr th {\n",
       "        vertical-align: top;\n",
       "    }\n",
       "\n",
       "    .dataframe thead th {\n",
       "        text-align: right;\n",
       "    }\n",
       "</style>\n",
       "<table border=\"1\" class=\"dataframe\">\n",
       "  <thead>\n",
       "    <tr style=\"text-align: right;\">\n",
       "      <th></th>\n",
       "      <th>rcads_band_anx_dep_t1</th>\n",
       "      <th>rcads_band_anx_dep_t2</th>\n",
       "    </tr>\n",
       "  </thead>\n",
       "  <tbody>\n",
       "    <tr>\n",
       "      <th>Normal range</th>\n",
       "      <td>189</td>\n",
       "      <td>185</td>\n",
       "    </tr>\n",
       "    <tr>\n",
       "      <th>High score (top 2%)</th>\n",
       "      <td>130</td>\n",
       "      <td>33</td>\n",
       "    </tr>\n",
       "    <tr>\n",
       "      <th>Raised score (top 6%)</th>\n",
       "      <td>45</td>\n",
       "      <td>12</td>\n",
       "    </tr>\n",
       "  </tbody>\n",
       "</table>\n",
       "</div>"
      ],
      "text/plain": [
       "                       rcads_band_anx_dep_t1  rcads_band_anx_dep_t2\n",
       "Normal range                             189                    185\n",
       "High score (top 2%)                      130                     33\n",
       "Raised score (top 6%)                     45                     12"
      ]
     },
     "execution_count": 21,
     "metadata": {},
     "output_type": "execute_result"
    }
   ],
   "source": [
    "emhp_rcads_bands = emhp.filter(items=['rcads_band_anx_dep_t1','rcads_band_anx_dep_t2'])\n",
    "emhp_rcads_bands.apply(pd.Series.value_counts)"
   ]
  },
  {
   "cell_type": "code",
   "execution_count": 22,
   "metadata": {},
   "outputs": [],
   "source": [
    "emhp_rcads_recovered = emhp_rcads_bands['rcads_band_anx_dep_t2'].value_counts().to_dict()\n",
    "emhp_rcads_above_threshold = emhp_rcads_recovered['High score (top 2%)'] + emhp_rcads_recovered['Raised score (top 6%)']\n",
    "emhp_rcads_below_threshold = emhp_rcads_recovered['Normal range']\n",
    "emhp_rcads_recovery_percentage = np.round((emhp_rcads_below_threshold/(emhp_rcads_below_threshold+emhp_rcads_above_threshold))*100)\n",
    "emhp_rcads_not_recovered_percentage = 100 - emhp_rcads_recovery_percentage"
   ]
  },
  {
   "cell_type": "code",
   "execution_count": 23,
   "metadata": {},
   "outputs": [
    {
     "name": "stdout",
     "output_type": "stream",
     "text": [
      "80.0\n",
      "20.0\n"
     ]
    }
   ],
   "source": [
    "print(emhp_rcads_recovery_percentage)\n",
    "print(emhp_rcads_not_recovered_percentage)"
   ]
  },
  {
   "cell_type": "code",
   "execution_count": 24,
   "metadata": {},
   "outputs": [],
   "source": [
    "cwp_sdq_t2_only = cwp['sdq_total_t2']\n",
    "cwp_sdq_above_threshold = cwp_sdq_t2_only[cwp_sdq_t2_only > 17].count()\n",
    "cwp_sdq_below_threshold = cwp_sdq_t2_only[cwp_sdq_t2_only <= 17].count()\n",
    "cwp_sdq_recovery_percentage = np.round((cwp_sdq_below_threshold/(cwp_sdq_below_threshold+cwp_sdq_above_threshold))*100)\n",
    "cwp_sdq_not_recovered_percentage = 100 - cwp_sdq_recovery_percentage"
   ]
  },
  {
   "cell_type": "code",
   "execution_count": 25,
   "metadata": {},
   "outputs": [
    {
     "name": "stdout",
     "output_type": "stream",
     "text": [
      "72.0\n",
      "28.0\n"
     ]
    }
   ],
   "source": [
    "print(cwp_sdq_recovery_percentage)\n",
    "print(cwp_sdq_not_recovered_percentage)"
   ]
  },
  {
   "cell_type": "code",
   "execution_count": 26,
   "metadata": {},
   "outputs": [],
   "source": [
    "emhp_sdq_t2_only = emhp['sdq_total_t2']\n",
    "emhp_sdq_above_threshold = emhp_sdq_t2_only[emhp_sdq_t2_only > 17].count()\n",
    "emhp_sdq_below_threshold = emhp_sdq_t2_only[emhp_sdq_t2_only <= 17].count()\n",
    "emhp_sdq_recovery_percentage = np.round((emhp_sdq_below_threshold/(emhp_sdq_below_threshold+emhp_sdq_above_threshold))*100)\n",
    "emhp_sdq_not_recovered_percentage = 100 - emhp_sdq_recovery_percentage"
   ]
  },
  {
   "cell_type": "code",
   "execution_count": 27,
   "metadata": {},
   "outputs": [
    {
     "name": "stdout",
     "output_type": "stream",
     "text": [
      "71.0\n",
      "29.0\n"
     ]
    }
   ],
   "source": [
    "print(emhp_sdq_recovery_percentage)\n",
    "print(emhp_sdq_not_recovered_percentage)"
   ]
  },
  {
   "cell_type": "code",
   "execution_count": 28,
   "metadata": {},
   "outputs": [],
   "source": [
    "cwp_rcads_reliable_recovery = 0\n",
    "cwp_sdq_reliable_recovery = 0\n",
    "cwp_rcads_non_reliable_recovery = cwp['rcads_tscore_anx_dep_t2'].count() - cwp_rcads_reliable_recovery\n",
    "cwp_sdq_non_reliable_recovery = cwp['sdq_total_t2'].count() - cwp_sdq_reliable_recovery"
   ]
  },
  {
   "cell_type": "code",
   "execution_count": 29,
   "metadata": {},
   "outputs": [],
   "source": [
    "for index, row in cwp.iterrows():\n",
    "    if row['rcads_tscore_anx_dep_t2'] >= 0:\n",
    "        if row['rcads_tscore_anx_dep_t1'] - row['rcads_tscore_anx_dep_t2'] > reliable_change_criterions['cwp_rcads'].mean():\n",
    "            if row['rcads_band_anx_dep_t1'] != 'Normal range' and row['rcads_band_anx_dep_t2'] == 'Normal range':\n",
    "                cwp_rcads_reliable_recovery += 1"
   ]
  },
  {
   "cell_type": "code",
   "execution_count": 30,
   "metadata": {},
   "outputs": [],
   "source": [
    "for index, row in cwp.iterrows():\n",
    "    if row['sdq_total_t2'] >= 0:\n",
    "        if row['sdq_total_t1'] - row['sdq_total_t2'] > reliable_change_criterions['cwp_sdq'].mean():\n",
    "            if row['sdq_total_t1'] >= 17 and row['sdq_total_t2'] < 17:\n",
    "                cwp_sdq_reliable_recovery += 1"
   ]
  },
  {
   "cell_type": "code",
   "execution_count": 31,
   "metadata": {},
   "outputs": [
    {
     "name": "stdout",
     "output_type": "stream",
     "text": [
      "352\n",
      "98\n",
      "1735\n",
      "1045\n"
     ]
    }
   ],
   "source": [
    "print(cwp_rcads_reliable_recovery)\n",
    "print(cwp_sdq_reliable_recovery)\n",
    "print(cwp_rcads_non_reliable_recovery)\n",
    "print(cwp_sdq_non_reliable_recovery)"
   ]
  },
  {
   "cell_type": "code",
   "execution_count": 32,
   "metadata": {},
   "outputs": [],
   "source": [
    "emhp_rcads_reliable_recovery = 0\n",
    "emhp_sdq_reliable_recovery = 0\n",
    "emhp_rcads_non_reliable_recovery = emhp['rcads_tscore_anx_dep_t2'].count() - emhp_rcads_reliable_recovery\n",
    "emhp_sdq_non_reliable_recovery = emhp['sdq_total_t2'].count() - emhp_sdq_reliable_recovery"
   ]
  },
  {
   "cell_type": "code",
   "execution_count": 33,
   "metadata": {},
   "outputs": [],
   "source": [
    "for index, row in emhp.iterrows():\n",
    "    if row['rcads_tscore_anx_dep_t2'] >= 0:\n",
    "        if row['rcads_tscore_anx_dep_t1'] - row['rcads_tscore_anx_dep_t2'] > reliable_change_criterions['emhp_rcads'].mean():\n",
    "            if row['rcads_band_anx_dep_t1'] != 'Normal range' and row['rcads_band_anx_dep_t2'] == 'Normal range':\n",
    "                emhp_rcads_reliable_recovery += 1"
   ]
  },
  {
   "cell_type": "code",
   "execution_count": 34,
   "metadata": {},
   "outputs": [],
   "source": [
    "for index, row in emhp.iterrows():\n",
    "    if row['sdq_total_t2'] >= 0:\n",
    "        if row['sdq_total_t1'] - row['sdq_total_t2'] > reliable_change_criterions['emhp_sdq'].mean():\n",
    "            if row['sdq_total_t1'] >= 17 and row['sdq_total_t2'] < 17:\n",
    "                emhp_sdq_reliable_recovery += 1"
   ]
  },
  {
   "cell_type": "code",
   "execution_count": 35,
   "metadata": {},
   "outputs": [
    {
     "name": "stdout",
     "output_type": "stream",
     "text": [
      "58\n",
      "24\n",
      "230\n",
      "122\n"
     ]
    }
   ],
   "source": [
    "print(emhp_rcads_reliable_recovery)\n",
    "print(emhp_sdq_reliable_recovery)\n",
    "print(emhp_rcads_non_reliable_recovery)\n",
    "print(emhp_sdq_non_reliable_recovery)"
   ]
  },
  {
   "cell_type": "markdown",
   "metadata": {},
   "source": [
    "<b>CWP</b>"
   ]
  },
  {
   "cell_type": "markdown",
   "metadata": {},
   "source": [
    "RCADS Reliable Change"
   ]
  },
  {
   "cell_type": "code",
   "execution_count": 36,
   "metadata": {},
   "outputs": [],
   "source": [
    "index = ['Reliable improvement','No change','Reliable Deterioration']"
   ]
  },
  {
   "cell_type": "code",
   "execution_count": 37,
   "metadata": {},
   "outputs": [
    {
     "data": {
      "text/html": [
       "<div>\n",
       "<style scoped>\n",
       "    .dataframe tbody tr th:only-of-type {\n",
       "        vertical-align: middle;\n",
       "    }\n",
       "\n",
       "    .dataframe tbody tr th {\n",
       "        vertical-align: top;\n",
       "    }\n",
       "\n",
       "    .dataframe thead th {\n",
       "        text-align: right;\n",
       "    }\n",
       "</style>\n",
       "<table border=\"1\" class=\"dataframe\">\n",
       "  <thead>\n",
       "    <tr style=\"text-align: right;\">\n",
       "      <th></th>\n",
       "      <th>N</th>\n",
       "      <th>%</th>\n",
       "    </tr>\n",
       "  </thead>\n",
       "  <tbody>\n",
       "    <tr>\n",
       "      <th>Reliable improvement</th>\n",
       "      <td>522</td>\n",
       "      <td>30.0</td>\n",
       "    </tr>\n",
       "    <tr>\n",
       "      <th>No change</th>\n",
       "      <td>1190</td>\n",
       "      <td>69.0</td>\n",
       "    </tr>\n",
       "    <tr>\n",
       "      <th>Reliable Deterioration</th>\n",
       "      <td>23</td>\n",
       "      <td>1.0</td>\n",
       "    </tr>\n",
       "  </tbody>\n",
       "</table>\n",
       "</div>"
      ],
      "text/plain": [
       "                           N     %\n",
       "Reliable improvement     522  30.0\n",
       "No change               1190  69.0\n",
       "Reliable Deterioration    23   1.0"
      ]
     },
     "execution_count": 37,
     "metadata": {},
     "output_type": "execute_result"
    }
   ],
   "source": [
    "cwp_rcads_reliable_change_stats = pd.DataFrame({'N':[cwp_rcads_reliable_improvement, cwp_rcads_no_change, cwp_rcads_reliable_deterioration],\n",
    "                                               '%': [np.round((cwp_rcads_reliable_improvement/cwp['rcads_tscore_anx_dep_t2'].count())*100), np.round((cwp_rcads_no_change/cwp['rcads_tscore_anx_dep_t2'].count())*100), np.round((cwp_rcads_reliable_deterioration/cwp['rcads_tscore_anx_dep_t2'].count())*100)]})\n",
    "cwp_rcads_reliable_change_stats.index = index\n",
    "cwp_rcads_reliable_change_stats"
   ]
  },
  {
   "cell_type": "markdown",
   "metadata": {},
   "source": [
    "SDQ Reliable Change"
   ]
  },
  {
   "cell_type": "code",
   "execution_count": 38,
   "metadata": {},
   "outputs": [
    {
     "data": {
      "text/html": [
       "<div>\n",
       "<style scoped>\n",
       "    .dataframe tbody tr th:only-of-type {\n",
       "        vertical-align: middle;\n",
       "    }\n",
       "\n",
       "    .dataframe tbody tr th {\n",
       "        vertical-align: top;\n",
       "    }\n",
       "\n",
       "    .dataframe thead th {\n",
       "        text-align: right;\n",
       "    }\n",
       "</style>\n",
       "<table border=\"1\" class=\"dataframe\">\n",
       "  <thead>\n",
       "    <tr style=\"text-align: right;\">\n",
       "      <th></th>\n",
       "      <th>N</th>\n",
       "      <th>%</th>\n",
       "    </tr>\n",
       "  </thead>\n",
       "  <tbody>\n",
       "    <tr>\n",
       "      <th>Reliable improvement</th>\n",
       "      <td>122</td>\n",
       "      <td>12.0</td>\n",
       "    </tr>\n",
       "    <tr>\n",
       "      <th>No change</th>\n",
       "      <td>918</td>\n",
       "      <td>88.0</td>\n",
       "    </tr>\n",
       "    <tr>\n",
       "      <th>Reliable Deterioration</th>\n",
       "      <td>5</td>\n",
       "      <td>0.0</td>\n",
       "    </tr>\n",
       "  </tbody>\n",
       "</table>\n",
       "</div>"
      ],
      "text/plain": [
       "                          N     %\n",
       "Reliable improvement    122  12.0\n",
       "No change               918  88.0\n",
       "Reliable Deterioration    5   0.0"
      ]
     },
     "execution_count": 38,
     "metadata": {},
     "output_type": "execute_result"
    }
   ],
   "source": [
    "cwp_sdq_reliable_change_stats = pd.DataFrame({'N':[cwp_sdq_reliable_improvement, cwp_sdq_no_change, cwp_sdq_reliable_deterioration],\n",
    "                                               '%': [np.round((cwp_sdq_reliable_improvement/cwp['sdq_total_t2'].count())*100), np.round((cwp_sdq_no_change/cwp['sdq_total_t2'].count())*100), np.round((cwp_sdq_reliable_deterioration/cwp['sdq_total_t2'].count())*100)]})\n",
    "cwp_sdq_reliable_change_stats.index = index\n",
    "cwp_sdq_reliable_change_stats"
   ]
  },
  {
   "cell_type": "markdown",
   "metadata": {},
   "source": [
    "GBO Reliable Change"
   ]
  },
  {
   "cell_type": "code",
   "execution_count": 39,
   "metadata": {},
   "outputs": [
    {
     "data": {
      "text/html": [
       "<div>\n",
       "<style scoped>\n",
       "    .dataframe tbody tr th:only-of-type {\n",
       "        vertical-align: middle;\n",
       "    }\n",
       "\n",
       "    .dataframe tbody tr th {\n",
       "        vertical-align: top;\n",
       "    }\n",
       "\n",
       "    .dataframe thead th {\n",
       "        text-align: right;\n",
       "    }\n",
       "</style>\n",
       "<table border=\"1\" class=\"dataframe\">\n",
       "  <thead>\n",
       "    <tr style=\"text-align: right;\">\n",
       "      <th></th>\n",
       "      <th>N</th>\n",
       "      <th>%</th>\n",
       "    </tr>\n",
       "  </thead>\n",
       "  <tbody>\n",
       "    <tr>\n",
       "      <th>Reliable improvement</th>\n",
       "      <td>1524</td>\n",
       "      <td>45.0</td>\n",
       "    </tr>\n",
       "    <tr>\n",
       "      <th>No change</th>\n",
       "      <td>1838</td>\n",
       "      <td>55.0</td>\n",
       "    </tr>\n",
       "    <tr>\n",
       "      <th>Reliable Deterioration</th>\n",
       "      <td>7</td>\n",
       "      <td>0.0</td>\n",
       "    </tr>\n",
       "  </tbody>\n",
       "</table>\n",
       "</div>"
      ],
      "text/plain": [
       "                           N     %\n",
       "Reliable improvement    1524  45.0\n",
       "No change               1838  55.0\n",
       "Reliable Deterioration     7   0.0"
      ]
     },
     "execution_count": 39,
     "metadata": {},
     "output_type": "execute_result"
    }
   ],
   "source": [
    "cwp_gbo_reliable_change_stats = pd.DataFrame({'N':[cwp_gbo_reliable_improvement, cwp_gbo_no_change, cwp_gbo_reliable_deterioration],\n",
    "                                               '%': [np.round((cwp_gbo_reliable_improvement/cwp['goals_g1score_t2'].count())*100), np.round((cwp_gbo_no_change/cwp['goals_g1score_t2'].count())*100), np.round((cwp_gbo_reliable_deterioration/cwp['goals_g1score_t2'].count())*100)]})\n",
    "cwp_gbo_reliable_change_stats.index = index\n",
    "cwp_gbo_reliable_change_stats"
   ]
  },
  {
   "cell_type": "markdown",
   "metadata": {},
   "source": [
    "<b>EMHP</b>"
   ]
  },
  {
   "cell_type": "markdown",
   "metadata": {},
   "source": [
    "RCADS Reliable Change"
   ]
  },
  {
   "cell_type": "code",
   "execution_count": 40,
   "metadata": {},
   "outputs": [
    {
     "data": {
      "text/html": [
       "<div>\n",
       "<style scoped>\n",
       "    .dataframe tbody tr th:only-of-type {\n",
       "        vertical-align: middle;\n",
       "    }\n",
       "\n",
       "    .dataframe tbody tr th {\n",
       "        vertical-align: top;\n",
       "    }\n",
       "\n",
       "    .dataframe thead th {\n",
       "        text-align: right;\n",
       "    }\n",
       "</style>\n",
       "<table border=\"1\" class=\"dataframe\">\n",
       "  <thead>\n",
       "    <tr style=\"text-align: right;\">\n",
       "      <th></th>\n",
       "      <th>N</th>\n",
       "      <th>%</th>\n",
       "    </tr>\n",
       "  </thead>\n",
       "  <tbody>\n",
       "    <tr>\n",
       "      <th>Reliable improvement</th>\n",
       "      <td>78</td>\n",
       "      <td>34.0</td>\n",
       "    </tr>\n",
       "    <tr>\n",
       "      <th>No change</th>\n",
       "      <td>150</td>\n",
       "      <td>65.0</td>\n",
       "    </tr>\n",
       "    <tr>\n",
       "      <th>Reliable Deterioration</th>\n",
       "      <td>2</td>\n",
       "      <td>1.0</td>\n",
       "    </tr>\n",
       "  </tbody>\n",
       "</table>\n",
       "</div>"
      ],
      "text/plain": [
       "                          N     %\n",
       "Reliable improvement     78  34.0\n",
       "No change               150  65.0\n",
       "Reliable Deterioration    2   1.0"
      ]
     },
     "execution_count": 40,
     "metadata": {},
     "output_type": "execute_result"
    }
   ],
   "source": [
    "emhp_rcads_reliable_change_stats = pd.DataFrame({'N':[emhp_rcads_reliable_improvement, emhp_rcads_no_change, emhp_rcads_reliable_deterioration],\n",
    "                                               '%': [np.round((emhp_rcads_reliable_improvement/emhp['rcads_tscore_anx_dep_t2'].count())*100), np.round((emhp_rcads_no_change/emhp['rcads_tscore_anx_dep_t2'].count())*100), np.round((emhp_rcads_reliable_deterioration/emhp['rcads_tscore_anx_dep_t2'].count())*100)]})\n",
    "emhp_rcads_reliable_change_stats.index = index\n",
    "emhp_rcads_reliable_change_stats"
   ]
  },
  {
   "cell_type": "markdown",
   "metadata": {},
   "source": [
    "SDQ Reliable Change"
   ]
  },
  {
   "cell_type": "code",
   "execution_count": 41,
   "metadata": {},
   "outputs": [
    {
     "data": {
      "text/html": [
       "<div>\n",
       "<style scoped>\n",
       "    .dataframe tbody tr th:only-of-type {\n",
       "        vertical-align: middle;\n",
       "    }\n",
       "\n",
       "    .dataframe tbody tr th {\n",
       "        vertical-align: top;\n",
       "    }\n",
       "\n",
       "    .dataframe thead th {\n",
       "        text-align: right;\n",
       "    }\n",
       "</style>\n",
       "<table border=\"1\" class=\"dataframe\">\n",
       "  <thead>\n",
       "    <tr style=\"text-align: right;\">\n",
       "      <th></th>\n",
       "      <th>N</th>\n",
       "      <th>%</th>\n",
       "    </tr>\n",
       "  </thead>\n",
       "  <tbody>\n",
       "    <tr>\n",
       "      <th>Reliable improvement</th>\n",
       "      <td>16</td>\n",
       "      <td>13.0</td>\n",
       "    </tr>\n",
       "    <tr>\n",
       "      <th>No change</th>\n",
       "      <td>104</td>\n",
       "      <td>85.0</td>\n",
       "    </tr>\n",
       "    <tr>\n",
       "      <th>Reliable Deterioration</th>\n",
       "      <td>2</td>\n",
       "      <td>2.0</td>\n",
       "    </tr>\n",
       "  </tbody>\n",
       "</table>\n",
       "</div>"
      ],
      "text/plain": [
       "                          N     %\n",
       "Reliable improvement     16  13.0\n",
       "No change               104  85.0\n",
       "Reliable Deterioration    2   2.0"
      ]
     },
     "execution_count": 41,
     "metadata": {},
     "output_type": "execute_result"
    }
   ],
   "source": [
    "emhp_sdq_reliable_change_stats = pd.DataFrame({'N':[emhp_sdq_reliable_improvement, emhp_sdq_no_change, emhp_sdq_reliable_deterioration],\n",
    "                                               '%': [np.round((emhp_sdq_reliable_improvement/emhp['sdq_total_t2'].count())*100), np.round((emhp_sdq_no_change/emhp['sdq_total_t2'].count())*100), np.round((emhp_sdq_reliable_deterioration/emhp['sdq_total_t2'].count())*100)]})\n",
    "emhp_sdq_reliable_change_stats.index = index\n",
    "emhp_sdq_reliable_change_stats"
   ]
  },
  {
   "cell_type": "markdown",
   "metadata": {},
   "source": [
    "GBO Reliable Change"
   ]
  },
  {
   "cell_type": "code",
   "execution_count": 42,
   "metadata": {},
   "outputs": [
    {
     "data": {
      "text/html": [
       "<div>\n",
       "<style scoped>\n",
       "    .dataframe tbody tr th:only-of-type {\n",
       "        vertical-align: middle;\n",
       "    }\n",
       "\n",
       "    .dataframe tbody tr th {\n",
       "        vertical-align: top;\n",
       "    }\n",
       "\n",
       "    .dataframe thead th {\n",
       "        text-align: right;\n",
       "    }\n",
       "</style>\n",
       "<table border=\"1\" class=\"dataframe\">\n",
       "  <thead>\n",
       "    <tr style=\"text-align: right;\">\n",
       "      <th></th>\n",
       "      <th>N</th>\n",
       "      <th>%</th>\n",
       "    </tr>\n",
       "  </thead>\n",
       "  <tbody>\n",
       "    <tr>\n",
       "      <th>Reliable improvement</th>\n",
       "      <td>89</td>\n",
       "      <td>40.0</td>\n",
       "    </tr>\n",
       "    <tr>\n",
       "      <th>No change</th>\n",
       "      <td>133</td>\n",
       "      <td>60.0</td>\n",
       "    </tr>\n",
       "    <tr>\n",
       "      <th>Reliable Deterioration</th>\n",
       "      <td>0</td>\n",
       "      <td>0.0</td>\n",
       "    </tr>\n",
       "  </tbody>\n",
       "</table>\n",
       "</div>"
      ],
      "text/plain": [
       "                          N     %\n",
       "Reliable improvement     89  40.0\n",
       "No change               133  60.0\n",
       "Reliable Deterioration    0   0.0"
      ]
     },
     "execution_count": 42,
     "metadata": {},
     "output_type": "execute_result"
    }
   ],
   "source": [
    "emhp_gbo_reliable_change_stats = pd.DataFrame({'N':[emhp_gbo_reliable_improvement, emhp_gbo_no_change, emhp_gbo_reliable_deterioration],\n",
    "                                               '%': [np.round((emhp_gbo_reliable_improvement/emhp['goals_g1score_t2'].count())*100), np.round((emhp_gbo_no_change/emhp['goals_g1score_t2'].count())*100), np.round((emhp_gbo_reliable_deterioration/emhp['goals_g1score_t2'].count())*100)]})\n",
    "emhp_gbo_reliable_change_stats.index = index\n",
    "emhp_gbo_reliable_change_stats"
   ]
  },
  {
   "cell_type": "markdown",
   "metadata": {},
   "source": [
    "<b>CWP</b>"
   ]
  },
  {
   "cell_type": "code",
   "execution_count": 43,
   "metadata": {},
   "outputs": [
    {
     "data": {
      "text/html": [
       "<div>\n",
       "<style scoped>\n",
       "    .dataframe tbody tr th:only-of-type {\n",
       "        vertical-align: middle;\n",
       "    }\n",
       "\n",
       "    .dataframe tbody tr th {\n",
       "        vertical-align: top;\n",
       "    }\n",
       "\n",
       "    .dataframe thead th {\n",
       "        text-align: right;\n",
       "    }\n",
       "</style>\n",
       "<table border=\"1\" class=\"dataframe\">\n",
       "  <thead>\n",
       "    <tr style=\"text-align: right;\">\n",
       "      <th></th>\n",
       "      <th>% Recovered</th>\n",
       "      <th>% Non Recovered</th>\n",
       "    </tr>\n",
       "  </thead>\n",
       "  <tbody>\n",
       "    <tr>\n",
       "      <th>RCADS</th>\n",
       "      <td>79.0</td>\n",
       "      <td>21.0</td>\n",
       "    </tr>\n",
       "    <tr>\n",
       "      <th>SDQ</th>\n",
       "      <td>72.0</td>\n",
       "      <td>28.0</td>\n",
       "    </tr>\n",
       "  </tbody>\n",
       "</table>\n",
       "</div>"
      ],
      "text/plain": [
       "       % Recovered  % Non Recovered\n",
       "RCADS         79.0             21.0\n",
       "SDQ           72.0             28.0"
      ]
     },
     "execution_count": 43,
     "metadata": {},
     "output_type": "execute_result"
    }
   ],
   "source": [
    "cwp_recovery_stats = pd.DataFrame({'% Recovered': [cwp_rcads_recovery_percentage, cwp_sdq_recovery_percentage],\n",
    "                                        '% Non Recovered': [cwp_rcads_not_recovered_percentage, cwp_sdq_not_recovered_percentage]})\n",
    "cwp_recovery_stats.index = ['RCADS','SDQ']\n",
    "cwp_recovery_stats"
   ]
  },
  {
   "cell_type": "markdown",
   "metadata": {},
   "source": [
    "<b>EMHP</b>"
   ]
  },
  {
   "cell_type": "code",
   "execution_count": 44,
   "metadata": {},
   "outputs": [
    {
     "data": {
      "text/html": [
       "<div>\n",
       "<style scoped>\n",
       "    .dataframe tbody tr th:only-of-type {\n",
       "        vertical-align: middle;\n",
       "    }\n",
       "\n",
       "    .dataframe tbody tr th {\n",
       "        vertical-align: top;\n",
       "    }\n",
       "\n",
       "    .dataframe thead th {\n",
       "        text-align: right;\n",
       "    }\n",
       "</style>\n",
       "<table border=\"1\" class=\"dataframe\">\n",
       "  <thead>\n",
       "    <tr style=\"text-align: right;\">\n",
       "      <th></th>\n",
       "      <th>% Recovered</th>\n",
       "      <th>% Non Recovered</th>\n",
       "    </tr>\n",
       "  </thead>\n",
       "  <tbody>\n",
       "    <tr>\n",
       "      <th>RCADS</th>\n",
       "      <td>80.0</td>\n",
       "      <td>20.0</td>\n",
       "    </tr>\n",
       "    <tr>\n",
       "      <th>SDQ</th>\n",
       "      <td>71.0</td>\n",
       "      <td>29.0</td>\n",
       "    </tr>\n",
       "  </tbody>\n",
       "</table>\n",
       "</div>"
      ],
      "text/plain": [
       "       % Recovered  % Non Recovered\n",
       "RCADS         80.0             20.0\n",
       "SDQ           71.0             29.0"
      ]
     },
     "execution_count": 44,
     "metadata": {},
     "output_type": "execute_result"
    }
   ],
   "source": [
    "emhp_recovery_stats = pd.DataFrame({'% Recovered': [emhp_rcads_recovery_percentage, emhp_sdq_recovery_percentage],\n",
    "                                        '% Non Recovered': [emhp_rcads_not_recovered_percentage, emhp_sdq_not_recovered_percentage]})\n",
    "emhp_recovery_stats.index = ['RCADS','SDQ']\n",
    "emhp_recovery_stats"
   ]
  },
  {
   "cell_type": "markdown",
   "metadata": {},
   "source": [
    "<b>CWP</b>"
   ]
  },
  {
   "cell_type": "code",
   "execution_count": 45,
   "metadata": {},
   "outputs": [
    {
     "data": {
      "text/html": [
       "<div>\n",
       "<style scoped>\n",
       "    .dataframe tbody tr th:only-of-type {\n",
       "        vertical-align: middle;\n",
       "    }\n",
       "\n",
       "    .dataframe tbody tr th {\n",
       "        vertical-align: top;\n",
       "    }\n",
       "\n",
       "    .dataframe thead th {\n",
       "        text-align: right;\n",
       "    }\n",
       "</style>\n",
       "<table border=\"1\" class=\"dataframe\">\n",
       "  <thead>\n",
       "    <tr style=\"text-align: right;\">\n",
       "      <th></th>\n",
       "      <th>% Recovered</th>\n",
       "      <th>% Not Recovered</th>\n",
       "    </tr>\n",
       "  </thead>\n",
       "  <tbody>\n",
       "    <tr>\n",
       "      <th>RCADS</th>\n",
       "      <td>20.0</td>\n",
       "      <td>80.0</td>\n",
       "    </tr>\n",
       "    <tr>\n",
       "      <th>SDQ</th>\n",
       "      <td>9.0</td>\n",
       "      <td>91.0</td>\n",
       "    </tr>\n",
       "  </tbody>\n",
       "</table>\n",
       "</div>"
      ],
      "text/plain": [
       "       % Recovered  % Not Recovered\n",
       "RCADS         20.0             80.0\n",
       "SDQ            9.0             91.0"
      ]
     },
     "execution_count": 45,
     "metadata": {},
     "output_type": "execute_result"
    }
   ],
   "source": [
    "cwp_rcads_reliable_recovery_percentage = np.round((cwp_rcads_reliable_recovery/cwp['rcads_tscore_anx_dep_t2'].count())*100)\n",
    "cwp_sdq_reliable_recovery_percentage = np.round((cwp_sdq_reliable_recovery/cwp['sdq_total_t2'].count())*100)\n",
    "cwp_rcads_non_reliable_recovery_percentage = 100 - cwp_rcads_reliable_recovery_percentage\n",
    "cwp_sdq_non_reliable_recovery_percentage = 100 - cwp_sdq_reliable_recovery_percentage\n",
    "\n",
    "cwp_reliable_recovery_stats = pd.DataFrame({'% Recovered': [cwp_rcads_reliable_recovery_percentage, cwp_sdq_reliable_recovery_percentage],\n",
    "                                           '% Not Recovered': [cwp_rcads_non_reliable_recovery_percentage, cwp_sdq_non_reliable_recovery_percentage]})\n",
    "cwp_reliable_recovery_stats.index = ['RCADS','SDQ']\n",
    "cwp_reliable_recovery_stats"
   ]
  },
  {
   "cell_type": "markdown",
   "metadata": {},
   "source": [
    "<b>EMHP</b>"
   ]
  },
  {
   "cell_type": "code",
   "execution_count": 46,
   "metadata": {},
   "outputs": [
    {
     "data": {
      "text/html": [
       "<div>\n",
       "<style scoped>\n",
       "    .dataframe tbody tr th:only-of-type {\n",
       "        vertical-align: middle;\n",
       "    }\n",
       "\n",
       "    .dataframe tbody tr th {\n",
       "        vertical-align: top;\n",
       "    }\n",
       "\n",
       "    .dataframe thead th {\n",
       "        text-align: right;\n",
       "    }\n",
       "</style>\n",
       "<table border=\"1\" class=\"dataframe\">\n",
       "  <thead>\n",
       "    <tr style=\"text-align: right;\">\n",
       "      <th></th>\n",
       "      <th>% Recovered</th>\n",
       "      <th>% Not Recovered</th>\n",
       "    </tr>\n",
       "  </thead>\n",
       "  <tbody>\n",
       "    <tr>\n",
       "      <th>RCADS</th>\n",
       "      <td>25.0</td>\n",
       "      <td>75.0</td>\n",
       "    </tr>\n",
       "    <tr>\n",
       "      <th>SDQ</th>\n",
       "      <td>20.0</td>\n",
       "      <td>80.0</td>\n",
       "    </tr>\n",
       "  </tbody>\n",
       "</table>\n",
       "</div>"
      ],
      "text/plain": [
       "       % Recovered  % Not Recovered\n",
       "RCADS         25.0             75.0\n",
       "SDQ           20.0             80.0"
      ]
     },
     "execution_count": 46,
     "metadata": {},
     "output_type": "execute_result"
    }
   ],
   "source": [
    "emhp_rcads_reliable_recovery_percentage = np.round((emhp_rcads_reliable_recovery/emhp['rcads_tscore_anx_dep_t2'].count())*100)\n",
    "emhp_sdq_reliable_recovery_percentage = np.round((emhp_sdq_reliable_recovery/emhp['sdq_total_t2'].count())*100)\n",
    "emhp_rcads_non_reliable_recovery_percentage = 100 - emhp_rcads_reliable_recovery_percentage\n",
    "emhp_sdq_non_reliable_recovery_percentage = 100 - emhp_sdq_reliable_recovery_percentage\n",
    "\n",
    "emhp_reliable_recovery_stats = pd.DataFrame({'% Recovered': [emhp_rcads_reliable_recovery_percentage, emhp_sdq_reliable_recovery_percentage],\n",
    "                                           '% Not Recovered': [emhp_rcads_non_reliable_recovery_percentage, emhp_sdq_non_reliable_recovery_percentage]})\n",
    "emhp_reliable_recovery_stats.index = ['RCADS','SDQ']\n",
    "emhp_reliable_recovery_stats"
   ]
  },
  {
   "cell_type": "markdown",
   "metadata": {},
   "source": [
    "<b>Overall: CWP</b>"
   ]
  },
  {
   "cell_type": "code",
   "execution_count": 60,
   "metadata": {},
   "outputs": [],
   "source": [
    "cwp_reliably_improved = 0"
   ]
  },
  {
   "cell_type": "code",
   "execution_count": 61,
   "metadata": {},
   "outputs": [],
   "source": [
    "for index, row in cwp.iterrows():\n",
    "    goal_average_change = ((row['goals_g1score_t2']+row['goals_g2score_t2']+row['goals_g3score_t2'])/3) - ((row['goals_g1score_t1']+row['goals_g2score_t1']+row['goals_g3score_t1'])/3)\n",
    "    if row['rcads_tscore_anx_dep_t1'] - row['rcads_tscore_anx_dep_t2'] > reliable_change_criterions['cwp_rcads'].mean():\n",
    "        cwp_reliably_improved += 1\n",
    "    elif row['sdq_total_t1'] - row['sdq_total_t2'] > reliable_change_criterions['cwp_sdq'].mean():\n",
    "        cwp_reliably_improved += 1\n",
    "    elif goal_average_change > 2.45:\n",
    "        cwp_reliably_improved += 1"
   ]
  },
  {
   "cell_type": "code",
   "execution_count": 62,
   "metadata": {},
   "outputs": [
    {
     "name": "stdout",
     "output_type": "stream",
     "text": [
      "32.0\n"
     ]
    }
   ],
   "source": [
    "cwp_reliably_improved_percentage = np.round((cwp_reliably_improved/cwp.shape[0])*100)\n",
    "print(cwp_reliably_improved_percentage)"
   ]
  },
  {
   "cell_type": "markdown",
   "metadata": {},
   "source": [
    "<b>Overall: EMHP</b>"
   ]
  },
  {
   "cell_type": "code",
   "execution_count": 63,
   "metadata": {},
   "outputs": [],
   "source": [
    "emhp_reliably_improved = 0"
   ]
  },
  {
   "cell_type": "code",
   "execution_count": 64,
   "metadata": {},
   "outputs": [],
   "source": [
    "for index, row in emhp.iterrows():\n",
    "    goal_average_change = ((row['goals_g1score_t2']+row['goals_g2score_t2']+row['goals_g3score_t2'])/3) - ((row['goals_g1score_t1']+row['goals_g2score_t1']+row['goals_g3score_t1'])/3)\n",
    "    if row['rcads_tscore_anx_dep_t1'] - row['rcads_tscore_anx_dep_t2'] > reliable_change_criterions['emhp_rcads'].mean():\n",
    "        emhp_reliably_improved += 1\n",
    "    elif row['sdq_total_t1'] - row['sdq_total_t2'] > reliable_change_criterions['emhp_sdq'].mean():\n",
    "        emhp_reliably_improved += 1\n",
    "    elif goal_average_change > 2.45:\n",
    "        emhp_reliably_improved += 1"
   ]
  },
  {
   "cell_type": "code",
   "execution_count": 65,
   "metadata": {},
   "outputs": [
    {
     "name": "stdout",
     "output_type": "stream",
     "text": [
      "14.0\n"
     ]
    }
   ],
   "source": [
    "emhp_reliably_improved_percentage = np.round((emhp_reliably_improved/emhp.shape[0])*100)\n",
    "print(emhp_reliably_improved_percentage)"
   ]
  },
  {
   "cell_type": "code",
   "execution_count": null,
   "metadata": {},
   "outputs": [],
   "source": []
  }
 ],
 "metadata": {
  "kernelspec": {
   "display_name": "Python 3",
   "language": "python",
   "name": "python3"
  },
  "language_info": {
   "codemirror_mode": {
    "name": "ipython",
    "version": 3
   },
   "file_extension": ".py",
   "mimetype": "text/x-python",
   "name": "python",
   "nbconvert_exporter": "python",
   "pygments_lexer": "ipython3",
   "version": "3.8.3"
  }
 },
 "nbformat": 4,
 "nbformat_minor": 4
}
